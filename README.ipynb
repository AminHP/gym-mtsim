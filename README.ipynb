{
 "cells": [
  {
   "cell_type": "markdown",
   "metadata": {},
   "source": [
    "# gym-mtsim: OpenAI Gym - MetaTrader 5 Simulator\n",
    "\n",
    "`MtSim` is a simulator for the [MetaTrader 5](https://www.metatrader5.com) trading platform alongside an [OpenAI Gym](https://github.com/openai/gym) environment for reinforcement learning-based trading algorithms. `MetaTrader 5` is a **multi-asset** platform that allows trading **Forex**, **Stocks**, **Crypto**, and Futures. It is one of the most popular trading platforms and supports numerous useful features, such as opening demo accounts on various brokers.\n",
    "\n",
    "The simulator is separated from the Gym environment and can work independently. Although the Gym environment is designed to be suitable for RL frameworks, it is also proper for backtesting and classic analysis.\n",
    "\n",
    "The goal of this project was to provide a *general-purpose*, *flexible*, and *easy-to-use* library with a focus on *code readability* that enables users to do all parts of the trading process through it from 0 to 100. So, `gym-mtsim` is not just a testing tool or a Gym environment. It is a combination of a **real-world** simulator, a **backtesting** tool with *high detail visualization*, and a **Gym environment** appropriate for RL/classic algorithms.\n",
    "\n",
    "**Note:** For beginners, it is recommended to check out the [gym-anytrading](https://github.com/AminHP/gym-anytrading) project."
   ]
  },
  {
   "cell_type": "markdown",
   "metadata": {},
   "source": [
    "## Prerequisites\n",
    "\n",
    "### Install MetaTrader 5\n",
    "Download and install MetaTrader 5 software from [here](https://www.metatrader5.com/en/download).\n",
    "\n",
    "Open a demo account on any broker. By default, the software opens a demo account automatically after installation.\n",
    "\n",
    "Explore the software and try to get familiar with it by trading different symbols in both **hedged** and **unhedged** accounts.\n",
    "\n",
    "### Install gym-mtsim\n",
    "\n",
    "#### Via PIP\n",
    "```bash\n",
    "pip install gym-mtsim\n",
    "```\n",
    "\n",
    "#### From Repository\n",
    "```bash\n",
    "git clone https://github.com/AminHP/gym-mtsim\n",
    "cd gym-mtsim\n",
    "pip install -e .\n",
    "\n",
    "## or\n",
    "\n",
    "pip install --upgrade --no-deps --force-reinstall https://github.com/AminHP/gym-mtsim/archive/main.zip\n",
    "```\n",
    "\n",
    "### Install stable-baselines3\n",
    "This package is required to run some examples. Install it from [here](https://github.com/DLR-RM/stable-baselines3#installation)."
   ]
  },
  {
   "cell_type": "markdown",
   "metadata": {},
   "source": [
    "## Components"
   ]
  },
  {
   "cell_type": "markdown",
   "metadata": {},
   "source": [
    "### 1. SymbolInfo\n",
    "\n",
    "This is a data class that contains the essential properties of a symbol. Try to get fully acquainted with [these properties](https://github.com/AminHP/gym-mtsim/blob/main/gym_mtsim/metatrader/symbol.py) in case they are unfamiliar. There are plenty of resources that provide good explanations."
   ]
  },
  {
   "cell_type": "markdown",
   "metadata": {},
   "source": [
    "### 2. Order\n",
    "\n",
    "This is another data class that consists of information of an order. Each order has the following properties:\n",
    "\n",
    "> `id`: A unique number that helps with tracking orders.\n",
    ">\n",
    "> `type`: An enum that specifies the type of the order. It can be either **Buy** or **Sell**.\n",
    ">\n",
    "> `symbol`: The symbol selected for the order.\n",
    ">\n",
    "> `volume`: The volume chose for the order. It can be a multiple of *volume_step* between *volume_min* and *volume_max*. \n",
    ">\n",
    "> `fee`: It is a tricky property. In MetaTrader, there is *no* such concept called fee. Each symbol has bid and ask prices, the difference between which represents the **fee**. Although MetaTrader API provides these bid/ask prices for the recent past, it is not possible to access them for the distant past. Therefore, the **fee** property helps to manage the mentioned difference.\n",
    ">\n",
    "> `entry_time`: The time when the order was placed.\n",
    ">\n",
    "> `entry_price`: The **close** price when the order was placed.\n",
    ">\n",
    "> `exit_time`: The time when the order was closed.\n",
    ">\n",
    "> `exit_price`: The **close** price when the order was closed.\n",
    ">\n",
    "> `profit`: The amount of profit earned by this order so far.\n",
    ">\n",
    "> `margin`: The required amount of margin for this order.\n",
    ">\n",
    "> `closed`: A boolean that specifies whether this order is closed or not."
   ]
  },
  {
   "attachments": {},
   "cell_type": "markdown",
   "metadata": {},
   "source": [
    "### 3. MtSimulator\n",
    "\n",
    "This is the core class that simulates the main parts of MetaTrader. Most of its public properties and methods are explained here. But feel free to take a look at the complete [source code](https://github.com/AminHP/gym-mtsim/blob/main/gym_mtsim/simulator/mt_simulator.py).\n",
    "\n",
    "* Properties:\n",
    "\n",
    "    > `unit`: The unit currency. It is usually *USD*, but it can be anything the broker allows, such as *EUR*.\n",
    "    >\n",
    "    > `balance`: The amount of money before taking into account any open positions.\n",
    "    >\n",
    "    > `equity`: The amount of money, including the value of any open positions.\n",
    "    >\n",
    "    > `margin`: The amount of money which is required for having positions opened.\n",
    "    >\n",
    "    > `leverage`: The leverage ratio.\n",
    "    >\n",
    "    > `free_margin`: The amount of money that is available to open new positions.\n",
    "    >\n",
    "    > `margin_level`: The ratio between **equity** and **margin**.\n",
    "    >\n",
    "    > `stop_out_level`: If the **margin_level** drops below **stop_out_level**, the most unprofitable position will be closed automatically by the broker.\n",
    "    >\n",
    "    > `hedge`: A boolean that specifies whether hedging is enabled or not.\n",
    "    >\n",
    "    > `symbols_info`: A dictionary that contains symbols' information.\n",
    "    >\n",
    "    > `symbols_data`: A dictionary that contains symbols' OHLCV data.\n",
    "    >\n",
    "    > `orders`: The list of open orders.\n",
    "    >\n",
    "    > `closed_orders`: The list of closed orders.\n",
    "    >\n",
    "    > `current_time`: The current time of the system.\n",
    "\n",
    "* Methods:\n",
    "\n",
    "    > `download_data`: Downloads required data from MetaTrader for a list of symbols in a time range. This method can be overridden in order to download data from servers other than MetaTrader. *Note that this method only works on Windows, as the MetaTrader5 Python package is not available on other platforms.*\n",
    "    >\n",
    "    > `save_symbols`: Saves the downloaded symbols' data to a file.\n",
    "    >\n",
    "    > `load_symbols`: Loads the symbols' data from a file.\n",
    "    >\n",
    "    > `tick`: Moves forward in time (by a delta time) and updates orders and other related properties.\n",
    "    >\n",
    "    > `create_order`: Creates a **Buy** or **Sell** order and updates related properties.\n",
    "    >\n",
    "    > `close_order`: Closes an order and updates related properties.\n",
    "    >\n",
    "    > `get_state`: Returns the state of the system. The result is similar to the *Trading tab* and *History tab* of the *Toolbox window* in MetaTrader software."
   ]
  },
  {
   "cell_type": "markdown",
   "metadata": {},
   "source": [
    "### 4. MtEnv\n",
    "\n",
    "This is the Gym environment that works on top of the *MtSim*. Most of its public properties and methods are explained here. But feel free to take a look at the complete [source code](https://github.com/AminHP/gym-mtsim/blob/main/gym_mtsim/envs/mt_env.py).\n",
    "\n",
    "* Properties:\n",
    "\n",
    "    > `original_simulator`: An instance of **MtSim** class as a baseline for simulating the system.\n",
    "    >\n",
    "    > `simulator`: The current simulator in use. It is a copy of the **original_simulator**.\n",
    "    >\n",
    "    > `trading_symbols`: The list of symbols to trade.\n",
    "    >\n",
    "    > `time_points`: A list of time points based on which the simulator moves time. The default value is taken from the *pandas DataFrame.Index* of the first symbol in the **trading_symbols** list.\n",
    "    >\n",
    "    > `hold_threshold`: A probability threshold that controls holding or placing a new order.\n",
    "    >\n",
    "    > `close_threshold`: A probability threshold that controls closing an order.\n",
    "    >\n",
    "    > `fee`: A constant number or a callable that takes a *symbol* as input and returns the **fee** based on that.\n",
    "    >\n",
    "    > `symbol_max_orders`: Specifies the maximum number of open positions per symbol in hedge trading. \n",
    "    >\n",
    "    > `multiprocessing_processes`: Specifies the maximum number of processes used for parallel processing.\n",
    "    >\n",
    "    > `prices`: The symbol prices over time. It is used to calculate signal features and render the environment.\n",
    "    >\n",
    "    > `signal_features`: The extracted features over time. It is used to generate *Gym observations*.\n",
    "    >\n",
    "    > `window_size`: The number of time points (current and previous points) as the length of each observation's features. \n",
    "    >\n",
    "    > `features_shape`: The shape of a single observation's features.\n",
    "    >\n",
    "    > `action_space`: The *Gym action_space* property. It has a complex structure since **stable-baselines** does not support *Dict* or *2D Box* action spaces. The action space is a 1D vector of size `count(trading_symbols) * (symbol_max_orders + 2)`. For each symbol, two types of actions can be performed, closing previous orders and placing a new order. The former is controlled by the first *symbol_max_orders* elements and the latter is controlled by the last two elements. Therefore, the action for each symbol is ***[probability of closing order 1, probability of closing order 2, ..., probability of closing order symbol_max_orders, probability of holding or creating a new order, volume of the new order]***. The last two elements specify whether to hold or place a new order and the volume of the new order (positive volume indicates buy and negative volume indicates sell). These elements are a number in range (-∞, ∞), but the probability values must be in the range [0, 1]. This is a problem with **stable-baselines** as mentioned earlier. To overcome this problem, it is assumed that the probability values belong to the [logit](https://en.wikipedia.org/wiki/Logit) function. So, applying the [expit](https://en.wikipedia.org/wiki/Expit) function on them gives the desired probability values in the range [0, 1]. This function is applied in the **step** method of the environment.\n",
    "    >\n",
    "    > `observation_space`: The *Gym observation_space* property. Each observation contains information about *balance*, *equity*, *margin*, *features*, and *orders*. The **features** is a window on the *signal_features* from index *current_tick - window_size + 1* to *current_tick*. The **orders** is a 3D array. Its first dimension specifies the symbol index in the *trading_symbols* list. The second dimension specifies the order number (each symbol can have more than one open order at the same time in hedge trading). The last dimension has three elements, *entry_price*, *volume*, and *profit* of corresponding order.\n",
    "    >\n",
    "    > `history`: Stores the information of all steps.\n",
    "\n",
    "* Methods:\n",
    "\n",
    "    > `seed`: The typical *Gym seed* method.\n",
    "    >\n",
    "    > `reset`: The typical *Gym reset* method.\n",
    "    >\n",
    "    > `step`: The typical *Gym step* method.\n",
    "    >\n",
    "    > `render`: The typical *Gym render* method. It can render in three modes, **human**, **simple_figure**, and **advanced_figure**.\n",
    "    >\n",
    "    > `close`: The typical *Gym close* method.\n",
    "\n",
    "* Virtual Methods:\n",
    "\n",
    "    > `_get_prices`: It is called in the constructor and calculates symbol **prices**.\n",
    "    >\n",
    "    > `_process_data`: It is called in the constructor and calculates **signal_features**.\n",
    "    >\n",
    "    > `_calculate_reward`: The reward function for the RL agent."
   ]
  },
  {
   "cell_type": "markdown",
   "metadata": {},
   "source": [
    "## A Simple Example"
   ]
  },
  {
   "cell_type": "markdown",
   "metadata": {},
   "source": [
    "### MtSim"
   ]
  },
  {
   "cell_type": "markdown",
   "metadata": {},
   "source": [
    "#### Create a simulator with custom parameters"
   ]
  },
  {
   "cell_type": "code",
   "execution_count": 1,
   "metadata": {},
   "outputs": [],
   "source": [
    "import pytz\n",
    "from datetime import datetime, timedelta\n",
    "from gym_mtsim import MtSimulator, OrderType, Timeframe, FOREX_DATA_PATH\n",
    "\n",
    "\n",
    "sim = MtSimulator(\n",
    "    unit='USD',\n",
    "    balance=10000.,\n",
    "    leverage=100.,\n",
    "    stop_out_level=0.2,\n",
    "    hedge=False,\n",
    ")\n",
    "\n",
    "if not sim.load_symbols(FOREX_DATA_PATH):\n",
    "    sim.download_data(\n",
    "        symbols=['EURUSD', 'GBPCAD', 'GBPUSD', 'USDCAD', 'USDCHF', 'GBPJPY', 'USDJPY'],\n",
    "        time_range=(\n",
    "            datetime(2021, 5, 5, tzinfo=pytz.UTC),\n",
    "            datetime(2021, 9, 5, tzinfo=pytz.UTC)\n",
    "        ),\n",
    "        timeframe=Timeframe.D1\n",
    "    )\n",
    "    sim.save_symbols(FOREX_DATA_PATH)"
   ]
  },
  {
   "cell_type": "markdown",
   "metadata": {},
   "source": [
    "#### Place some orders"
   ]
  },
  {
   "cell_type": "code",
   "execution_count": 2,
   "metadata": {},
   "outputs": [
    {
     "name": "stdout",
     "output_type": "stream",
     "text": [
      "balance: 10000.0, equity: 10717.58118589908, margin: 3375.480933228619\n",
      "free_margin: 7342.1002526704615, margin_level: 3.1751271592500743\n",
      "\n"
     ]
    },
    {
     "data": {
      "text/html": [
       "<div>\n",
       "<style scoped>\n",
       "    .dataframe tbody tr th:only-of-type {\n",
       "        vertical-align: middle;\n",
       "    }\n",
       "\n",
       "    .dataframe tbody tr th {\n",
       "        vertical-align: top;\n",
       "    }\n",
       "\n",
       "    .dataframe thead th {\n",
       "        text-align: right;\n",
       "    }\n",
       "</style>\n",
       "<table border=\"1\" class=\"dataframe\">\n",
       "  <thead>\n",
       "    <tr style=\"text-align: right;\">\n",
       "      <th></th>\n",
       "      <th>Id</th>\n",
       "      <th>Symbol</th>\n",
       "      <th>Type</th>\n",
       "      <th>Volume</th>\n",
       "      <th>Entry Time</th>\n",
       "      <th>Entry Price</th>\n",
       "      <th>Exit Time</th>\n",
       "      <th>Exit Price</th>\n",
       "      <th>Profit</th>\n",
       "      <th>Margin</th>\n",
       "      <th>Fee</th>\n",
       "      <th>Closed</th>\n",
       "    </tr>\n",
       "  </thead>\n",
       "  <tbody>\n",
       "    <tr>\n",
       "      <th>0</th>\n",
       "      <td>2</td>\n",
       "      <td>USDJPY</td>\n",
       "      <td>Sell</td>\n",
       "      <td>2.0</td>\n",
       "      <td>2021-09-01 00:17:52+00:00</td>\n",
       "      <td>110.02500</td>\n",
       "      <td>2021-09-06 00:17:52+00:00</td>\n",
       "      <td>109.71200</td>\n",
       "      <td>552.355257</td>\n",
       "      <td>2000.000000</td>\n",
       "      <td>0.0100</td>\n",
       "      <td>False</td>\n",
       "    </tr>\n",
       "    <tr>\n",
       "      <th>1</th>\n",
       "      <td>1</td>\n",
       "      <td>GBPCAD</td>\n",
       "      <td>Buy</td>\n",
       "      <td>1.0</td>\n",
       "      <td>2021-08-30 00:17:52+00:00</td>\n",
       "      <td>1.73389</td>\n",
       "      <td>2021-09-06 00:17:52+00:00</td>\n",
       "      <td>1.73626</td>\n",
       "      <td>165.225928</td>\n",
       "      <td>1375.480933</td>\n",
       "      <td>0.0003</td>\n",
       "      <td>False</td>\n",
       "    </tr>\n",
       "  </tbody>\n",
       "</table>\n",
       "</div>"
      ],
      "text/plain": [
       "   Id  Symbol  Type  Volume                Entry Time  Entry Price  \\\n",
       "0   2  USDJPY  Sell     2.0 2021-09-01 00:17:52+00:00    110.02500   \n",
       "1   1  GBPCAD   Buy     1.0 2021-08-30 00:17:52+00:00      1.73389   \n",
       "\n",
       "                  Exit Time  Exit Price      Profit       Margin     Fee  \\\n",
       "0 2021-09-06 00:17:52+00:00   109.71200  552.355257  2000.000000  0.0100   \n",
       "1 2021-09-06 00:17:52+00:00     1.73626  165.225928  1375.480933  0.0003   \n",
       "\n",
       "   Closed  \n",
       "0   False  \n",
       "1   False  "
      ]
     },
     "execution_count": 2,
     "metadata": {},
     "output_type": "execute_result"
    }
   ],
   "source": [
    "sim.current_time = datetime(2021, 8, 30, 0, 17, 52, tzinfo=pytz.UTC)\n",
    "\n",
    "order1 = sim.create_order(\n",
    "    order_type=OrderType.Buy,\n",
    "    symbol='GBPCAD',\n",
    "    volume=1.,\n",
    "    fee=0.0003,\n",
    ")\n",
    "\n",
    "sim.tick(timedelta(days=2))\n",
    "\n",
    "order2 = sim.create_order(\n",
    "    order_type=OrderType.Sell,\n",
    "    symbol='USDJPY',\n",
    "    volume=2.,\n",
    "    fee=0.01,\n",
    ")\n",
    "\n",
    "sim.tick(timedelta(days=5))\n",
    "\n",
    "state = sim.get_state()\n",
    "\n",
    "print(\n",
    "    f\"balance: {state['balance']}, equity: {state['equity']}, margin: {state['margin']}\\n\"\n",
    "    f\"free_margin: {state['free_margin']}, margin_level: {state['margin_level']}\\n\"\n",
    ")\n",
    "state['orders']"
   ]
  },
  {
   "cell_type": "markdown",
   "metadata": {},
   "source": [
    "#### Close all orders"
   ]
  },
  {
   "cell_type": "code",
   "execution_count": 3,
   "metadata": {},
   "outputs": [
    {
     "name": "stdout",
     "output_type": "stream",
     "text": [
      "balance: 10717.58118589908, equity: 10717.58118589908, margin: 0.0\n",
      "free_margin: 10717.58118589908, margin_level: inf\n",
      "\n"
     ]
    },
    {
     "data": {
      "text/html": [
       "<div>\n",
       "<style scoped>\n",
       "    .dataframe tbody tr th:only-of-type {\n",
       "        vertical-align: middle;\n",
       "    }\n",
       "\n",
       "    .dataframe tbody tr th {\n",
       "        vertical-align: top;\n",
       "    }\n",
       "\n",
       "    .dataframe thead th {\n",
       "        text-align: right;\n",
       "    }\n",
       "</style>\n",
       "<table border=\"1\" class=\"dataframe\">\n",
       "  <thead>\n",
       "    <tr style=\"text-align: right;\">\n",
       "      <th></th>\n",
       "      <th>Id</th>\n",
       "      <th>Symbol</th>\n",
       "      <th>Type</th>\n",
       "      <th>Volume</th>\n",
       "      <th>Entry Time</th>\n",
       "      <th>Entry Price</th>\n",
       "      <th>Exit Time</th>\n",
       "      <th>Exit Price</th>\n",
       "      <th>Profit</th>\n",
       "      <th>Margin</th>\n",
       "      <th>Fee</th>\n",
       "      <th>Closed</th>\n",
       "    </tr>\n",
       "  </thead>\n",
       "  <tbody>\n",
       "    <tr>\n",
       "      <th>0</th>\n",
       "      <td>2</td>\n",
       "      <td>USDJPY</td>\n",
       "      <td>Sell</td>\n",
       "      <td>2.0</td>\n",
       "      <td>2021-09-01 00:17:52+00:00</td>\n",
       "      <td>110.02500</td>\n",
       "      <td>2021-09-06 00:17:52+00:00</td>\n",
       "      <td>109.71200</td>\n",
       "      <td>552.355257</td>\n",
       "      <td>2000.000000</td>\n",
       "      <td>0.0100</td>\n",
       "      <td>True</td>\n",
       "    </tr>\n",
       "    <tr>\n",
       "      <th>1</th>\n",
       "      <td>1</td>\n",
       "      <td>GBPCAD</td>\n",
       "      <td>Buy</td>\n",
       "      <td>1.0</td>\n",
       "      <td>2021-08-30 00:17:52+00:00</td>\n",
       "      <td>1.73389</td>\n",
       "      <td>2021-09-06 00:17:52+00:00</td>\n",
       "      <td>1.73626</td>\n",
       "      <td>165.225928</td>\n",
       "      <td>1375.480933</td>\n",
       "      <td>0.0003</td>\n",
       "      <td>True</td>\n",
       "    </tr>\n",
       "  </tbody>\n",
       "</table>\n",
       "</div>"
      ],
      "text/plain": [
       "   Id  Symbol  Type  Volume                Entry Time  Entry Price  \\\n",
       "0   2  USDJPY  Sell     2.0 2021-09-01 00:17:52+00:00    110.02500   \n",
       "1   1  GBPCAD   Buy     1.0 2021-08-30 00:17:52+00:00      1.73389   \n",
       "\n",
       "                  Exit Time  Exit Price      Profit       Margin     Fee  \\\n",
       "0 2021-09-06 00:17:52+00:00   109.71200  552.355257  2000.000000  0.0100   \n",
       "1 2021-09-06 00:17:52+00:00     1.73626  165.225928  1375.480933  0.0003   \n",
       "\n",
       "   Closed  \n",
       "0    True  \n",
       "1    True  "
      ]
     },
     "execution_count": 3,
     "metadata": {},
     "output_type": "execute_result"
    }
   ],
   "source": [
    "order1_profit = sim.close_order(order1)\n",
    "order2_profit = sim.close_order(order2)\n",
    "\n",
    "# alternatively:\n",
    "# for order in sim.orders:\n",
    "#     sim.close_order(order)\n",
    "\n",
    "state = sim.get_state()\n",
    "\n",
    "print(\n",
    "    f\"balance: {state['balance']}, equity: {state['equity']}, margin: {state['margin']}\\n\"\n",
    "    f\"free_margin: {state['free_margin']}, margin_level: {state['margin_level']}\\n\"\n",
    ")\n",
    "state['orders']"
   ]
  },
  {
   "cell_type": "markdown",
   "metadata": {},
   "source": [
    "### MtEnv"
   ]
  },
  {
   "cell_type": "markdown",
   "metadata": {},
   "source": [
    "#### Create an environment"
   ]
  },
  {
   "cell_type": "code",
   "execution_count": 4,
   "metadata": {},
   "outputs": [],
   "source": [
    "import gymnasium as gym\n",
    "import gym_mtsim\n",
    "\n",
    "env = gym.make('forex-hedge-v0')\n",
    "# env = gym.make('stocks-hedge-v0')\n",
    "# env = gym.make('crypto-hedge-v0')\n",
    "# env = gym.make('mixed-hedge-v0')\n",
    "\n",
    "# env = gym.make('forex-unhedge-v0')\n",
    "# env = gym.make('stocks-unhedge-v0')\n",
    "# env = gym.make('crypto-unhedge-v0')\n",
    "# env = gym.make('mixed-unhedge-v0')"
   ]
  },
  {
   "cell_type": "markdown",
   "metadata": {},
   "source": [
    "* This will create a default environment. There are eight default environments, but it is also possible to create environments with custom parameters."
   ]
  },
  {
   "cell_type": "markdown",
   "metadata": {},
   "source": [
    "#### Create an environment with custom parameters"
   ]
  },
  {
   "cell_type": "code",
   "execution_count": 5,
   "metadata": {},
   "outputs": [],
   "source": [
    "import pytz\n",
    "from datetime import datetime, timedelta\n",
    "import numpy as np\n",
    "from gym_mtsim import MtEnv, MtSimulator, FOREX_DATA_PATH\n",
    "\n",
    "\n",
    "sim = MtSimulator(\n",
    "    unit='USD',\n",
    "    balance=10000.,\n",
    "    leverage=100.,\n",
    "    stop_out_level=0.2,\n",
    "    hedge=True,\n",
    "    symbols_filename=FOREX_DATA_PATH\n",
    ")\n",
    "\n",
    "env = MtEnv(\n",
    "    original_simulator=sim,\n",
    "    trading_symbols=['GBPCAD', 'EURUSD', 'USDJPY'],\n",
    "    window_size=10,\n",
    "    # time_points=[desired time points ...],\n",
    "    hold_threshold=0.5,\n",
    "    close_threshold=0.5,\n",
    "    fee=lambda symbol: {\n",
    "        'GBPCAD': max(0., np.random.normal(0.0007, 0.00005)),\n",
    "        'EURUSD': max(0., np.random.normal(0.0002, 0.00003)),\n",
    "        'USDJPY': max(0., np.random.normal(0.02, 0.003)),\n",
    "    }[symbol],\n",
    "    symbol_max_orders=2,\n",
    "    multiprocessing_processes=2\n",
    ")"
   ]
  },
  {
   "cell_type": "markdown",
   "metadata": {},
   "source": [
    "#### Print some information"
   ]
  },
  {
   "cell_type": "code",
   "execution_count": 6,
   "metadata": {},
   "outputs": [
    {
     "name": "stdout",
     "output_type": "stream",
     "text": [
      "env information:\n",
      "> prices[GBPCAD].shape: (88, 2)\n",
      "> prices[EURUSD].shape: (88, 2)\n",
      "> prices[USDJPY].shape: (88, 2)\n",
      "> signal_features.shape: (88, 6)\n",
      "> features_shape: (10, 6)\n"
     ]
    }
   ],
   "source": [
    "print(\"env information:\")\n",
    "\n",
    "for symbol in env.prices:\n",
    "    print(f\"> prices[{symbol}].shape:\", env.prices[symbol].shape)\n",
    "\n",
    "print(\"> signal_features.shape:\", env.signal_features.shape)\n",
    "print(\"> features_shape:\", env.features_shape)"
   ]
  },
  {
   "cell_type": "markdown",
   "metadata": {},
   "source": [
    "#### Trade randomly"
   ]
  },
  {
   "cell_type": "code",
   "execution_count": 7,
   "metadata": {},
   "outputs": [
    {
     "name": "stdout",
     "output_type": "stream",
     "text": [
      "balance: 2782.7968769158465, equity: 2782.7968769158465, margin: 9.094947017729282e-13\n",
      "free_margin: 2782.7968769158456, margin_level: inf\n",
      "step_reward: 0.0\n"
     ]
    }
   ],
   "source": [
    "observation = env.reset()\n",
    "\n",
    "while True:\n",
    "    action = env.action_space.sample()\n",
    "    observation, reward, terminated, truncated, info = env.step(action)\n",
    "    done = terminated or truncated\n",
    "\n",
    "    if done:\n",
    "        # print(info)\n",
    "        print(\n",
    "            f\"balance: {info['balance']}, equity: {info['equity']}, margin: {info['margin']}\\n\"\n",
    "            f\"free_margin: {info['free_margin']}, margin_level: {info['margin_level']}\\n\"\n",
    "            f\"step_reward: {info['step_reward']}\"\n",
    "        )\n",
    "        break"
   ]
  },
  {
   "cell_type": "markdown",
   "metadata": {},
   "source": [
    "#### Render in *human* mode"
   ]
  },
  {
   "cell_type": "code",
   "execution_count": 8,
   "metadata": {},
   "outputs": [
    {
     "name": "stdout",
     "output_type": "stream",
     "text": [
      "balance: 2782.7968769158465, equity: 2782.7968769158465, margin: 9.094947017729282e-13\n",
      "free_margin: 2782.7968769158456, margin_level: inf\n",
      "\n"
     ]
    },
    {
     "data": {
      "text/html": [
       "<div>\n",
       "<style scoped>\n",
       "    .dataframe tbody tr th:only-of-type {\n",
       "        vertical-align: middle;\n",
       "    }\n",
       "\n",
       "    .dataframe tbody tr th {\n",
       "        vertical-align: top;\n",
       "    }\n",
       "\n",
       "    .dataframe thead th {\n",
       "        text-align: right;\n",
       "    }\n",
       "</style>\n",
       "<table border=\"1\" class=\"dataframe\">\n",
       "  <thead>\n",
       "    <tr style=\"text-align: right;\">\n",
       "      <th></th>\n",
       "      <th>Id</th>\n",
       "      <th>Symbol</th>\n",
       "      <th>Type</th>\n",
       "      <th>Volume</th>\n",
       "      <th>Entry Time</th>\n",
       "      <th>Entry Price</th>\n",
       "      <th>Exit Time</th>\n",
       "      <th>Exit Price</th>\n",
       "      <th>Profit</th>\n",
       "      <th>Margin</th>\n",
       "      <th>Fee</th>\n",
       "      <th>Closed</th>\n",
       "    </tr>\n",
       "  </thead>\n",
       "  <tbody>\n",
       "    <tr>\n",
       "      <th>0</th>\n",
       "      <td>12</td>\n",
       "      <td>GBPCAD</td>\n",
       "      <td>Buy</td>\n",
       "      <td>3.61</td>\n",
       "      <td>2021-08-03 00:00:00+00:00</td>\n",
       "      <td>1.74415</td>\n",
       "      <td>2021-08-11 00:00:00+00:00</td>\n",
       "      <td>1.73282</td>\n",
       "      <td>-3477.069694</td>\n",
       "      <td>5023.120832</td>\n",
       "      <td>0.000711</td>\n",
       "      <td>True</td>\n",
       "    </tr>\n",
       "    <tr>\n",
       "      <th>1</th>\n",
       "      <td>11</td>\n",
       "      <td>GBPCAD</td>\n",
       "      <td>Sell</td>\n",
       "      <td>5.24</td>\n",
       "      <td>2021-07-30 00:00:00+00:00</td>\n",
       "      <td>1.73335</td>\n",
       "      <td>2021-08-03 00:00:00+00:00</td>\n",
       "      <td>1.74415</td>\n",
       "      <td>-4824.338307</td>\n",
       "      <td>7287.248774</td>\n",
       "      <td>0.000740</td>\n",
       "      <td>True</td>\n",
       "    </tr>\n",
       "    <tr>\n",
       "      <th>2</th>\n",
       "      <td>10</td>\n",
       "      <td>USDJPY</td>\n",
       "      <td>Buy</td>\n",
       "      <td>1.63</td>\n",
       "      <td>2021-07-22 00:00:00+00:00</td>\n",
       "      <td>110.14900</td>\n",
       "      <td>2021-07-23 00:00:00+00:00</td>\n",
       "      <td>110.54700</td>\n",
       "      <td>554.339313</td>\n",
       "      <td>1630.000000</td>\n",
       "      <td>0.022046</td>\n",
       "      <td>True</td>\n",
       "    </tr>\n",
       "    <tr>\n",
       "      <th>3</th>\n",
       "      <td>9</td>\n",
       "      <td>USDJPY</td>\n",
       "      <td>Buy</td>\n",
       "      <td>4.76</td>\n",
       "      <td>2021-07-20 00:00:00+00:00</td>\n",
       "      <td>109.84300</td>\n",
       "      <td>2021-07-21 00:00:00+00:00</td>\n",
       "      <td>110.28600</td>\n",
       "      <td>1830.059674</td>\n",
       "      <td>4760.000000</td>\n",
       "      <td>0.018987</td>\n",
       "      <td>True</td>\n",
       "    </tr>\n",
       "    <tr>\n",
       "      <th>4</th>\n",
       "      <td>8</td>\n",
       "      <td>USDJPY</td>\n",
       "      <td>Sell</td>\n",
       "      <td>2.10</td>\n",
       "      <td>2021-07-14 00:00:00+00:00</td>\n",
       "      <td>109.95000</td>\n",
       "      <td>2021-07-15 00:00:00+00:00</td>\n",
       "      <td>109.83100</td>\n",
       "      <td>191.574077</td>\n",
       "      <td>2100.000000</td>\n",
       "      <td>0.018806</td>\n",
       "      <td>True</td>\n",
       "    </tr>\n",
       "    <tr>\n",
       "      <th>5</th>\n",
       "      <td>7</td>\n",
       "      <td>EURUSD</td>\n",
       "      <td>Sell</td>\n",
       "      <td>0.43</td>\n",
       "      <td>2021-06-11 00:00:00+00:00</td>\n",
       "      <td>1.21063</td>\n",
       "      <td>2021-06-15 00:00:00+00:00</td>\n",
       "      <td>1.21264</td>\n",
       "      <td>-95.836014</td>\n",
       "      <td>520.570900</td>\n",
       "      <td>0.000219</td>\n",
       "      <td>True</td>\n",
       "    </tr>\n",
       "    <tr>\n",
       "      <th>6</th>\n",
       "      <td>5</td>\n",
       "      <td>GBPCAD</td>\n",
       "      <td>Buy</td>\n",
       "      <td>1.30</td>\n",
       "      <td>2021-06-09 00:00:00+00:00</td>\n",
       "      <td>1.70927</td>\n",
       "      <td>2021-06-14 00:00:00+00:00</td>\n",
       "      <td>1.71341</td>\n",
       "      <td>363.771785</td>\n",
       "      <td>1835.162122</td>\n",
       "      <td>0.000742</td>\n",
       "      <td>True</td>\n",
       "    </tr>\n",
       "    <tr>\n",
       "      <th>7</th>\n",
       "      <td>6</td>\n",
       "      <td>EURUSD</td>\n",
       "      <td>Buy</td>\n",
       "      <td>4.29</td>\n",
       "      <td>2021-06-09 00:00:00+00:00</td>\n",
       "      <td>1.21787</td>\n",
       "      <td>2021-06-10 00:00:00+00:00</td>\n",
       "      <td>1.21751</td>\n",
       "      <td>-233.862587</td>\n",
       "      <td>5224.662300</td>\n",
       "      <td>0.000185</td>\n",
       "      <td>True</td>\n",
       "    </tr>\n",
       "    <tr>\n",
       "      <th>8</th>\n",
       "      <td>4</td>\n",
       "      <td>GBPCAD</td>\n",
       "      <td>Sell</td>\n",
       "      <td>2.56</td>\n",
       "      <td>2021-06-07 00:00:00+00:00</td>\n",
       "      <td>1.71255</td>\n",
       "      <td>2021-06-09 00:00:00+00:00</td>\n",
       "      <td>1.70927</td>\n",
       "      <td>548.421749</td>\n",
       "      <td>3629.665690</td>\n",
       "      <td>0.000686</td>\n",
       "      <td>True</td>\n",
       "    </tr>\n",
       "    <tr>\n",
       "      <th>9</th>\n",
       "      <td>3</td>\n",
       "      <td>GBPCAD</td>\n",
       "      <td>Sell</td>\n",
       "      <td>4.06</td>\n",
       "      <td>2021-05-26 00:00:00+00:00</td>\n",
       "      <td>1.71089</td>\n",
       "      <td>2021-05-27 00:00:00+00:00</td>\n",
       "      <td>1.71345</td>\n",
       "      <td>-1089.253491</td>\n",
       "      <td>5730.489956</td>\n",
       "      <td>0.000677</td>\n",
       "      <td>True</td>\n",
       "    </tr>\n",
       "    <tr>\n",
       "      <th>10</th>\n",
       "      <td>2</td>\n",
       "      <td>USDJPY</td>\n",
       "      <td>Sell</td>\n",
       "      <td>5.39</td>\n",
       "      <td>2021-05-20 00:00:00+00:00</td>\n",
       "      <td>108.76700</td>\n",
       "      <td>2021-05-21 00:00:00+00:00</td>\n",
       "      <td>108.94500</td>\n",
       "      <td>-962.859116</td>\n",
       "      <td>5390.000000</td>\n",
       "      <td>0.016617</td>\n",
       "      <td>True</td>\n",
       "    </tr>\n",
       "    <tr>\n",
       "      <th>11</th>\n",
       "      <td>1</td>\n",
       "      <td>USDJPY</td>\n",
       "      <td>Buy</td>\n",
       "      <td>0.05</td>\n",
       "      <td>2021-05-19 00:00:00+00:00</td>\n",
       "      <td>109.22700</td>\n",
       "      <td>2021-05-20 00:00:00+00:00</td>\n",
       "      <td>108.76700</td>\n",
       "      <td>-22.150512</td>\n",
       "      <td>50.000000</td>\n",
       "      <td>0.021849</td>\n",
       "      <td>True</td>\n",
       "    </tr>\n",
       "  </tbody>\n",
       "</table>\n",
       "</div>"
      ],
      "text/plain": [
       "    Id  Symbol  Type  Volume                Entry Time  Entry Price  \\\n",
       "0   12  GBPCAD   Buy    3.61 2021-08-03 00:00:00+00:00      1.74415   \n",
       "1   11  GBPCAD  Sell    5.24 2021-07-30 00:00:00+00:00      1.73335   \n",
       "2   10  USDJPY   Buy    1.63 2021-07-22 00:00:00+00:00    110.14900   \n",
       "3    9  USDJPY   Buy    4.76 2021-07-20 00:00:00+00:00    109.84300   \n",
       "4    8  USDJPY  Sell    2.10 2021-07-14 00:00:00+00:00    109.95000   \n",
       "5    7  EURUSD  Sell    0.43 2021-06-11 00:00:00+00:00      1.21063   \n",
       "6    5  GBPCAD   Buy    1.30 2021-06-09 00:00:00+00:00      1.70927   \n",
       "7    6  EURUSD   Buy    4.29 2021-06-09 00:00:00+00:00      1.21787   \n",
       "8    4  GBPCAD  Sell    2.56 2021-06-07 00:00:00+00:00      1.71255   \n",
       "9    3  GBPCAD  Sell    4.06 2021-05-26 00:00:00+00:00      1.71089   \n",
       "10   2  USDJPY  Sell    5.39 2021-05-20 00:00:00+00:00    108.76700   \n",
       "11   1  USDJPY   Buy    0.05 2021-05-19 00:00:00+00:00    109.22700   \n",
       "\n",
       "                   Exit Time  Exit Price       Profit       Margin       Fee  \\\n",
       "0  2021-08-11 00:00:00+00:00     1.73282 -3477.069694  5023.120832  0.000711   \n",
       "1  2021-08-03 00:00:00+00:00     1.74415 -4824.338307  7287.248774  0.000740   \n",
       "2  2021-07-23 00:00:00+00:00   110.54700   554.339313  1630.000000  0.022046   \n",
       "3  2021-07-21 00:00:00+00:00   110.28600  1830.059674  4760.000000  0.018987   \n",
       "4  2021-07-15 00:00:00+00:00   109.83100   191.574077  2100.000000  0.018806   \n",
       "5  2021-06-15 00:00:00+00:00     1.21264   -95.836014   520.570900  0.000219   \n",
       "6  2021-06-14 00:00:00+00:00     1.71341   363.771785  1835.162122  0.000742   \n",
       "7  2021-06-10 00:00:00+00:00     1.21751  -233.862587  5224.662300  0.000185   \n",
       "8  2021-06-09 00:00:00+00:00     1.70927   548.421749  3629.665690  0.000686   \n",
       "9  2021-05-27 00:00:00+00:00     1.71345 -1089.253491  5730.489956  0.000677   \n",
       "10 2021-05-21 00:00:00+00:00   108.94500  -962.859116  5390.000000  0.016617   \n",
       "11 2021-05-20 00:00:00+00:00   108.76700   -22.150512    50.000000  0.021849   \n",
       "\n",
       "    Closed  \n",
       "0     True  \n",
       "1     True  \n",
       "2     True  \n",
       "3     True  \n",
       "4     True  \n",
       "5     True  \n",
       "6     True  \n",
       "7     True  \n",
       "8     True  \n",
       "9     True  \n",
       "10    True  \n",
       "11    True  "
      ]
     },
     "execution_count": 8,
     "metadata": {},
     "output_type": "execute_result"
    }
   ],
   "source": [
    "state = env.render()\n",
    "\n",
    "print(\n",
    "    f\"balance: {state['balance']}, equity: {state['equity']}, margin: {state['margin']}\\n\"\n",
    "    f\"free_margin: {state['free_margin']}, margin_level: {state['margin_level']}\\n\"\n",
    ")\n",
    "state['orders']"
   ]
  },
  {
   "cell_type": "markdown",
   "metadata": {},
   "source": [
    "#### Render in *simple_figure* mode\n",
    "\n",
    "* Each *symbol* is illustrated with a separate color.\n",
    "* The **green**/**red** triangles show successful **buy**/**sell** actions.\n",
    "* The **gray** triangles indicate that the **buy**/**sell** action has encountered an **error**.\n",
    "* The **black** vertical bars specify **close** actions."
   ]
  },
  {
   "cell_type": "code",
   "execution_count": 9,
   "metadata": {},
   "outputs": [
    {
     "data": {
      "image/png": "[encoded data removed]",
      "text/plain": [
       "<Figure size 1400x600 with 3 Axes>"
      ]
     },
     "metadata": {},
     "output_type": "display_data"
    }
   ],
   "source": [
    "env.render('simple_figure')"
   ]
  },
  {
   "cell_type": "markdown",
   "metadata": {},
   "source": [
    "#### Render in *advanced_figure* mode\n",
    "\n",
    "* Clicking on a symbol name will hide/show its plot.\n",
    "* Hovering over points and markers will display their detail.\n",
    "* The size of triangles indicates their relative volume."
   ]
  },
  {
   "cell_type": "code",
   "execution_count": 10,
   "metadata": {},
   "outputs": [
    {
     "data": {
      "application/vnd.plotly.v1+json": {
       "config": {
        "plotlyServerURL": "https://plot.ly"
       },
       "data": [
        {
         "hovertext": [
          "balance: 10000.000000 USD<br>equity: 10000.000000<br>margin: 0.000000<br>free margin: 10000.000000<br>margin level: inf",
          "balance: 10000.000000 USD<br>equity: 10000.000000<br>margin: 0.000000<br>free margin: 10000.000000<br>margin level: inf",
          "balance: 10000.000000 USD<br>equity: 10000.000000<br>margin: 0.000000<br>free margin: 10000.000000<br>margin level: inf",
          "balance: 10000.000000 USD<br>equity: 10000.000000<br>margin: 0.000000<br>free margin: 10000.000000<br>margin level: inf",
          "balance: 10000.000000 USD<br>equity: 10000.000000<br>margin: 0.000000<br>free margin: 10000.000000<br>margin level: inf",
          "balance: 10000.000000 USD<br>equity: 10000.000000<br>margin: 0.000000<br>free margin: 10000.000000<br>margin level: inf",
          "balance: 10000.000000 USD<br>equity: 10000.000000<br>margin: 0.000000<br>free margin: 10000.000000<br>margin level: inf",
          "balance: 10000.000000 USD<br>equity: 10000.000000<br>margin: 0.000000<br>free margin: 10000.000000<br>margin level: inf",
          "balance: 10000.000000 USD<br>equity: 10000.000000<br>margin: 0.000000<br>free margin: 10000.000000<br>margin level: inf",
          "balance: 10000.000000 USD<br>equity: 10000.000000<br>margin: 0.000000<br>free margin: 10000.000000<br>margin level: inf",
          "balance: 10000.000000 USD<br>equity: 10000.000000<br>margin: 0.000000<br>free margin: 10000.000000<br>margin level: inf",
          "balance: 10000.000000 USD<br>equity: 9977.849488<br>margin: 50.000000<br>free margin: 9927.849488<br>margin level: 199.556990",
          "balance: 9977.849488 USD<br>equity: 9014.990372<br>margin: 5390.000000<br>free margin: 3624.990372<br>margin level: 1.672540",
          "balance: 9014.990372 USD<br>equity: 9014.990372<br>margin: 0.000000<br>free margin: 9014.990372<br>margin level: inf",
          "balance: 9014.990372 USD<br>equity: 9014.990372<br>margin: 0.000000<br>free margin: 9014.990372<br>margin level: inf",
          "balance: 9014.990372 USD<br>equity: 9014.990372<br>margin: 0.000000<br>free margin: 9014.990372<br>margin level: inf",
          "balance: 9014.990372 USD<br>equity: 7925.736881<br>margin: 5730.489956<br>free margin: 2195.246925<br>margin level: 1.383082",
          "balance: 7925.736881 USD<br>equity: 7925.736881<br>margin: 0.000000<br>free margin: 7925.736881<br>margin level: inf",
          "balance: 7925.736881 USD<br>equity: 7925.736881<br>margin: 0.000000<br>free margin: 7925.736881<br>margin level: inf",
          "balance: 7925.736881 USD<br>equity: 7925.736881<br>margin: 0.000000<br>free margin: 7925.736881<br>margin level: inf",
          "balance: 7925.736881 USD<br>equity: 7925.736881<br>margin: 0.000000<br>free margin: 7925.736881<br>margin level: inf",
          "balance: 7925.736881 USD<br>equity: 7925.736881<br>margin: 0.000000<br>free margin: 7925.736881<br>margin level: inf",
          "balance: 7925.736881 USD<br>equity: 7925.736881<br>margin: 0.000000<br>free margin: 7925.736881<br>margin level: inf",
          "balance: 7925.736881 USD<br>equity: 7925.736881<br>margin: 0.000000<br>free margin: 7925.736881<br>margin level: inf",
          "balance: 7925.736881 USD<br>equity: 7491.012463<br>margin: 3629.665690<br>free margin: 3861.346773<br>margin level: 2.063830",
          "balance: 7925.736881 USD<br>equity: 8474.158630<br>margin: 3629.665690<br>free margin: 4844.492940<br>margin level: 2.334694",
          "balance: 8474.158630 USD<br>equity: 8704.500812<br>margin: 7059.824422<br>free margin: 1644.676391<br>margin level: 1.232963",
          "balance: 8240.296043 USD<br>equity: 8977.412315<br>margin: 1835.162122<br>free margin: 7142.250194<br>margin level: 4.891891",
          "balance: 8240.296043 USD<br>equity: 8535.751815<br>margin: 2355.733022<br>free margin: 6180.018793<br>margin level: 3.623395",
          "balance: 8604.067829 USD<br>equity: 8508.231815<br>margin: 520.570900<br>free margin: 7987.660915<br>margin level: 16.344040",
          "balance: 8508.231815 USD<br>equity: 8508.231815<br>margin: 0.000000<br>free margin: 8508.231815<br>margin level: inf",
          "balance: 8508.231815 USD<br>equity: 8508.231815<br>margin: 0.000000<br>free margin: 8508.231815<br>margin level: inf",
          "balance: 8508.231815 USD<br>equity: 8508.231815<br>margin: 0.000000<br>free margin: 8508.231815<br>margin level: inf",
          "balance: 8508.231815 USD<br>equity: 8508.231815<br>margin: 0.000000<br>free margin: 8508.231815<br>margin level: inf",
          "balance: 8508.231815 USD<br>equity: 8508.231815<br>margin: 0.000000<br>free margin: 8508.231815<br>margin level: inf",
          "balance: 8508.231815 USD<br>equity: 8508.231815<br>margin: 0.000000<br>free margin: 8508.231815<br>margin level: inf",
          "balance: 8508.231815 USD<br>equity: 8508.231815<br>margin: 0.000000<br>free margin: 8508.231815<br>margin level: inf",
          "balance: 8508.231815 USD<br>equity: 8508.231815<br>margin: 0.000000<br>free margin: 8508.231815<br>margin level: inf",
          "balance: 8508.231815 USD<br>equity: 8508.231815<br>margin: 0.000000<br>free margin: 8508.231815<br>margin level: inf",
          "balance: 8508.231815 USD<br>equity: 8508.231815<br>margin: 0.000000<br>free margin: 8508.231815<br>margin level: inf",
          "balance: 8508.231815 USD<br>equity: 8508.231815<br>margin: 0.000000<br>free margin: 8508.231815<br>margin level: inf",
          "balance: 8508.231815 USD<br>equity: 8508.231815<br>margin: 0.000000<br>free margin: 8508.231815<br>margin level: inf",
          "balance: 8508.231815 USD<br>equity: 8508.231815<br>margin: 0.000000<br>free margin: 8508.231815<br>margin level: inf",
          "balance: 8508.231815 USD<br>equity: 8508.231815<br>margin: 0.000000<br>free margin: 8508.231815<br>margin level: inf",
          "balance: 8508.231815 USD<br>equity: 8508.231815<br>margin: 0.000000<br>free margin: 8508.231815<br>margin level: inf",
          "balance: 8508.231815 USD<br>equity: 8508.231815<br>margin: 0.000000<br>free margin: 8508.231815<br>margin level: inf",
          "balance: 8508.231815 USD<br>equity: 8508.231815<br>margin: 0.000000<br>free margin: 8508.231815<br>margin level: inf",
          "balance: 8508.231815 USD<br>equity: 8508.231815<br>margin: 0.000000<br>free margin: 8508.231815<br>margin level: inf",
          "balance: 8508.231815 USD<br>equity: 8508.231815<br>margin: 0.000000<br>free margin: 8508.231815<br>margin level: inf",
          "balance: 8508.231815 USD<br>equity: 8508.231815<br>margin: 0.000000<br>free margin: 8508.231815<br>margin level: inf",
          "balance: 8508.231815 USD<br>equity: 8508.231815<br>margin: 0.000000<br>free margin: 8508.231815<br>margin level: inf",
          "balance: 8508.231815 USD<br>equity: 8699.805892<br>margin: 2100.000000<br>free margin: 6599.805892<br>margin level: 4.142765",
          "balance: 8699.805892 USD<br>equity: 8699.805892<br>margin: 0.000000<br>free margin: 8699.805892<br>margin level: inf",
          "balance: 8699.805892 USD<br>equity: 8699.805892<br>margin: 0.000000<br>free margin: 8699.805892<br>margin level: inf",
          "balance: 8699.805892 USD<br>equity: 8699.805892<br>margin: 0.000000<br>free margin: 8699.805892<br>margin level: inf",
          "balance: 8699.805892 USD<br>equity: 10529.865565<br>margin: 4760.000000<br>free margin: 5769.865565<br>margin level: 2.212157",
          "balance: 10529.865565 USD<br>equity: 10529.865565<br>margin: 0.000000<br>free margin: 10529.865565<br>margin level: inf",
          "balance: 10529.865565 USD<br>equity: 11084.204878<br>margin: 1630.000000<br>free margin: 9454.204878<br>margin level: 6.800126",
          "balance: 11084.204878 USD<br>equity: 11084.204878<br>margin: 0.000000<br>free margin: 11084.204878<br>margin level: inf",
          "balance: 11084.204878 USD<br>equity: 11084.204878<br>margin: 0.000000<br>free margin: 11084.204878<br>margin level: inf",
          "balance: 11084.204878 USD<br>equity: 11084.204878<br>margin: 0.000000<br>free margin: 11084.204878<br>margin level: inf",
          "balance: 11084.204878 USD<br>equity: 11084.204878<br>margin: 0.000000<br>free margin: 11084.204878<br>margin level: inf",
          "balance: 11084.204878 USD<br>equity: 11084.204878<br>margin: 0.000000<br>free margin: 11084.204878<br>margin level: inf",
          "balance: 11084.204878 USD<br>equity: 9759.691881<br>margin: 7287.248774<br>free margin: 2472.443106<br>margin level: 1.339283",
          "balance: 11084.204878 USD<br>equity: 6259.866571<br>margin: 7287.248774<br>free margin: -1027.382203<br>margin level: 0.859016",
          "balance: 6259.866571 USD<br>equity: 5234.656484<br>margin: 5023.120832<br>free margin: 211.535653<br>margin level: 1.042112",
          "balance: 6259.866571 USD<br>equity: 5095.509404<br>margin: 5023.120832<br>free margin: 72.388572<br>margin level: 1.014411",
          "balance: 6259.866571 USD<br>equity: 5431.385246<br>margin: 5023.120832<br>free margin: 408.264415<br>margin level: 1.081277",
          "balance: 6259.866571 USD<br>equity: 5094.193659<br>margin: 5023.120832<br>free margin: 71.072827<br>margin level: 1.014149",
          "balance: 6259.866571 USD<br>equity: 2450.307295<br>margin: 5023.120832<br>free margin: -2572.813537<br>margin level: 0.487806",
          "balance: 6259.866571 USD<br>equity: 2782.796877<br>margin: 5023.120832<br>free margin: -2240.323955<br>margin level: 0.553998",
          "balance: 2782.796877 USD<br>equity: 2782.796877<br>margin: 0.000000<br>free margin: 2782.796877<br>margin level: inf",
          "balance: 2782.796877 USD<br>equity: 2782.796877<br>margin: 0.000000<br>free margin: 2782.796877<br>margin level: inf",
          "balance: 2782.796877 USD<br>equity: 2782.796877<br>margin: 0.000000<br>free margin: 2782.796877<br>margin level: inf",
          "balance: 2782.796877 USD<br>equity: 2782.796877<br>margin: 0.000000<br>free margin: 2782.796877<br>margin level: inf",
          "balance: 2782.796877 USD<br>equity: 2782.796877<br>margin: 0.000000<br>free margin: 2782.796877<br>margin level: inf",
          "balance: 2782.796877 USD<br>equity: 2782.796877<br>margin: 0.000000<br>free margin: 2782.796877<br>margin level: inf",
          "balance: 2782.796877 USD<br>equity: 2782.796877<br>margin: 0.000000<br>free margin: 2782.796877<br>margin level: inf",
          "balance: 2782.796877 USD<br>equity: 2782.796877<br>margin: 0.000000<br>free margin: 2782.796877<br>margin level: inf",
          "balance: 2782.796877 USD<br>equity: 2782.796877<br>margin: 0.000000<br>free margin: 2782.796877<br>margin level: inf",
          "balance: 2782.796877 USD<br>equity: 2782.796877<br>margin: 0.000000<br>free margin: 2782.796877<br>margin level: inf",
          "balance: 2782.796877 USD<br>equity: 2782.796877<br>margin: 0.000000<br>free margin: 2782.796877<br>margin level: inf",
          "balance: 2782.796877 USD<br>equity: 2782.796877<br>margin: 0.000000<br>free margin: 2782.796877<br>margin level: inf",
          "balance: 2782.796877 USD<br>equity: 2782.796877<br>margin: 0.000000<br>free margin: 2782.796877<br>margin level: inf",
          "balance: 2782.796877 USD<br>equity: 2782.796877<br>margin: 0.000000<br>free margin: 2782.796877<br>margin level: inf",
          "balance: 2782.796877 USD<br>equity: 2782.796877<br>margin: 0.000000<br>free margin: 2782.796877<br>margin level: inf",
          "balance: 2782.796877 USD<br>equity: 2782.796877<br>margin: 0.000000<br>free margin: 2782.796877<br>margin level: inf",
          "balance: 2782.796877 USD<br>equity: 2782.796877<br>margin: 0.000000<br>free margin: 2782.796877<br>margin level: inf"
         ],
         "legendgroup": "g1",
         "line": {
          "color": "rgba(0.12156862745098039, 0.4666666666666667, 0.7058823529411765, 1.0)"
         },
         "mode": "lines+markers",
         "name": "GBPCAD",
         "opacity": 1,
         "type": "scatter",
         "x": [
          "2021-05-05T00:00:00+00:00",
          "2021-05-06T00:00:00+00:00",
          "2021-05-07T00:00:00+00:00",
          "2021-05-10T00:00:00+00:00",
          "2021-05-11T00:00:00+00:00",
          "2021-05-12T00:00:00+00:00",
          "2021-05-13T00:00:00+00:00",
          "2021-05-14T00:00:00+00:00",
          "2021-05-17T00:00:00+00:00",
          "2021-05-18T00:00:00+00:00",
          "2021-05-19T00:00:00+00:00",
          "2021-05-20T00:00:00+00:00",
          "2021-05-21T00:00:00+00:00",
          "2021-05-24T00:00:00+00:00",
          "2021-05-25T00:00:00+00:00",
          "2021-05-26T00:00:00+00:00",
          "2021-05-27T00:00:00+00:00",
          "2021-05-28T00:00:00+00:00",
          "2021-05-31T00:00:00+00:00",
          "2021-06-01T00:00:00+00:00",
          "2021-06-02T00:00:00+00:00",
          "2021-06-03T00:00:00+00:00",
          "2021-06-04T00:00:00+00:00",
          "2021-06-07T00:00:00+00:00",
          "2021-06-08T00:00:00+00:00",
          "2021-06-09T00:00:00+00:00",
          "2021-06-10T00:00:00+00:00",
          "2021-06-11T00:00:00+00:00",
          "2021-06-14T00:00:00+00:00",
          "2021-06-15T00:00:00+00:00",
          "2021-06-16T00:00:00+00:00",
          "2021-06-17T00:00:00+00:00",
          "2021-06-18T00:00:00+00:00",
          "2021-06-21T00:00:00+00:00",
          "2021-06-22T00:00:00+00:00",
          "2021-06-23T00:00:00+00:00",
          "2021-06-24T00:00:00+00:00",
          "2021-06-25T00:00:00+00:00",
          "2021-06-28T00:00:00+00:00",
          "2021-06-29T00:00:00+00:00",
          "2021-06-30T00:00:00+00:00",
          "2021-07-01T00:00:00+00:00",
          "2021-07-02T00:00:00+00:00",
          "2021-07-05T00:00:00+00:00",
          "2021-07-06T00:00:00+00:00",
          "2021-07-07T00:00:00+00:00",
          "2021-07-08T00:00:00+00:00",
          "2021-07-09T00:00:00+00:00",
          "2021-07-12T00:00:00+00:00",
          "2021-07-13T00:00:00+00:00",
          "2021-07-14T00:00:00+00:00",
          "2021-07-15T00:00:00+00:00",
          "2021-07-16T00:00:00+00:00",
          "2021-07-19T00:00:00+00:00",
          "2021-07-20T00:00:00+00:00",
          "2021-07-21T00:00:00+00:00",
          "2021-07-22T00:00:00+00:00",
          "2021-07-23T00:00:00+00:00",
          "2021-07-26T00:00:00+00:00",
          "2021-07-27T00:00:00+00:00",
          "2021-07-28T00:00:00+00:00",
          "2021-07-29T00:00:00+00:00",
          "2021-07-30T00:00:00+00:00",
          "2021-08-02T00:00:00+00:00",
          "2021-08-03T00:00:00+00:00",
          "2021-08-04T00:00:00+00:00",
          "2021-08-05T00:00:00+00:00",
          "2021-08-06T00:00:00+00:00",
          "2021-08-09T00:00:00+00:00",
          "2021-08-10T00:00:00+00:00",
          "2021-08-11T00:00:00+00:00",
          "2021-08-12T00:00:00+00:00",
          "2021-08-13T00:00:00+00:00",
          "2021-08-16T00:00:00+00:00",
          "2021-08-17T00:00:00+00:00",
          "2021-08-18T00:00:00+00:00",
          "2021-08-19T00:00:00+00:00",
          "2021-08-20T00:00:00+00:00",
          "2021-08-23T00:00:00+00:00",
          "2021-08-24T00:00:00+00:00",
          "2021-08-25T00:00:00+00:00",
          "2021-08-26T00:00:00+00:00",
          "2021-08-27T00:00:00+00:00",
          "2021-08-30T00:00:00+00:00",
          "2021-08-31T00:00:00+00:00",
          "2021-09-01T00:00:00+00:00",
          "2021-09-02T00:00:00+00:00",
          "2021-09-03T00:00:00+00:00"
         ],
         "y": [
          1.70525,
          1.68648,
          1.69619,
          1.7070699999999999,
          1.71108,
          1.70468,
          1.7082899999999999,
          1.70635,
          1.7059199999999999,
          1.71128,
          1.71211,
          1.7107,
          1.70726,
          1.7044000000000001,
          1.7066,
          1.71089,
          1.71345,
          1.71356,
          1.7132399999999999,
          1.70755,
          1.70462,
          1.7068400000000001,
          1.70999,
          1.71255,
          1.7139199999999999,
          1.70927,
          1.71433,
          1.71691,
          1.71341,
          1.71492,
          1.71638,
          1.71949,
          1.72017,
          1.72173,
          1.7158099999999998,
          1.7177,
          1.7149299999999998,
          1.70721,
          1.71244,
          1.71535,
          1.71437,
          1.71059,
          1.70511,
          1.70716,
          1.71879,
          1.72167,
          1.72692,
          1.7307000000000001,
          1.72832,
          1.72767,
          1.73236,
          1.7407,
          1.73684,
          1.74244,
          1.7273800000000001,
          1.72183,
          1.72851,
          1.72728,
          1.73336,
          1.7481900000000001,
          1.7405300000000001,
          1.73688,
          1.73335,
          1.73577,
          1.7441499999999999,
          1.7412999999999998,
          1.7408299999999999,
          1.7419799999999999,
          1.7408000000000001,
          1.7316500000000001,
          1.73282,
          1.72889,
          1.7357200000000002,
          1.7402199999999999,
          1.7349700000000001,
          1.74061,
          1.74874,
          1.7468,
          1.73506,
          1.72784,
          1.73259,
          1.7377,
          1.7353399999999999,
          1.7338900000000002,
          1.73501,
          1.7372800000000002,
          1.73603,
          1.7362600000000001
         ],
         "yaxis": "y"
        },
        {
         "hovertext": [
          "order id: <br>hold probability: 0.0000<br>hold: False<br>volume: -40.595615<br>modified volume: 35.0000<br>fee: nan<br>margin: nan<br>error: low free margin (order margin=49647.13488780763, order profit=-2129.482299603812, free margin=10000.0)",
          "order id: <br>hold probability: 0.0000<br>hold: False<br>volume: -11.653787<br>modified volume: 11.6500<br>fee: nan<br>margin: nan<br>error: low free margin (order margin=16478.843938301383, order profit=-724.7078776809715, free margin=9014.990371933887)",
          "order id: 3<br>hold probability: 0.0000<br>hold: False<br>volume: -4.057100<br>modified volume: 4.0600<br>fee: 0.000677<br>margin: 5730.489956<br>error: ",
          "order id: <br>hold probability: 0.0000<br>hold: False<br>volume: -98.676512<br>modified volume: 35.0000<br>fee: nan<br>margin: nan<br>error: low free margin (order margin=49701.85063939467, order profit=-2177.804903853704, free margin=7925.736880539842)",
          "order id: <br>hold probability: 0.0000<br>hold: False<br>volume: -78.835652<br>modified volume: 35.0000<br>fee: nan<br>margin: nan<br>error: low free margin (order margin=49712.23916233492, order profit=-2003.9525133035181, free margin=7925.736880539842)",
          "order id: 4<br>hold probability: 0.0210<br>hold: False<br>volume: -2.556711<br>modified volume: 2.5600<br>fee: 0.000686<br>margin: 3629.665690<br>error: ",
          "order id: 5<br>hold probability: 0.0000<br>hold: False<br>volume: 1.298387<br>modified volume: 1.3000<br>fee: 0.000742<br>margin: 1835.162122<br>error: ",
          "order id: <br>hold probability: 0.0000<br>hold: False<br>volume: 8.811307<br>modified volume: 8.8100<br>fee: nan<br>margin: nan<br>error: low free margin (order margin=12430.430675988377, order profit=-508.89129964541223, free margin=8015.180914886443)",
          "order id: <br>hold probability: 0.0000<br>hold: False<br>volume: -63.599797<br>modified volume: 35.0000<br>fee: nan<br>margin: nan<br>error: low free margin (order margin=48805.60928433269, order profit=-2130.083189540612, free margin=8508.231814886443)",
          "order id: <br>hold probability: 0.0000<br>hold: False<br>volume: 8.916937<br>modified volume: 8.9200<br>fee: nan<br>margin: nan<br>error: low free margin (order margin=12452.867789887758, order profit=-509.6426435656483, free margin=8508.231814886443)",
          "order id: <br>hold probability: 0.0000<br>hold: False<br>volume: 99.333709<br>modified volume: 35.0000<br>fee: nan<br>margin: nan<br>error: low free margin (order margin=48415.57530402245, order profit=-1870.7469656702306, free margin=8508.231814886443)",
          "order id: <br>hold probability: 0.0000<br>hold: False<br>volume: -96.996713<br>modified volume: 35.0000<br>fee: nan<br>margin: nan<br>error: low free margin (order margin=48401.185770750984, order profit=-1945.2294293908099, free margin=8508.231814886443)",
          "order id: <br>hold probability: 0.0436<br>hold: False<br>volume: 62.374626<br>modified volume: 35.0000<br>fee: nan<br>margin: nan<br>error: low free margin (order margin=48271.320130953914, order profit=-2111.6511886752373, free margin=8508.231814886443)",
          "order id: <br>hold probability: 0.0000<br>hold: False<br>volume: 42.301402<br>modified volume: 35.0000<br>fee: nan<br>margin: nan<br>error: low free margin (order margin=48279.37217575232, order profit=-2079.0869519339217, free margin=8508.231814886443)",
          "order id: <br>hold probability: 0.0000<br>hold: False<br>volume: -77.068650<br>modified volume: 35.0000<br>fee: nan<br>margin: nan<br>error: low free margin (order margin=48225.67261353844, order profit=-1997.9929575214676, free margin=8508.231814886443)",
          "order id: <br>hold probability: 0.0000<br>hold: False<br>volume: -29.581128<br>modified volume: 29.5800<br>fee: nan<br>margin: nan<br>error: low free margin (order margin=40840.45535914075, order profit=-1688.8465953500881, free margin=8508.231814886443)",
          "order id: <br>hold probability: 0.0000<br>hold: False<br>volume: 69.587592<br>modified volume: 35.0000<br>fee: nan<br>margin: nan<br>error: low free margin (order margin=48378.502854692575, order profit=-1670.9182036306115, free margin=6599.8058916286245)",
          "order id: <br>hold probability: 0.0000<br>hold: False<br>volume: 20.488035<br>modified volume: 20.4900<br>fee: nan<br>margin: nan<br>error: low free margin (order margin=28205.152843273234, order profit=-1056.4581118625447, free margin=8699.805891628625)",
          "order id: <br>hold probability: 0.0000<br>hold: False<br>volume: 38.252222<br>modified volume: 35.0000<br>fee: nan<br>margin: nan<br>error: low free margin (order margin=47980.931528662426, order profit=-1873.6039846725785, free margin=5769.865565239728)",
          "order id: <br>hold probability: 0.0000<br>hold: False<br>volume: 35.000967<br>modified volume: 35.0000<br>fee: nan<br>margin: nan<br>error: low free margin (order margin=48112.117401754025, order profit=-1894.3607070229987, free margin=9454.2048780445)",
          "order id: <br>hold probability: 0.0000<br>hold: False<br>volume: -67.807761<br>modified volume: 35.0000<br>fee: nan<br>margin: nan<br>error: low free margin (order margin=48354.20236719404, order profit=-2003.4481418756325, free margin=11084.2048780445)",
          "order id: <br>hold probability: 0.0000<br>hold: False<br>volume: 25.953996<br>modified volume: 25.9500<br>fee: nan<br>margin: nan<br>error: low free margin (order margin=36063.58370195303, order profit=-1524.564967214282, free margin=11084.2048780445)",
          "order id: 11<br>hold probability: 0.0000<br>hold: False<br>volume: -5.239440<br>modified volume: 5.2400<br>fee: 0.000740<br>margin: 7287.248774<br>error: ",
          "order id: <br>hold probability: 0.0000<br>hold: False<br>volume: 84.355089<br>modified volume: 35.0000<br>fee: nan<br>margin: nan<br>error: low free margin (order margin=48588.34397044004, order profit=-1900.3897160540896, free margin=2472.44310633653)",
          "order id: 12<br>hold probability: 0.0000<br>hold: False<br>volume: 3.608319<br>modified volume: 3.6100<br>fee: 0.000711<br>margin: 5023.120832<br>error: ",
          "order id: <br>hold probability: 0.0000<br>hold: False<br>volume: -16.320625<br>modified volume: 16.3200<br>fee: nan<br>margin: nan<br>error: low free margin (order margin=22730.822332101194, order profit=-929.6007710676331, free margin=72.38857238741639)",
          "order id: <br>hold probability: 0.0000<br>hold: False<br>volume: 26.759107<br>modified volume: 26.7600<br>fee: nan<br>margin: nan<br>error: low free margin (order margin=37129.82771392386, order profit=-1669.3177718003833, free margin=408.2644146676121)",
          "order id: <br>hold probability: 0.0000<br>hold: False<br>volume: 97.530866<br>modified volume: 35.0000<br>fee: nan<br>margin: nan<br>error: low free margin (order margin=48442.444384371964, order profit=-1993.4894732856712, free margin=71.07282706403112)",
          "order id: <br>hold probability: 0.0000<br>hold: False<br>volume: 29.889120<br>modified volume: 29.8900<br>fee: nan<br>margin: nan<br>error: low free margin (order margin=41343.71086011887, order profit=-1528.6879964113127, free margin=-2572.8135365617563)",
          "order id: <br>hold probability: 0.0000<br>hold: False<br>volume: -42.673319<br>modified volume: 35.0000<br>fee: nan<br>margin: nan<br>error: low free margin (order margin=48512.7503679529, order profit=-1842.7734374551494, free margin=2782.7968769158456)",
          "order id: <br>hold probability: 0.0000<br>hold: False<br>volume: 1.938061<br>modified volume: 1.9400<br>fee: nan<br>margin: nan<br>error: low free margin (order margin=2690.8022151013665, order profit=-117.72398108986818, free margin=2782.7968769158456)",
          "order id: <br>hold probability: 0.0000<br>hold: False<br>volume: -46.493792<br>modified volume: 35.0000<br>fee: nan<br>margin: nan<br>error: low free margin (order margin=48129.49327687276, order profit=-1978.0717534088933, free margin=2782.7968769158456)",
          "order id: <br>hold probability: 0.0000<br>hold: False<br>volume: 82.879614<br>modified volume: 35.0000<br>fee: nan<br>margin: nan<br>error: low free margin (order margin=48010.16697236101, order profit=-1911.2137959895197, free margin=2782.7968769158456)",
          "order id: <br>hold probability: 0.0000<br>hold: False<br>volume: -10.012742<br>modified volume: 10.0100<br>fee: nan<br>margin: nan<br>error: low free margin (order margin=13775.835530914406, order profit=-564.957283697824, free margin=2782.7968769158456)",
          "order id: <br>hold probability: 0.0000<br>hold: False<br>volume: -70.676517<br>modified volume: 35.0000<br>fee: nan<br>margin: nan<br>error: low free margin (order margin=47944.48736342567, order profit=-1735.0079417364534, free margin=2782.7968769158456)",
          "order id: <br>hold probability: 0.0000<br>hold: False<br>volume: 17.285913<br>modified volume: 17.2900<br>fee: nan<br>margin: nan<br>error: low free margin (order margin=23782.06533552282, order profit=-859.9994236425304, free margin=2782.7968769158456)",
          "order id: <br>hold probability: 0.0000<br>hold: False<br>volume: 17.588068<br>modified volume: 17.5900<br>fee: nan<br>margin: nan<br>error: low free margin (order margin=24217.42299005429, order profit=-1074.1279585822147, free margin=2782.7968769158456)",
          "order id: <br>hold probability: 0.0000<br>hold: False<br>volume: 58.365202<br>modified volume: 35.0000<br>fee: nan<br>margin: nan<br>error: low free margin (order margin=48409.00761655885, order profit=-2013.5093936142598, free margin=2782.7968769158456)"
         ],
         "legendgroup": "g1",
         "marker": {
          "color": [
           "gray",
           "gray",
           "red",
           "gray",
           "gray",
           "red",
           "green",
           "gray",
           "gray",
           "gray",
           "gray",
           "gray",
           "gray",
           "gray",
           "gray",
           "gray",
           "gray",
           "gray",
           "gray",
           "gray",
           "gray",
           "gray",
           "red",
           "gray",
           "green",
           "gray",
           "gray",
           "gray",
           "gray",
           "gray",
           "gray",
           "gray",
           "gray",
           "gray",
           "gray",
           "gray",
           "gray",
           "gray"
          ],
          "size": [
           30,
           15.322857142857142,
           10.552,
           30,
           30,
           9.609142857142857,
           8.817142857142857,
           13.537714285714287,
           30,
           13.606857142857143,
           30,
           30,
           30,
           30,
           30,
           26.59314285714286,
           30,
           20.879428571428573,
           30,
           30,
           30,
           24.31142857142857,
           11.293714285714286,
           30,
           10.269142857142857,
           18.258285714285712,
           24.82057142857143,
           30,
           26.788,
           30,
           9.21942857142857,
           30,
           30,
           14.292,
           30,
           18.868000000000002,
           19.05657142857143,
           30
          ],
          "symbol": [
           "triangle-down",
           "triangle-down",
           "triangle-down",
           "triangle-down",
           "triangle-down",
           "triangle-down",
           "triangle-up",
           "triangle-down",
           "triangle-down",
           "triangle-down",
           "triangle-down",
           "triangle-down",
           "triangle-down",
           "triangle-down",
           "triangle-down",
           "triangle-down",
           "triangle-down",
           "triangle-down",
           "triangle-down",
           "triangle-down",
           "triangle-down",
           "triangle-down",
           "triangle-down",
           "triangle-down",
           "triangle-up",
           "triangle-down",
           "triangle-down",
           "triangle-down",
           "triangle-down",
           "triangle-down",
           "triangle-down",
           "triangle-down",
           "triangle-down",
           "triangle-down",
           "triangle-down",
           "triangle-down",
           "triangle-down",
           "triangle-down"
          ]
         },
         "mode": "markers",
         "name": "GBPCAD",
         "showlegend": false,
         "type": "scatter",
         "x": [
          "2021-05-18T00:00:00+00:00",
          "2021-05-25T00:00:00+00:00",
          "2021-05-26T00:00:00+00:00",
          "2021-05-27T00:00:00+00:00",
          "2021-05-31T00:00:00+00:00",
          "2021-06-07T00:00:00+00:00",
          "2021-06-09T00:00:00+00:00",
          "2021-06-14T00:00:00+00:00",
          "2021-06-22T00:00:00+00:00",
          "2021-06-23T00:00:00+00:00",
          "2021-06-29T00:00:00+00:00",
          "2021-06-30T00:00:00+00:00",
          "2021-07-06T00:00:00+00:00",
          "2021-07-07T00:00:00+00:00",
          "2021-07-08T00:00:00+00:00",
          "2021-07-13T00:00:00+00:00",
          "2021-07-15T00:00:00+00:00",
          "2021-07-16T00:00:00+00:00",
          "2021-07-21T00:00:00+00:00",
          "2021-07-23T00:00:00+00:00",
          "2021-07-26T00:00:00+00:00",
          "2021-07-28T00:00:00+00:00",
          "2021-07-30T00:00:00+00:00",
          "2021-08-02T00:00:00+00:00",
          "2021-08-03T00:00:00+00:00",
          "2021-08-05T00:00:00+00:00",
          "2021-08-06T00:00:00+00:00",
          "2021-08-09T00:00:00+00:00",
          "2021-08-10T00:00:00+00:00",
          "2021-08-11T00:00:00+00:00",
          "2021-08-13T00:00:00+00:00",
          "2021-08-18T00:00:00+00:00",
          "2021-08-23T00:00:00+00:00",
          "2021-08-25T00:00:00+00:00",
          "2021-08-26T00:00:00+00:00",
          "2021-08-30T00:00:00+00:00",
          "2021-09-01T00:00:00+00:00",
          "2021-09-02T00:00:00+00:00"
         ],
         "y": [
          1.71128,
          1.7066,
          1.71089,
          1.71345,
          1.7132399999999999,
          1.71255,
          1.70927,
          1.71341,
          1.7158099999999998,
          1.7177,
          1.71535,
          1.71437,
          1.71879,
          1.72167,
          1.72692,
          1.72767,
          1.7407,
          1.73684,
          1.72183,
          1.72728,
          1.73336,
          1.7405300000000001,
          1.73335,
          1.73577,
          1.7441499999999999,
          1.7408299999999999,
          1.7419799999999999,
          1.7408000000000001,
          1.7316500000000001,
          1.73282,
          1.7357200000000002,
          1.74061,
          1.73506,
          1.73259,
          1.7377,
          1.7338900000000002,
          1.7372800000000002,
          1.73603
         ],
         "yaxis": "y"
        },
        {
         "hovertext": [
          "order id: 3<br>order type: Sell<br>close probability: 1.0000<br>margin: 5730.489956<br>profit: -1089.253491",
          "order id: 4<br>order type: Sell<br>close probability: 1.0000<br>margin: 3629.665690<br>profit: 548.421749",
          "order id: 5<br>order type: Buy<br>close probability: 1.0000<br>margin: 1835.162122<br>profit: 363.771785",
          "order id: 11<br>order type: Sell<br>close probability: 1.0000<br>margin: 7287.248774<br>profit: -4824.338307",
          "order id: 12<br>order type: Buy<br>close probability: 1.0000<br>margin: 5023.120832<br>profit: -3477.069694"
         ],
         "legendgroup": "g1",
         "marker": {
          "color": "black",
          "line": {
           "width": 1.5
          },
          "size": 7,
          "symbol": "line-ns"
         },
         "mode": "markers",
         "name": "GBPCAD",
         "showlegend": false,
         "type": "scatter",
         "x": [
          "2021-05-27T00:00:00+00:00",
          "2021-06-09T00:00:00+00:00",
          "2021-06-14T00:00:00+00:00",
          "2021-08-03T00:00:00+00:00",
          "2021-08-11T00:00:00+00:00"
         ],
         "y": [
          1.71345,
          1.70927,
          1.71341,
          1.7441499999999999,
          1.73282
         ],
         "yaxis": "y"
        },
        {
         "hovertext": [
          "balance: 10000.000000 USD<br>equity: 10000.000000<br>margin: 0.000000<br>free margin: 10000.000000<br>margin level: inf",
          "balance: 10000.000000 USD<br>equity: 10000.000000<br>margin: 0.000000<br>free margin: 10000.000000<br>margin level: inf",
          "balance: 10000.000000 USD<br>equity: 10000.000000<br>margin: 0.000000<br>free margin: 10000.000000<br>margin level: inf",
          "balance: 10000.000000 USD<br>equity: 10000.000000<br>margin: 0.000000<br>free margin: 10000.000000<br>margin level: inf",
          "balance: 10000.000000 USD<br>equity: 10000.000000<br>margin: 0.000000<br>free margin: 10000.000000<br>margin level: inf",
          "balance: 10000.000000 USD<br>equity: 10000.000000<br>margin: 0.000000<br>free margin: 10000.000000<br>margin level: inf",
          "balance: 10000.000000 USD<br>equity: 10000.000000<br>margin: 0.000000<br>free margin: 10000.000000<br>margin level: inf",
          "balance: 10000.000000 USD<br>equity: 10000.000000<br>margin: 0.000000<br>free margin: 10000.000000<br>margin level: inf",
          "balance: 10000.000000 USD<br>equity: 10000.000000<br>margin: 0.000000<br>free margin: 10000.000000<br>margin level: inf",
          "balance: 10000.000000 USD<br>equity: 10000.000000<br>margin: 0.000000<br>free margin: 10000.000000<br>margin level: inf",
          "balance: 10000.000000 USD<br>equity: 10000.000000<br>margin: 0.000000<br>free margin: 10000.000000<br>margin level: inf",
          "balance: 10000.000000 USD<br>equity: 9977.849488<br>margin: 50.000000<br>free margin: 9927.849488<br>margin level: 199.556990",
          "balance: 9977.849488 USD<br>equity: 9014.990372<br>margin: 5390.000000<br>free margin: 3624.990372<br>margin level: 1.672540",
          "balance: 9014.990372 USD<br>equity: 9014.990372<br>margin: 0.000000<br>free margin: 9014.990372<br>margin level: inf",
          "balance: 9014.990372 USD<br>equity: 9014.990372<br>margin: 0.000000<br>free margin: 9014.990372<br>margin level: inf",
          "balance: 9014.990372 USD<br>equity: 9014.990372<br>margin: 0.000000<br>free margin: 9014.990372<br>margin level: inf",
          "balance: 9014.990372 USD<br>equity: 7925.736881<br>margin: 5730.489956<br>free margin: 2195.246925<br>margin level: 1.383082",
          "balance: 7925.736881 USD<br>equity: 7925.736881<br>margin: 0.000000<br>free margin: 7925.736881<br>margin level: inf",
          "balance: 7925.736881 USD<br>equity: 7925.736881<br>margin: 0.000000<br>free margin: 7925.736881<br>margin level: inf",
          "balance: 7925.736881 USD<br>equity: 7925.736881<br>margin: 0.000000<br>free margin: 7925.736881<br>margin level: inf",
          "balance: 7925.736881 USD<br>equity: 7925.736881<br>margin: 0.000000<br>free margin: 7925.736881<br>margin level: inf",
          "balance: 7925.736881 USD<br>equity: 7925.736881<br>margin: 0.000000<br>free margin: 7925.736881<br>margin level: inf",
          "balance: 7925.736881 USD<br>equity: 7925.736881<br>margin: 0.000000<br>free margin: 7925.736881<br>margin level: inf",
          "balance: 7925.736881 USD<br>equity: 7925.736881<br>margin: 0.000000<br>free margin: 7925.736881<br>margin level: inf",
          "balance: 7925.736881 USD<br>equity: 7491.012463<br>margin: 3629.665690<br>free margin: 3861.346773<br>margin level: 2.063830",
          "balance: 7925.736881 USD<br>equity: 8474.158630<br>margin: 3629.665690<br>free margin: 4844.492940<br>margin level: 2.334694",
          "balance: 8474.158630 USD<br>equity: 8704.500812<br>margin: 7059.824422<br>free margin: 1644.676391<br>margin level: 1.232963",
          "balance: 8240.296043 USD<br>equity: 8977.412315<br>margin: 1835.162122<br>free margin: 7142.250194<br>margin level: 4.891891",
          "balance: 8240.296043 USD<br>equity: 8535.751815<br>margin: 2355.733022<br>free margin: 6180.018793<br>margin level: 3.623395",
          "balance: 8604.067829 USD<br>equity: 8508.231815<br>margin: 520.570900<br>free margin: 7987.660915<br>margin level: 16.344040",
          "balance: 8508.231815 USD<br>equity: 8508.231815<br>margin: 0.000000<br>free margin: 8508.231815<br>margin level: inf",
          "balance: 8508.231815 USD<br>equity: 8508.231815<br>margin: 0.000000<br>free margin: 8508.231815<br>margin level: inf",
          "balance: 8508.231815 USD<br>equity: 8508.231815<br>margin: 0.000000<br>free margin: 8508.231815<br>margin level: inf",
          "balance: 8508.231815 USD<br>equity: 8508.231815<br>margin: 0.000000<br>free margin: 8508.231815<br>margin level: inf",
          "balance: 8508.231815 USD<br>equity: 8508.231815<br>margin: 0.000000<br>free margin: 8508.231815<br>margin level: inf",
          "balance: 8508.231815 USD<br>equity: 8508.231815<br>margin: 0.000000<br>free margin: 8508.231815<br>margin level: inf",
          "balance: 8508.231815 USD<br>equity: 8508.231815<br>margin: 0.000000<br>free margin: 8508.231815<br>margin level: inf",
          "balance: 8508.231815 USD<br>equity: 8508.231815<br>margin: 0.000000<br>free margin: 8508.231815<br>margin level: inf",
          "balance: 8508.231815 USD<br>equity: 8508.231815<br>margin: 0.000000<br>free margin: 8508.231815<br>margin level: inf",
          "balance: 8508.231815 USD<br>equity: 8508.231815<br>margin: 0.000000<br>free margin: 8508.231815<br>margin level: inf",
          "balance: 8508.231815 USD<br>equity: 8508.231815<br>margin: 0.000000<br>free margin: 8508.231815<br>margin level: inf",
          "balance: 8508.231815 USD<br>equity: 8508.231815<br>margin: 0.000000<br>free margin: 8508.231815<br>margin level: inf",
          "balance: 8508.231815 USD<br>equity: 8508.231815<br>margin: 0.000000<br>free margin: 8508.231815<br>margin level: inf",
          "balance: 8508.231815 USD<br>equity: 8508.231815<br>margin: 0.000000<br>free margin: 8508.231815<br>margin level: inf",
          "balance: 8508.231815 USD<br>equity: 8508.231815<br>margin: 0.000000<br>free margin: 8508.231815<br>margin level: inf",
          "balance: 8508.231815 USD<br>equity: 8508.231815<br>margin: 0.000000<br>free margin: 8508.231815<br>margin level: inf",
          "balance: 8508.231815 USD<br>equity: 8508.231815<br>margin: 0.000000<br>free margin: 8508.231815<br>margin level: inf",
          "balance: 8508.231815 USD<br>equity: 8508.231815<br>margin: 0.000000<br>free margin: 8508.231815<br>margin level: inf",
          "balance: 8508.231815 USD<br>equity: 8508.231815<br>margin: 0.000000<br>free margin: 8508.231815<br>margin level: inf",
          "balance: 8508.231815 USD<br>equity: 8508.231815<br>margin: 0.000000<br>free margin: 8508.231815<br>margin level: inf",
          "balance: 8508.231815 USD<br>equity: 8508.231815<br>margin: 0.000000<br>free margin: 8508.231815<br>margin level: inf",
          "balance: 8508.231815 USD<br>equity: 8699.805892<br>margin: 2100.000000<br>free margin: 6599.805892<br>margin level: 4.142765",
          "balance: 8699.805892 USD<br>equity: 8699.805892<br>margin: 0.000000<br>free margin: 8699.805892<br>margin level: inf",
          "balance: 8699.805892 USD<br>equity: 8699.805892<br>margin: 0.000000<br>free margin: 8699.805892<br>margin level: inf",
          "balance: 8699.805892 USD<br>equity: 8699.805892<br>margin: 0.000000<br>free margin: 8699.805892<br>margin level: inf",
          "balance: 8699.805892 USD<br>equity: 10529.865565<br>margin: 4760.000000<br>free margin: 5769.865565<br>margin level: 2.212157",
          "balance: 10529.865565 USD<br>equity: 10529.865565<br>margin: 0.000000<br>free margin: 10529.865565<br>margin level: inf",
          "balance: 10529.865565 USD<br>equity: 11084.204878<br>margin: 1630.000000<br>free margin: 9454.204878<br>margin level: 6.800126",
          "balance: 11084.204878 USD<br>equity: 11084.204878<br>margin: 0.000000<br>free margin: 11084.204878<br>margin level: inf",
          "balance: 11084.204878 USD<br>equity: 11084.204878<br>margin: 0.000000<br>free margin: 11084.204878<br>margin level: inf",
          "balance: 11084.204878 USD<br>equity: 11084.204878<br>margin: 0.000000<br>free margin: 11084.204878<br>margin level: inf",
          "balance: 11084.204878 USD<br>equity: 11084.204878<br>margin: 0.000000<br>free margin: 11084.204878<br>margin level: inf",
          "balance: 11084.204878 USD<br>equity: 11084.204878<br>margin: 0.000000<br>free margin: 11084.204878<br>margin level: inf",
          "balance: 11084.204878 USD<br>equity: 9759.691881<br>margin: 7287.248774<br>free margin: 2472.443106<br>margin level: 1.339283",
          "balance: 11084.204878 USD<br>equity: 6259.866571<br>margin: 7287.248774<br>free margin: -1027.382203<br>margin level: 0.859016",
          "balance: 6259.866571 USD<br>equity: 5234.656484<br>margin: 5023.120832<br>free margin: 211.535653<br>margin level: 1.042112",
          "balance: 6259.866571 USD<br>equity: 5095.509404<br>margin: 5023.120832<br>free margin: 72.388572<br>margin level: 1.014411",
          "balance: 6259.866571 USD<br>equity: 5431.385246<br>margin: 5023.120832<br>free margin: 408.264415<br>margin level: 1.081277",
          "balance: 6259.866571 USD<br>equity: 5094.193659<br>margin: 5023.120832<br>free margin: 71.072827<br>margin level: 1.014149",
          "balance: 6259.866571 USD<br>equity: 2450.307295<br>margin: 5023.120832<br>free margin: -2572.813537<br>margin level: 0.487806",
          "balance: 6259.866571 USD<br>equity: 2782.796877<br>margin: 5023.120832<br>free margin: -2240.323955<br>margin level: 0.553998",
          "balance: 2782.796877 USD<br>equity: 2782.796877<br>margin: 0.000000<br>free margin: 2782.796877<br>margin level: inf",
          "balance: 2782.796877 USD<br>equity: 2782.796877<br>margin: 0.000000<br>free margin: 2782.796877<br>margin level: inf",
          "balance: 2782.796877 USD<br>equity: 2782.796877<br>margin: 0.000000<br>free margin: 2782.796877<br>margin level: inf",
          "balance: 2782.796877 USD<br>equity: 2782.796877<br>margin: 0.000000<br>free margin: 2782.796877<br>margin level: inf",
          "balance: 2782.796877 USD<br>equity: 2782.796877<br>margin: 0.000000<br>free margin: 2782.796877<br>margin level: inf",
          "balance: 2782.796877 USD<br>equity: 2782.796877<br>margin: 0.000000<br>free margin: 2782.796877<br>margin level: inf",
          "balance: 2782.796877 USD<br>equity: 2782.796877<br>margin: 0.000000<br>free margin: 2782.796877<br>margin level: inf",
          "balance: 2782.796877 USD<br>equity: 2782.796877<br>margin: 0.000000<br>free margin: 2782.796877<br>margin level: inf",
          "balance: 2782.796877 USD<br>equity: 2782.796877<br>margin: 0.000000<br>free margin: 2782.796877<br>margin level: inf",
          "balance: 2782.796877 USD<br>equity: 2782.796877<br>margin: 0.000000<br>free margin: 2782.796877<br>margin level: inf",
          "balance: 2782.796877 USD<br>equity: 2782.796877<br>margin: 0.000000<br>free margin: 2782.796877<br>margin level: inf",
          "balance: 2782.796877 USD<br>equity: 2782.796877<br>margin: 0.000000<br>free margin: 2782.796877<br>margin level: inf",
          "balance: 2782.796877 USD<br>equity: 2782.796877<br>margin: 0.000000<br>free margin: 2782.796877<br>margin level: inf",
          "balance: 2782.796877 USD<br>equity: 2782.796877<br>margin: 0.000000<br>free margin: 2782.796877<br>margin level: inf",
          "balance: 2782.796877 USD<br>equity: 2782.796877<br>margin: 0.000000<br>free margin: 2782.796877<br>margin level: inf",
          "balance: 2782.796877 USD<br>equity: 2782.796877<br>margin: 0.000000<br>free margin: 2782.796877<br>margin level: inf",
          "balance: 2782.796877 USD<br>equity: 2782.796877<br>margin: 0.000000<br>free margin: 2782.796877<br>margin level: inf"
         ],
         "legendgroup": "g2",
         "line": {
          "color": "rgba(0.5643983083429451, 0.36993464052287583, 0.5132641291810843, 1.0)"
         },
         "mode": "lines+markers",
         "name": "EURUSD",
         "opacity": 1,
         "type": "scatter",
         "x": [
          "2021-05-05T00:00:00+00:00",
          "2021-05-06T00:00:00+00:00",
          "2021-05-07T00:00:00+00:00",
          "2021-05-10T00:00:00+00:00",
          "2021-05-11T00:00:00+00:00",
          "2021-05-12T00:00:00+00:00",
          "2021-05-13T00:00:00+00:00",
          "2021-05-14T00:00:00+00:00",
          "2021-05-17T00:00:00+00:00",
          "2021-05-18T00:00:00+00:00",
          "2021-05-19T00:00:00+00:00",
          "2021-05-20T00:00:00+00:00",
          "2021-05-21T00:00:00+00:00",
          "2021-05-24T00:00:00+00:00",
          "2021-05-25T00:00:00+00:00",
          "2021-05-26T00:00:00+00:00",
          "2021-05-27T00:00:00+00:00",
          "2021-05-28T00:00:00+00:00",
          "2021-05-31T00:00:00+00:00",
          "2021-06-01T00:00:00+00:00",
          "2021-06-02T00:00:00+00:00",
          "2021-06-03T00:00:00+00:00",
          "2021-06-04T00:00:00+00:00",
          "2021-06-07T00:00:00+00:00",
          "2021-06-08T00:00:00+00:00",
          "2021-06-09T00:00:00+00:00",
          "2021-06-10T00:00:00+00:00",
          "2021-06-11T00:00:00+00:00",
          "2021-06-14T00:00:00+00:00",
          "2021-06-15T00:00:00+00:00",
          "2021-06-16T00:00:00+00:00",
          "2021-06-17T00:00:00+00:00",
          "2021-06-18T00:00:00+00:00",
          "2021-06-21T00:00:00+00:00",
          "2021-06-22T00:00:00+00:00",
          "2021-06-23T00:00:00+00:00",
          "2021-06-24T00:00:00+00:00",
          "2021-06-25T00:00:00+00:00",
          "2021-06-28T00:00:00+00:00",
          "2021-06-29T00:00:00+00:00",
          "2021-06-30T00:00:00+00:00",
          "2021-07-01T00:00:00+00:00",
          "2021-07-02T00:00:00+00:00",
          "2021-07-05T00:00:00+00:00",
          "2021-07-06T00:00:00+00:00",
          "2021-07-07T00:00:00+00:00",
          "2021-07-08T00:00:00+00:00",
          "2021-07-09T00:00:00+00:00",
          "2021-07-12T00:00:00+00:00",
          "2021-07-13T00:00:00+00:00",
          "2021-07-14T00:00:00+00:00",
          "2021-07-15T00:00:00+00:00",
          "2021-07-16T00:00:00+00:00",
          "2021-07-19T00:00:00+00:00",
          "2021-07-20T00:00:00+00:00",
          "2021-07-21T00:00:00+00:00",
          "2021-07-22T00:00:00+00:00",
          "2021-07-23T00:00:00+00:00",
          "2021-07-26T00:00:00+00:00",
          "2021-07-27T00:00:00+00:00",
          "2021-07-28T00:00:00+00:00",
          "2021-07-29T00:00:00+00:00",
          "2021-07-30T00:00:00+00:00",
          "2021-08-02T00:00:00+00:00",
          "2021-08-03T00:00:00+00:00",
          "2021-08-04T00:00:00+00:00",
          "2021-08-05T00:00:00+00:00",
          "2021-08-06T00:00:00+00:00",
          "2021-08-09T00:00:00+00:00",
          "2021-08-10T00:00:00+00:00",
          "2021-08-11T00:00:00+00:00",
          "2021-08-12T00:00:00+00:00",
          "2021-08-13T00:00:00+00:00",
          "2021-08-16T00:00:00+00:00",
          "2021-08-17T00:00:00+00:00",
          "2021-08-18T00:00:00+00:00",
          "2021-08-19T00:00:00+00:00",
          "2021-08-20T00:00:00+00:00",
          "2021-08-23T00:00:00+00:00",
          "2021-08-24T00:00:00+00:00",
          "2021-08-25T00:00:00+00:00",
          "2021-08-26T00:00:00+00:00",
          "2021-08-27T00:00:00+00:00",
          "2021-08-30T00:00:00+00:00",
          "2021-08-31T00:00:00+00:00",
          "2021-09-01T00:00:00+00:00",
          "2021-09-02T00:00:00+00:00",
          "2021-09-03T00:00:00+00:00"
         ],
         "y": [
          1.20036,
          1.20646,
          1.21618,
          1.21282,
          1.2147000000000001,
          1.20705,
          1.20791,
          1.21441,
          1.21511,
          1.2221899999999999,
          1.21744,
          1.22269,
          1.21806,
          1.2215,
          1.22497,
          1.21922,
          1.21934,
          1.21896,
          1.2225,
          1.22126,
          1.221,
          1.21265,
          1.21662,
          1.21893,
          1.21726,
          1.21787,
          1.21751,
          1.21063,
          1.212,
          1.21264,
          1.19943,
          1.19069,
          1.18597,
          1.19185,
          1.19413,
          1.19258,
          1.19315,
          1.1937,
          1.19242,
          1.1896,
          1.1856,
          1.18497,
          1.18646,
          1.18634,
          1.18231,
          1.17903,
          1.18449,
          1.18774,
          1.18606,
          1.17765,
          1.18358,
          1.18118,
          1.18055,
          1.17987,
          1.17805,
          1.17946,
          1.17707,
          1.17689,
          1.18029,
          1.18165,
          1.18441,
          1.18865,
          1.1873,
          1.18688,
          1.18637,
          1.18367,
          1.18327,
          1.17611,
          1.17362,
          1.17203,
          1.17388,
          1.17296,
          1.17962,
          1.17768,
          1.17081,
          1.17108,
          1.16756,
          1.16996,
          1.1745700000000001,
          1.17555,
          1.17716,
          1.17515,
          1.1795499999999999,
          1.17962,
          1.18083,
          1.18384,
          1.18744,
          1.18772
         ],
         "yaxis": "y2"
        },
        {
         "hovertext": [
          "order id: <br>hold probability: 0.0000<br>hold: False<br>volume: -84.403102<br>modified volume: 84.4000<br>fee: nan<br>margin: nan<br>error: low free margin (order margin=103195.036, order profit=-1334.0485045792918, free margin=9927.849487958882)",
          "order id: <br>hold probability: 0.0000<br>hold: False<br>volume: 98.346931<br>modified volume: 98.3500<br>fee: nan<br>margin: nan<br>error: low free margin (order margin=120475.7995, order profit=-1860.5893951016242, free margin=9014.990371933887)",
          "order id: <br>hold probability: 0.1608<br>hold: False<br>volume: -68.358129<br>modified volume: 68.3600<br>fee: nan<br>margin: nan<br>error: low free margin (order margin=83345.8792, order profit=-1550.8686457862389, free margin=3057.6768750473548)",
          "order id: <br>hold probability: 0.0000<br>hold: False<br>volume: -89.857692<br>modified volume: 89.8600<br>fee: nan<br>margin: nan<br>error: low free margin (order margin=109569.8924, order profit=-1850.4493791231528, free margin=7925.736880539842)",
          "order id: <br>hold probability: 0.0000<br>hold: False<br>volume: -87.569794<br>modified volume: 87.5700<br>fee: nan<br>margin: nan<br>error: low free margin (order margin=106595.45820000001, order profit=-1788.430053807271, free margin=3861.346773391081)",
          "order id: 6<br>hold probability: 0.0000<br>hold: False<br>volume: 4.292865<br>modified volume: 4.2900<br>fee: 0.000185<br>margin: 5224.662300<br>error: ",
          "order id: <br>hold probability: 0.0000<br>hold: False<br>volume: -91.148510<br>modified volume: 91.1500<br>fee: nan<br>margin: nan<br>error: low free margin (order margin=110976.0365, order profit=-1995.3182998727661, free margin=6869.338690756358)",
          "order id: 7<br>hold probability: 0.0000<br>hold: False<br>volume: -0.431550<br>modified volume: 0.4300<br>fee: 0.000219<br>margin: 520.570900<br>error: ",
          "order id: <br>hold probability: 0.0000<br>hold: False<br>volume: -83.798537<br>modified volume: 83.8000<br>fee: nan<br>margin: nan<br>error: low free margin (order margin=101565.6, order profit=-1555.7787892670162, free margin=8015.180914886443)",
          "order id: <br>hold probability: 0.0000<br>hold: False<br>volume: 68.399912<br>modified volume: 68.4000<br>fee: nan<br>margin: nan<br>error: low free margin (order margin=82944.576, order profit=-1069.7166529846836, free margin=8508.231814886443)",
          "order id: <br>hold probability: 0.0000<br>hold: False<br>volume: 56.059202<br>modified volume: 56.0600<br>fee: nan<br>margin: nan<br>error: low free margin (order margin=67240.0458, order profit=-1084.1779122685966, free margin=8508.231814886443)",
          "order id: <br>hold probability: 0.0000<br>hold: False<br>volume: -54.324698<br>modified volume: 54.3200<br>fee: nan<br>margin: nan<br>error: low free margin (order margin=64678.2808, order profit=-1499.4250580468215, free margin=8508.231814886443)",
          "order id: <br>hold probability: 0.0000<br>hold: False<br>volume: 96.484882<br>modified volume: 96.4800<br>fee: nan<br>margin: nan<br>error: low free margin (order margin=114989.68800000001, order profit=-2139.908482079389, free margin=8508.231814886443)",
          "order id: <br>hold probability: 0.0000<br>hold: False<br>volume: 39.093607<br>modified volume: 39.0900<br>fee: nan<br>margin: nan<br>error: low free margin (order margin=46678.5417, order profit=-880.4504211333963, free margin=8508.231814886443)",
          "order id: <br>hold probability: 0.0000<br>hold: False<br>volume: 50.634270<br>modified volume: 50.6300<br>fee: nan<br>margin: nan<br>error: low free margin (order margin=60409.184499999996, order profit=-1065.8274111018527, free margin=8508.231814886443)",
          "order id: <br>hold probability: 0.0000<br>hold: False<br>volume: -80.462769<br>modified volume: 80.4600<br>fee: nan<br>margin: nan<br>error: low free margin (order margin=96045.10200000001, order profit=-1181.0618803844545, free margin=8508.231814886443)",
          "order id: <br>hold probability: 0.0000<br>hold: False<br>volume: -99.989350<br>modified volume: 99.9900<br>fee: nan<br>margin: nan<br>error: low free margin (order margin=119230.0758, order profit=-2338.9910807897586, free margin=8508.231814886443)",
          "order id: <br>hold probability: 0.0000<br>hold: False<br>volume: 14.974999<br>modified volume: 14.9700<br>fee: nan<br>margin: nan<br>error: low free margin (order margin=17808.311999999998, order profit=-300.7378105687409, free margin=8508.231814886443)",
          "order id: <br>hold probability: 0.0000<br>hold: False<br>volume: -13.842005<br>modified volume: 13.8400<br>fee: nan<br>margin: nan<br>error: low free margin (order margin=16420.6064, order profit=-286.5532251594032, free margin=8508.231814886443)",
          "order id: <br>hold probability: 0.0000<br>hold: False<br>volume: -80.757782<br>modified volume: 80.7600<br>fee: nan<br>margin: nan<br>error: low free margin (order margin=95218.46280000001, order profit=-1536.1546737500557, free margin=8508.231814886443)",
          "order id: <br>hold probability: 0.0000<br>hold: False<br>volume: 64.446926<br>modified volume: 64.4500<br>fee: nan<br>margin: nan<br>error: low free margin (order margin=76340.3805, order profit=-1256.873496943233, free margin=8508.231814886443)",
          "order id: <br>hold probability: 0.0000<br>hold: False<br>volume: 28.553577<br>modified volume: 28.5500<br>fee: nan<br>margin: nan<br>error: low free margin (order margin=33909.977, order profit=-617.6837062379601, free margin=8508.231814886443)",
          "order id: <br>hold probability: 0.0000<br>hold: False<br>volume: 44.520482<br>modified volume: 44.5200<br>fee: nan<br>margin: nan<br>error: low free margin (order margin=52803.39119999999, order profit=-1016.342460261617, free margin=8508.231814886443)",
          "order id: <br>hold probability: 0.0000<br>hold: False<br>volume: 19.307498<br>modified volume: 19.3100<br>fee: nan<br>margin: nan<br>error: low free margin (order margin=22740.4215, order profit=-451.4429813387883, free margin=8508.231814886443)",
          "order id: <br>hold probability: 0.0954<br>hold: False<br>volume: -84.175645<br>modified volume: 84.1800<br>fee: nan<br>margin: nan<br>error: low free margin (order margin=99168.24900000001, order profit=-1322.0410821178343, free margin=8699.805891628625)",
          "order id: <br>hold probability: 0.0000<br>hold: False<br>volume: 84.211941<br>modified volume: 84.2100<br>fee: nan<br>margin: nan<br>error: low free margin (order margin=99121.0647, order profit=-1772.020538003504, free margin=10529.865565239728)",
          "order id: <br>hold probability: 0.0000<br>hold: False<br>volume: 33.275364<br>modified volume: 33.2800<br>fee: nan<br>margin: nan<br>error: low free margin (order margin=39280.0512, order profit=-732.1716164468871, free margin=11084.2048780445)",
          "order id: <br>hold probability: 0.0000<br>hold: False<br>volume: -19.852757<br>modified volume: 19.8500<br>fee: nan<br>margin: nan<br>error: low free margin (order margin=23455.752500000006, order profit=-369.69821813306754, free margin=11084.2048780445)",
          "order id: <br>hold probability: 0.0000<br>hold: False<br>volume: 34.490583<br>modified volume: 34.4900<br>fee: nan<br>margin: nan<br>error: low free margin (order margin=40996.5385, order profit=-732.6852237288366, free margin=11084.2048780445)",
          "order id: <br>hold probability: 0.0000<br>hold: False<br>volume: 38.038243<br>modified volume: 38.0400<br>fee: nan<br>margin: nan<br>error: low free margin (order margin=45164.892, order profit=-664.4224606098851, free margin=3485.6477803638572)",
          "order id: <br>hold probability: 0.0000<br>hold: False<br>volume: 54.011052<br>modified volume: 54.0100<br>fee: nan<br>margin: nan<br>error: low free margin (order margin=64103.3888, order profit=-1041.6546034082362, free margin=2472.44310633653)",
          "order id: <br>hold probability: 0.0000<br>hold: False<br>volume: 5.024128<br>modified volume: 5.0200<br>fee: nan<br>margin: nan<br>error: low free margin (order margin=5883.5906, order profit=-83.78066971222842, free margin=-2572.8135365617563)",
          "order id: <br>hold probability: 0.2688<br>hold: False<br>volume: -11.069796<br>modified volume: 11.0700<br>fee: nan<br>margin: nan<br>error: low free margin (order margin=12994.851600000002, order profit=-250.31609864016949, free margin=2782.7968769158456)",
          "order id: <br>hold probability: 0.0137<br>hold: False<br>volume: 68.911312<br>modified volume: 68.9100<br>fee: nan<br>margin: nan<br>error: low free margin (order margin=80828.67360000001, order profit=-1534.2479857584233, free margin=2782.7968769158456)",
          "order id: <br>hold probability: 0.0000<br>hold: False<br>volume: -74.555734<br>modified volume: 74.5600<br>fee: nan<br>margin: nan<br>error: low free margin (order margin=87807.8208, order profit=-888.9984514153427, free margin=2782.7968769158456)",
          "order id: <br>hold probability: 0.0009<br>hold: False<br>volume: -35.424363<br>modified volume: 35.4200<br>fee: nan<br>margin: nan<br>error: low free margin (order margin=41470.0902, order profit=-768.4919845106826, free margin=2782.7968769158456)",
          "order id: <br>hold probability: 0.0000<br>hold: False<br>volume: 52.378265<br>modified volume: 52.3800<br>fee: nan<br>margin: nan<br>error: low free margin (order margin=61282.5048, order profit=-1166.6432227311484, free margin=2782.7968769158456)",
          "order id: <br>hold probability: 0.0000<br>hold: False<br>volume: -92.048272<br>modified volume: 92.0500<br>fee: nan<br>margin: nan<br>error: low free margin (order margin=108209.3775, order profit=-2291.266484386298, free margin=2782.7968769158456)",
          "order id: <br>hold probability: 0.0000<br>hold: False<br>volume: -57.164754<br>modified volume: 57.1600<br>fee: nan<br>margin: nan<br>error: low free margin (order margin=67286.4656, order profit=-1036.1376573114276, free margin=2782.7968769158456)",
          "order id: <br>hold probability: 0.0000<br>hold: False<br>volume: 48.125220<br>modified volume: 48.1300<br>fee: nan<br>margin: nan<br>error: low free margin (order margin=56559.96949999999, order profit=-963.7364704905654, free margin=2782.7968769158456)",
          "order id: <br>hold probability: 0.0000<br>hold: False<br>volume: 47.716749<br>modified volume: 47.7200<br>fee: nan<br>margin: nan<br>error: low free margin (order margin=56288.126, order profit=-921.6194792205044, free margin=2782.7968769158456)",
          "order id: <br>hold probability: 0.0000<br>hold: False<br>volume: 83.048712<br>modified volume: 83.0500<br>fee: nan<br>margin: nan<br>error: low free margin (order margin=98067.9315, order profit=-1831.244602697049, free margin=2782.7968769158456)",
          "order id: <br>hold probability: 0.0000<br>hold: False<br>volume: 29.901523<br>modified volume: 29.9000<br>fee: nan<br>margin: nan<br>error: low free margin (order margin=35396.816, order profit=-579.4245264005204, free margin=2782.7968769158456)",
          "order id: <br>hold probability: 0.0000<br>hold: False<br>volume: 9.772620<br>modified volume: 9.7700<br>fee: nan<br>margin: nan<br>error: low free margin (order margin=11601.288800000002, order profit=-219.54690869689904, free margin=2782.7968769158456)"
         ],
         "legendgroup": "g2",
         "marker": {
          "color": [
           "gray",
           "gray",
           "gray",
           "gray",
           "gray",
           "green",
           "gray",
           "red",
           "gray",
           "gray",
           "gray",
           "gray",
           "gray",
           "gray",
           "gray",
           "gray",
           "gray",
           "gray",
           "gray",
           "gray",
           "gray",
           "gray",
           "gray",
           "gray",
           "gray",
           "gray",
           "gray",
           "gray",
           "gray",
           "gray",
           "gray",
           "gray",
           "gray",
           "gray",
           "gray",
           "gray",
           "gray",
           "gray",
           "gray",
           "gray",
           "gray",
           "gray",
           "gray",
           "gray"
          ],
          "size": [
           26.56985698569857,
           29.63916391639164,
           23.04070407040704,
           27.77117711771177,
           27.26732673267327,
           8.943894389438944,
           28.055005500550056,
           8.094609460946094,
           26.437843784378437,
           23.04950495049505,
           20.334433443344334,
           19.951595159515954,
           29.227722772277225,
           16.6006600660066,
           19.13971397139714,
           25.702970297029704,
           30,
           11.293729372937294,
           11.045104510451045,
           25.768976897689768,
           22.18041804180418,
           14.281628162816281,
           17.795379537953796,
           12.248624862486249,
           26.52145214521452,
           26.528052805280527,
           15.322332233223323,
           12.367436743674368,
           15.588558855885587,
           16.36963696369637,
           19.883388338833882,
           9.104510451045105,
           10.435643564356436,
           23.161716171617158,
           24.404840484048403,
           15.793179317931791,
           19.524752475247524,
           28.25302530253025,
           20.576457645764577,
           18.58965896589659,
           18.499449944994495,
           26.27282728272827,
           14.578657865786578,
           10.14961496149615
          ],
          "symbol": [
           "triangle-down",
           "triangle-down",
           "triangle-down",
           "triangle-down",
           "triangle-down",
           "triangle-up",
           "triangle-down",
           "triangle-down",
           "triangle-down",
           "triangle-down",
           "triangle-down",
           "triangle-down",
           "triangle-down",
           "triangle-down",
           "triangle-down",
           "triangle-down",
           "triangle-down",
           "triangle-down",
           "triangle-down",
           "triangle-down",
           "triangle-down",
           "triangle-down",
           "triangle-down",
           "triangle-down",
           "triangle-down",
           "triangle-down",
           "triangle-down",
           "triangle-down",
           "triangle-down",
           "triangle-down",
           "triangle-down",
           "triangle-down",
           "triangle-down",
           "triangle-down",
           "triangle-down",
           "triangle-down",
           "triangle-down",
           "triangle-down",
           "triangle-down",
           "triangle-down",
           "triangle-down",
           "triangle-down",
           "triangle-down",
           "triangle-down"
          ]
         },
         "mode": "markers",
         "name": "EURUSD",
         "showlegend": false,
         "type": "scatter",
         "x": [
          "2021-05-20T00:00:00+00:00",
          "2021-05-25T00:00:00+00:00",
          "2021-05-26T00:00:00+00:00",
          "2021-05-27T00:00:00+00:00",
          "2021-06-08T00:00:00+00:00",
          "2021-06-09T00:00:00+00:00",
          "2021-06-10T00:00:00+00:00",
          "2021-06-11T00:00:00+00:00",
          "2021-06-14T00:00:00+00:00",
          "2021-06-15T00:00:00+00:00",
          "2021-06-16T00:00:00+00:00",
          "2021-06-17T00:00:00+00:00",
          "2021-06-21T00:00:00+00:00",
          "2021-06-22T00:00:00+00:00",
          "2021-06-24T00:00:00+00:00",
          "2021-06-25T00:00:00+00:00",
          "2021-06-28T00:00:00+00:00",
          "2021-06-29T00:00:00+00:00",
          "2021-07-02T00:00:00+00:00",
          "2021-07-07T00:00:00+00:00",
          "2021-07-08T00:00:00+00:00",
          "2021-07-09T00:00:00+00:00",
          "2021-07-12T00:00:00+00:00",
          "2021-07-13T00:00:00+00:00",
          "2021-07-20T00:00:00+00:00",
          "2021-07-22T00:00:00+00:00",
          "2021-07-26T00:00:00+00:00",
          "2021-07-27T00:00:00+00:00",
          "2021-07-29T00:00:00+00:00",
          "2021-07-30T00:00:00+00:00",
          "2021-08-02T00:00:00+00:00",
          "2021-08-10T00:00:00+00:00",
          "2021-08-11T00:00:00+00:00",
          "2021-08-12T00:00:00+00:00",
          "2021-08-16T00:00:00+00:00",
          "2021-08-17T00:00:00+00:00",
          "2021-08-20T00:00:00+00:00",
          "2021-08-24T00:00:00+00:00",
          "2021-08-25T00:00:00+00:00",
          "2021-08-26T00:00:00+00:00",
          "2021-08-27T00:00:00+00:00",
          "2021-08-31T00:00:00+00:00",
          "2021-09-01T00:00:00+00:00",
          "2021-09-02T00:00:00+00:00"
         ],
         "y": [
          1.22269,
          1.22497,
          1.21922,
          1.21934,
          1.21726,
          1.21787,
          1.21751,
          1.21063,
          1.212,
          1.21264,
          1.19943,
          1.19069,
          1.19185,
          1.19413,
          1.19315,
          1.1937,
          1.19242,
          1.1896,
          1.18646,
          1.17903,
          1.18449,
          1.18774,
          1.18606,
          1.17765,
          1.17805,
          1.17707,
          1.18029,
          1.18165,
          1.18865,
          1.1873,
          1.18688,
          1.17203,
          1.17388,
          1.17296,
          1.17768,
          1.17081,
          1.16996,
          1.17555,
          1.17716,
          1.17515,
          1.1795499999999999,
          1.18083,
          1.18384,
          1.18744
         ],
         "yaxis": "y2"
        },
        {
         "hovertext": [
          "order id: 6<br>order type: Buy<br>close probability: 1.0000<br>margin: 5224.662300<br>profit: -233.862587",
          "order id: 7<br>order type: Sell<br>close probability: 1.0000<br>margin: 520.570900<br>profit: -95.836014"
         ],
         "legendgroup": "g2",
         "marker": {
          "color": "black",
          "line": {
           "width": 1.5
          },
          "size": 7,
          "symbol": "line-ns"
         },
         "mode": "markers",
         "name": "EURUSD",
         "showlegend": false,
         "type": "scatter",
         "x": [
          "2021-06-10T00:00:00+00:00",
          "2021-06-15T00:00:00+00:00"
         ],
         "y": [
          1.21751,
          1.21264
         ],
         "yaxis": "y2"
        },
        {
         "hovertext": [
          "balance: 10000.000000 USD<br>equity: 10000.000000<br>margin: 0.000000<br>free margin: 10000.000000<br>margin level: inf",
          "balance: 10000.000000 USD<br>equity: 10000.000000<br>margin: 0.000000<br>free margin: 10000.000000<br>margin level: inf",
          "balance: 10000.000000 USD<br>equity: 10000.000000<br>margin: 0.000000<br>free margin: 10000.000000<br>margin level: inf",
          "balance: 10000.000000 USD<br>equity: 10000.000000<br>margin: 0.000000<br>free margin: 10000.000000<br>margin level: inf",
          "balance: 10000.000000 USD<br>equity: 10000.000000<br>margin: 0.000000<br>free margin: 10000.000000<br>margin level: inf",
          "balance: 10000.000000 USD<br>equity: 10000.000000<br>margin: 0.000000<br>free margin: 10000.000000<br>margin level: inf",
          "balance: 10000.000000 USD<br>equity: 10000.000000<br>margin: 0.000000<br>free margin: 10000.000000<br>margin level: inf",
          "balance: 10000.000000 USD<br>equity: 10000.000000<br>margin: 0.000000<br>free margin: 10000.000000<br>margin level: inf",
          "balance: 10000.000000 USD<br>equity: 10000.000000<br>margin: 0.000000<br>free margin: 10000.000000<br>margin level: inf",
          "balance: 10000.000000 USD<br>equity: 10000.000000<br>margin: 0.000000<br>free margin: 10000.000000<br>margin level: inf",
          "balance: 10000.000000 USD<br>equity: 10000.000000<br>margin: 0.000000<br>free margin: 10000.000000<br>margin level: inf",
          "balance: 10000.000000 USD<br>equity: 9977.849488<br>margin: 50.000000<br>free margin: 9927.849488<br>margin level: 199.556990",
          "balance: 9977.849488 USD<br>equity: 9014.990372<br>margin: 5390.000000<br>free margin: 3624.990372<br>margin level: 1.672540",
          "balance: 9014.990372 USD<br>equity: 9014.990372<br>margin: 0.000000<br>free margin: 9014.990372<br>margin level: inf",
          "balance: 9014.990372 USD<br>equity: 9014.990372<br>margin: 0.000000<br>free margin: 9014.990372<br>margin level: inf",
          "balance: 9014.990372 USD<br>equity: 9014.990372<br>margin: 0.000000<br>free margin: 9014.990372<br>margin level: inf",
          "balance: 9014.990372 USD<br>equity: 7925.736881<br>margin: 5730.489956<br>free margin: 2195.246925<br>margin level: 1.383082",
          "balance: 7925.736881 USD<br>equity: 7925.736881<br>margin: 0.000000<br>free margin: 7925.736881<br>margin level: inf",
          "balance: 7925.736881 USD<br>equity: 7925.736881<br>margin: 0.000000<br>free margin: 7925.736881<br>margin level: inf",
          "balance: 7925.736881 USD<br>equity: 7925.736881<br>margin: 0.000000<br>free margin: 7925.736881<br>margin level: inf",
          "balance: 7925.736881 USD<br>equity: 7925.736881<br>margin: 0.000000<br>free margin: 7925.736881<br>margin level: inf",
          "balance: 7925.736881 USD<br>equity: 7925.736881<br>margin: 0.000000<br>free margin: 7925.736881<br>margin level: inf",
          "balance: 7925.736881 USD<br>equity: 7925.736881<br>margin: 0.000000<br>free margin: 7925.736881<br>margin level: inf",
          "balance: 7925.736881 USD<br>equity: 7925.736881<br>margin: 0.000000<br>free margin: 7925.736881<br>margin level: inf",
          "balance: 7925.736881 USD<br>equity: 7491.012463<br>margin: 3629.665690<br>free margin: 3861.346773<br>margin level: 2.063830",
          "balance: 7925.736881 USD<br>equity: 8474.158630<br>margin: 3629.665690<br>free margin: 4844.492940<br>margin level: 2.334694",
          "balance: 8474.158630 USD<br>equity: 8704.500812<br>margin: 7059.824422<br>free margin: 1644.676391<br>margin level: 1.232963",
          "balance: 8240.296043 USD<br>equity: 8977.412315<br>margin: 1835.162122<br>free margin: 7142.250194<br>margin level: 4.891891",
          "balance: 8240.296043 USD<br>equity: 8535.751815<br>margin: 2355.733022<br>free margin: 6180.018793<br>margin level: 3.623395",
          "balance: 8604.067829 USD<br>equity: 8508.231815<br>margin: 520.570900<br>free margin: 7987.660915<br>margin level: 16.344040",
          "balance: 8508.231815 USD<br>equity: 8508.231815<br>margin: 0.000000<br>free margin: 8508.231815<br>margin level: inf",
          "balance: 8508.231815 USD<br>equity: 8508.231815<br>margin: 0.000000<br>free margin: 8508.231815<br>margin level: inf",
          "balance: 8508.231815 USD<br>equity: 8508.231815<br>margin: 0.000000<br>free margin: 8508.231815<br>margin level: inf",
          "balance: 8508.231815 USD<br>equity: 8508.231815<br>margin: 0.000000<br>free margin: 8508.231815<br>margin level: inf",
          "balance: 8508.231815 USD<br>equity: 8508.231815<br>margin: 0.000000<br>free margin: 8508.231815<br>margin level: inf",
          "balance: 8508.231815 USD<br>equity: 8508.231815<br>margin: 0.000000<br>free margin: 8508.231815<br>margin level: inf",
          "balance: 8508.231815 USD<br>equity: 8508.231815<br>margin: 0.000000<br>free margin: 8508.231815<br>margin level: inf",
          "balance: 8508.231815 USD<br>equity: 8508.231815<br>margin: 0.000000<br>free margin: 8508.231815<br>margin level: inf",
          "balance: 8508.231815 USD<br>equity: 8508.231815<br>margin: 0.000000<br>free margin: 8508.231815<br>margin level: inf",
          "balance: 8508.231815 USD<br>equity: 8508.231815<br>margin: 0.000000<br>free margin: 8508.231815<br>margin level: inf",
          "balance: 8508.231815 USD<br>equity: 8508.231815<br>margin: 0.000000<br>free margin: 8508.231815<br>margin level: inf",
          "balance: 8508.231815 USD<br>equity: 8508.231815<br>margin: 0.000000<br>free margin: 8508.231815<br>margin level: inf",
          "balance: 8508.231815 USD<br>equity: 8508.231815<br>margin: 0.000000<br>free margin: 8508.231815<br>margin level: inf",
          "balance: 8508.231815 USD<br>equity: 8508.231815<br>margin: 0.000000<br>free margin: 8508.231815<br>margin level: inf",
          "balance: 8508.231815 USD<br>equity: 8508.231815<br>margin: 0.000000<br>free margin: 8508.231815<br>margin level: inf",
          "balance: 8508.231815 USD<br>equity: 8508.231815<br>margin: 0.000000<br>free margin: 8508.231815<br>margin level: inf",
          "balance: 8508.231815 USD<br>equity: 8508.231815<br>margin: 0.000000<br>free margin: 8508.231815<br>margin level: inf",
          "balance: 8508.231815 USD<br>equity: 8508.231815<br>margin: 0.000000<br>free margin: 8508.231815<br>margin level: inf",
          "balance: 8508.231815 USD<br>equity: 8508.231815<br>margin: 0.000000<br>free margin: 8508.231815<br>margin level: inf",
          "balance: 8508.231815 USD<br>equity: 8508.231815<br>margin: 0.000000<br>free margin: 8508.231815<br>margin level: inf",
          "balance: 8508.231815 USD<br>equity: 8508.231815<br>margin: 0.000000<br>free margin: 8508.231815<br>margin level: inf",
          "balance: 8508.231815 USD<br>equity: 8699.805892<br>margin: 2100.000000<br>free margin: 6599.805892<br>margin level: 4.142765",
          "balance: 8699.805892 USD<br>equity: 8699.805892<br>margin: 0.000000<br>free margin: 8699.805892<br>margin level: inf",
          "balance: 8699.805892 USD<br>equity: 8699.805892<br>margin: 0.000000<br>free margin: 8699.805892<br>margin level: inf",
          "balance: 8699.805892 USD<br>equity: 8699.805892<br>margin: 0.000000<br>free margin: 8699.805892<br>margin level: inf",
          "balance: 8699.805892 USD<br>equity: 10529.865565<br>margin: 4760.000000<br>free margin: 5769.865565<br>margin level: 2.212157",
          "balance: 10529.865565 USD<br>equity: 10529.865565<br>margin: 0.000000<br>free margin: 10529.865565<br>margin level: inf",
          "balance: 10529.865565 USD<br>equity: 11084.204878<br>margin: 1630.000000<br>free margin: 9454.204878<br>margin level: 6.800126",
          "balance: 11084.204878 USD<br>equity: 11084.204878<br>margin: 0.000000<br>free margin: 11084.204878<br>margin level: inf",
          "balance: 11084.204878 USD<br>equity: 11084.204878<br>margin: 0.000000<br>free margin: 11084.204878<br>margin level: inf",
          "balance: 11084.204878 USD<br>equity: 11084.204878<br>margin: 0.000000<br>free margin: 11084.204878<br>margin level: inf",
          "balance: 11084.204878 USD<br>equity: 11084.204878<br>margin: 0.000000<br>free margin: 11084.204878<br>margin level: inf",
          "balance: 11084.204878 USD<br>equity: 11084.204878<br>margin: 0.000000<br>free margin: 11084.204878<br>margin level: inf",
          "balance: 11084.204878 USD<br>equity: 9759.691881<br>margin: 7287.248774<br>free margin: 2472.443106<br>margin level: 1.339283",
          "balance: 11084.204878 USD<br>equity: 6259.866571<br>margin: 7287.248774<br>free margin: -1027.382203<br>margin level: 0.859016",
          "balance: 6259.866571 USD<br>equity: 5234.656484<br>margin: 5023.120832<br>free margin: 211.535653<br>margin level: 1.042112",
          "balance: 6259.866571 USD<br>equity: 5095.509404<br>margin: 5023.120832<br>free margin: 72.388572<br>margin level: 1.014411",
          "balance: 6259.866571 USD<br>equity: 5431.385246<br>margin: 5023.120832<br>free margin: 408.264415<br>margin level: 1.081277",
          "balance: 6259.866571 USD<br>equity: 5094.193659<br>margin: 5023.120832<br>free margin: 71.072827<br>margin level: 1.014149",
          "balance: 6259.866571 USD<br>equity: 2450.307295<br>margin: 5023.120832<br>free margin: -2572.813537<br>margin level: 0.487806",
          "balance: 6259.866571 USD<br>equity: 2782.796877<br>margin: 5023.120832<br>free margin: -2240.323955<br>margin level: 0.553998",
          "balance: 2782.796877 USD<br>equity: 2782.796877<br>margin: 0.000000<br>free margin: 2782.796877<br>margin level: inf",
          "balance: 2782.796877 USD<br>equity: 2782.796877<br>margin: 0.000000<br>free margin: 2782.796877<br>margin level: inf",
          "balance: 2782.796877 USD<br>equity: 2782.796877<br>margin: 0.000000<br>free margin: 2782.796877<br>margin level: inf",
          "balance: 2782.796877 USD<br>equity: 2782.796877<br>margin: 0.000000<br>free margin: 2782.796877<br>margin level: inf",
          "balance: 2782.796877 USD<br>equity: 2782.796877<br>margin: 0.000000<br>free margin: 2782.796877<br>margin level: inf",
          "balance: 2782.796877 USD<br>equity: 2782.796877<br>margin: 0.000000<br>free margin: 2782.796877<br>margin level: inf",
          "balance: 2782.796877 USD<br>equity: 2782.796877<br>margin: 0.000000<br>free margin: 2782.796877<br>margin level: inf",
          "balance: 2782.796877 USD<br>equity: 2782.796877<br>margin: 0.000000<br>free margin: 2782.796877<br>margin level: inf",
          "balance: 2782.796877 USD<br>equity: 2782.796877<br>margin: 0.000000<br>free margin: 2782.796877<br>margin level: inf",
          "balance: 2782.796877 USD<br>equity: 2782.796877<br>margin: 0.000000<br>free margin: 2782.796877<br>margin level: inf",
          "balance: 2782.796877 USD<br>equity: 2782.796877<br>margin: 0.000000<br>free margin: 2782.796877<br>margin level: inf",
          "balance: 2782.796877 USD<br>equity: 2782.796877<br>margin: 0.000000<br>free margin: 2782.796877<br>margin level: inf",
          "balance: 2782.796877 USD<br>equity: 2782.796877<br>margin: 0.000000<br>free margin: 2782.796877<br>margin level: inf",
          "balance: 2782.796877 USD<br>equity: 2782.796877<br>margin: 0.000000<br>free margin: 2782.796877<br>margin level: inf",
          "balance: 2782.796877 USD<br>equity: 2782.796877<br>margin: 0.000000<br>free margin: 2782.796877<br>margin level: inf",
          "balance: 2782.796877 USD<br>equity: 2782.796877<br>margin: 0.000000<br>free margin: 2782.796877<br>margin level: inf",
          "balance: 2782.796877 USD<br>equity: 2782.796877<br>margin: 0.000000<br>free margin: 2782.796877<br>margin level: inf"
         ],
         "legendgroup": "g3",
         "line": {
          "color": "rgba(0.7372549019607844, 0.7411764705882353, 0.13333333333333333, 1.0)"
         },
         "mode": "lines+markers",
         "name": "USDJPY",
         "opacity": 1,
         "type": "scatter",
         "x": [
          "2021-05-05T00:00:00+00:00",
          "2021-05-06T00:00:00+00:00",
          "2021-05-07T00:00:00+00:00",
          "2021-05-10T00:00:00+00:00",
          "2021-05-11T00:00:00+00:00",
          "2021-05-12T00:00:00+00:00",
          "2021-05-13T00:00:00+00:00",
          "2021-05-14T00:00:00+00:00",
          "2021-05-17T00:00:00+00:00",
          "2021-05-18T00:00:00+00:00",
          "2021-05-19T00:00:00+00:00",
          "2021-05-20T00:00:00+00:00",
          "2021-05-21T00:00:00+00:00",
          "2021-05-24T00:00:00+00:00",
          "2021-05-25T00:00:00+00:00",
          "2021-05-26T00:00:00+00:00",
          "2021-05-27T00:00:00+00:00",
          "2021-05-28T00:00:00+00:00",
          "2021-05-31T00:00:00+00:00",
          "2021-06-01T00:00:00+00:00",
          "2021-06-02T00:00:00+00:00",
          "2021-06-03T00:00:00+00:00",
          "2021-06-04T00:00:00+00:00",
          "2021-06-07T00:00:00+00:00",
          "2021-06-08T00:00:00+00:00",
          "2021-06-09T00:00:00+00:00",
          "2021-06-10T00:00:00+00:00",
          "2021-06-11T00:00:00+00:00",
          "2021-06-14T00:00:00+00:00",
          "2021-06-15T00:00:00+00:00",
          "2021-06-16T00:00:00+00:00",
          "2021-06-17T00:00:00+00:00",
          "2021-06-18T00:00:00+00:00",
          "2021-06-21T00:00:00+00:00",
          "2021-06-22T00:00:00+00:00",
          "2021-06-23T00:00:00+00:00",
          "2021-06-24T00:00:00+00:00",
          "2021-06-25T00:00:00+00:00",
          "2021-06-28T00:00:00+00:00",
          "2021-06-29T00:00:00+00:00",
          "2021-06-30T00:00:00+00:00",
          "2021-07-01T00:00:00+00:00",
          "2021-07-02T00:00:00+00:00",
          "2021-07-05T00:00:00+00:00",
          "2021-07-06T00:00:00+00:00",
          "2021-07-07T00:00:00+00:00",
          "2021-07-08T00:00:00+00:00",
          "2021-07-09T00:00:00+00:00",
          "2021-07-12T00:00:00+00:00",
          "2021-07-13T00:00:00+00:00",
          "2021-07-14T00:00:00+00:00",
          "2021-07-15T00:00:00+00:00",
          "2021-07-16T00:00:00+00:00",
          "2021-07-19T00:00:00+00:00",
          "2021-07-20T00:00:00+00:00",
          "2021-07-21T00:00:00+00:00",
          "2021-07-22T00:00:00+00:00",
          "2021-07-23T00:00:00+00:00",
          "2021-07-26T00:00:00+00:00",
          "2021-07-27T00:00:00+00:00",
          "2021-07-28T00:00:00+00:00",
          "2021-07-29T00:00:00+00:00",
          "2021-07-30T00:00:00+00:00",
          "2021-08-02T00:00:00+00:00",
          "2021-08-03T00:00:00+00:00",
          "2021-08-04T00:00:00+00:00",
          "2021-08-05T00:00:00+00:00",
          "2021-08-06T00:00:00+00:00",
          "2021-08-09T00:00:00+00:00",
          "2021-08-10T00:00:00+00:00",
          "2021-08-11T00:00:00+00:00",
          "2021-08-12T00:00:00+00:00",
          "2021-08-13T00:00:00+00:00",
          "2021-08-16T00:00:00+00:00",
          "2021-08-17T00:00:00+00:00",
          "2021-08-18T00:00:00+00:00",
          "2021-08-19T00:00:00+00:00",
          "2021-08-20T00:00:00+00:00",
          "2021-08-23T00:00:00+00:00",
          "2021-08-24T00:00:00+00:00",
          "2021-08-25T00:00:00+00:00",
          "2021-08-26T00:00:00+00:00",
          "2021-08-27T00:00:00+00:00",
          "2021-08-30T00:00:00+00:00",
          "2021-08-31T00:00:00+00:00",
          "2021-09-01T00:00:00+00:00",
          "2021-09-02T00:00:00+00:00",
          "2021-09-03T00:00:00+00:00"
         ],
         "y": [
          109.188,
          109.09,
          108.604,
          108.81,
          108.615,
          109.699,
          109.453,
          109.362,
          109.209,
          108.888,
          109.227,
          108.767,
          108.945,
          108.74,
          108.747,
          109.139,
          109.808,
          109.872,
          109.556,
          109.467,
          109.547,
          110.276,
          109.524,
          109.238,
          109.492,
          109.618,
          109.319,
          109.682,
          110.071,
          110.056,
          110.708,
          110.221,
          110.211,
          110.314,
          110.658,
          110.949,
          110.874,
          110.778,
          110.614,
          110.538,
          111.101,
          111.521,
          111.02,
          110.962,
          110.61,
          110.608,
          109.748,
          110.102,
          110.349,
          110.627,
          109.95,
          109.831,
          110.081,
          109.447,
          109.843,
          110.286,
          110.149,
          110.547,
          110.381,
          109.774,
          109.909,
          109.47,
          109.656,
          109.305,
          109.042,
          109.473,
          109.761,
          110.217,
          110.267,
          110.56,
          110.428,
          110.386,
          109.592,
          109.243,
          109.595,
          109.763,
          109.763,
          109.799,
          109.694,
          109.679,
          110.023,
          110.081,
          109.85,
          109.913,
          110.007,
          110.025,
          109.937,
          109.712
         ],
         "yaxis": "y3"
        },
        {
         "hovertext": [
          "order id: <br>hold probability: 0.0000<br>hold: False<br>volume: 31.806597<br>modified volume: 31.8100<br>fee: nan<br>margin: nan<br>error: low free margin (order margin=31809.999999999993, order profit=-664.2631821117805, free margin=10000.0)",
          "order id: 1<br>hold probability: 0.0000<br>hold: False<br>volume: 0.053436<br>modified volume: 0.0500<br>fee: 0.021849<br>margin: 50.000000<br>error: ",
          "order id: 2<br>hold probability: 0.0000<br>hold: False<br>volume: -5.386915<br>modified volume: 5.3900<br>fee: 0.016617<br>margin: 5390.000000<br>error: ",
          "order id: <br>hold probability: 0.0000<br>hold: False<br>volume: 37.964265<br>modified volume: 37.9600<br>fee: nan<br>margin: nan<br>error: low free margin (order margin=37960.00000000001, order profit=-799.822586958635, free margin=9014.990371933887)",
          "order id: <br>hold probability: 0.0000<br>hold: False<br>volume: -47.079806<br>modified volume: 47.0800<br>fee: nan<br>margin: nan<br>error: low free margin (order margin=47080.0, order profit=-921.8911971166248, free margin=7925.736880539842)",
          "order id: <br>hold probability: 0.0000<br>hold: False<br>volume: -66.981446<br>modified volume: 66.9800<br>fee: nan<br>margin: nan<br>error: low free margin (order margin=66980.0, order profit=-1115.5444928587285, free margin=7925.736880539842)",
          "order id: <br>hold probability: 0.0000<br>hold: False<br>volume: 69.673154<br>modified volume: 69.6700<br>fee: nan<br>margin: nan<br>error: low free margin (order margin=69670.00000000001, order profit=-1606.3227001384441, free margin=7925.736880539842)",
          "order id: <br>hold probability: 0.0000<br>hold: False<br>volume: 25.083413<br>modified volume: 25.0800<br>fee: nan<br>margin: nan<br>error: low free margin (order margin=25080.0, order profit=-458.15961748711123, free margin=6869.338690756358)",
          "order id: <br>hold probability: 0.0000<br>hold: False<br>volume: 17.412311<br>modified volume: 17.4100<br>fee: nan<br>margin: nan<br>error: low free margin (order margin=17410.000000000004, order profit=-251.50641761299977, free margin=6612.273279956315)",
          "order id: <br>hold probability: 0.0000<br>hold: False<br>volume: -36.002940<br>modified volume: 36.0000<br>fee: nan<br>margin: nan<br>error: low free margin (order margin=36000.0, order profit=-713.4366640757681, free margin=8015.180914886443)",
          "order id: <br>hold probability: 0.0000<br>hold: False<br>volume: -66.673487<br>modified volume: 66.6700<br>fee: nan<br>margin: nan<br>error: low free margin (order margin=66670.0, order profit=-1003.6898766889279, free margin=8508.231814886443)",
          "order id: <br>hold probability: 0.0059<br>hold: False<br>volume: 44.593537<br>modified volume: 44.5900<br>fee: nan<br>margin: nan<br>error: low free margin (order margin=44590.0, order profit=-798.2397816300953, free margin=8508.231814886443)",
          "order id: <br>hold probability: 0.0000<br>hold: False<br>volume: -18.091936<br>modified volume: 18.0900<br>fee: nan<br>margin: nan<br>error: low free margin (order margin=18090.0, order profit=-260.4493035144988, free margin=8508.231814886443)",
          "order id: <br>hold probability: 0.0000<br>hold: False<br>volume: -58.263469<br>modified volume: 58.2600<br>fee: nan<br>margin: nan<br>error: low free margin (order margin=58260.0, order profit=-972.0023463887842, free margin=8508.231814886443)",
          "order id: <br>hold probability: 0.0000<br>hold: False<br>volume: 47.959854<br>modified volume: 47.9600<br>fee: nan<br>margin: nan<br>error: low free margin (order margin=47960.0, order profit=-951.9048102321359, free margin=8508.231814886443)",
          "order id: <br>hold probability: 0.0000<br>hold: False<br>volume: 45.414494<br>modified volume: 45.4100<br>fee: nan<br>margin: nan<br>error: low free margin (order margin=45410.0, order profit=-747.5117462498442, free margin=8508.231814886443)",
          "order id: <br>hold probability: 0.0000<br>hold: False<br>volume: 17.931296<br>modified volume: 17.9300<br>fee: nan<br>margin: nan<br>error: low free margin (order margin=17929.999999999996, order profit=-291.58995244334903, free margin=8508.231814886443)",
          "order id: <br>hold probability: 0.0000<br>hold: False<br>volume: -26.368276<br>modified volume: 26.3700<br>fee: nan<br>margin: nan<br>error: low free margin (order margin=26370.0, order profit=-563.350105302732, free margin=8508.231814886443)",
          "order id: 8<br>hold probability: 0.0000<br>hold: False<br>volume: -2.099828<br>modified volume: 2.1000<br>fee: 0.018806<br>margin: 2100.000000<br>error: ",
          "order id: <br>hold probability: 0.0000<br>hold: False<br>volume: 8.672489<br>modified volume: 8.6700<br>fee: nan<br>margin: nan<br>error: low free margin (order margin=8670.0, order profit=-148.11896014349787, free margin=8699.805891628625)",
          "order id: 9<br>hold probability: 0.0000<br>hold: False<br>volume: 4.760212<br>modified volume: 4.7600<br>fee: 0.018987<br>margin: 4760.000000<br>error: ",
          "order id: <br>hold probability: 0.0000<br>hold: False<br>volume: 71.490964<br>modified volume: 71.4900<br>fee: nan<br>margin: nan<br>error: low free margin (order margin=71489.99999999999, order profit=-1586.7156088986915, free margin=10529.865565239728)",
          "order id: 10<br>hold probability: 0.0000<br>hold: False<br>volume: 1.630971<br>modified volume: 1.6300<br>fee: 0.022046<br>margin: 1630.000000<br>error: ",
          "order id: <br>hold probability: 0.0000<br>hold: False<br>volume: 34.306138<br>modified volume: 34.3100<br>fee: nan<br>margin: nan<br>error: low free margin (order margin=34310.0, order profit=-740.1641426434944, free margin=11084.2048780445)",
          "order id: <br>hold probability: 0.0000<br>hold: False<br>volume: -22.774190<br>modified volume: 22.7700<br>fee: nan<br>margin: nan<br>error: low free margin (order margin=22770.000000000004, order profit=-412.8202315317525, free margin=11084.2048780445)",
          "order id: <br>hold probability: 0.0000<br>hold: False<br>volume: 60.136252<br>modified volume: 60.1400<br>fee: nan<br>margin: nan<br>error: low free margin (order margin=60140.0, order profit=-1139.3424995970222, free margin=11084.2048780445)",
          "order id: <br>hold probability: 0.0000<br>hold: False<br>volume: 25.687361<br>modified volume: 25.6900<br>fee: nan<br>margin: nan<br>error: low free margin (order margin=25690.0, order profit=-476.45255559101383, free margin=1031.905256295383)",
          "order id: <br>hold probability: 0.0000<br>hold: False<br>volume: 31.026961<br>modified volume: 31.0300<br>fee: nan<br>margin: nan<br>error: low free margin (order margin=31029.999999999996, order profit=-451.31086991501184, free margin=408.2644146676121)",
          "order id: <br>hold probability: 0.0000<br>hold: False<br>volume: 52.647692<br>modified volume: 52.6500<br>fee: nan<br>margin: nan<br>error: low free margin (order margin=52650.0, order profit=-993.4288770702722, free margin=-2572.8135365617563)",
          "order id: <br>hold probability: 0.0000<br>hold: False<br>volume: 26.980658<br>modified volume: 26.9800<br>fee: nan<br>margin: nan<br>error: low free margin (order margin=26980.000000000004, order profit=-374.1418838358975, free margin=2782.7968769158456)",
          "order id: <br>hold probability: 0.0000<br>hold: False<br>volume: -99.332777<br>modified volume: 99.3300<br>fee: nan<br>margin: nan<br>error: low free margin (order margin=99329.99999999999, order profit=-1446.321219323816, free margin=2782.7968769158456)",
          "order id: <br>hold probability: 0.0000<br>hold: False<br>volume: 75.199975<br>modified volume: 75.2000<br>fee: nan<br>margin: nan<br>error: low free margin (order margin=75200.0, order profit=-775.9911994634535, free margin=2782.7968769158456)",
          "order id: <br>hold probability: 0.0000<br>hold: False<br>volume: 42.357080<br>modified volume: 42.3600<br>fee: nan<br>margin: nan<br>error: low free margin (order margin=42360.0, order profit=-807.8877985514068, free margin=2782.7968769158456)",
          "order id: <br>hold probability: 0.0000<br>hold: False<br>volume: 12.126658<br>modified volume: 12.1300<br>fee: nan<br>margin: nan<br>error: low free margin (order margin=12130.0, order profit=-183.4085976392533, free margin=2782.7968769158456)",
          "order id: <br>hold probability: 0.0000<br>hold: False<br>volume: -76.976701<br>modified volume: 76.9800<br>fee: nan<br>margin: nan<br>error: low free margin (order margin=76980.0, order profit=-1337.8158269696387, free margin=2782.7968769158456)",
          "order id: <br>hold probability: 0.0000<br>hold: False<br>volume: -41.442324<br>modified volume: 41.4400<br>fee: nan<br>margin: nan<br>error: low free margin (order margin=41440.0, order profit=-642.6981060069761, free margin=2782.7968769158456)",
          "order id: <br>hold probability: 0.0667<br>hold: False<br>volume: 36.565516<br>modified volume: 36.5700<br>fee: nan<br>margin: nan<br>error: low free margin (order margin=36570.0, order profit=-741.6447554610851, free margin=2782.7968769158456)"
         ],
         "legendgroup": "g3",
         "marker": {
          "color": [
           "gray",
           "green",
           "red",
           "gray",
           "gray",
           "gray",
           "gray",
           "gray",
           "gray",
           "gray",
           "gray",
           "gray",
           "gray",
           "gray",
           "gray",
           "gray",
           "gray",
           "gray",
           "red",
           "gray",
           "green",
           "gray",
           "green",
           "gray",
           "gray",
           "gray",
           "gray",
           "gray",
           "gray",
           "gray",
           "gray",
           "gray",
           "gray",
           "gray",
           "gray",
           "gray",
           "gray"
          ],
          "size": [
           15.017849979943843,
           8.01103088648215,
           9.189129562775772,
           16.374649017248295,
           18.386682711592456,
           22.77697553148817,
           23.37043722422784,
           13.53309265944645,
           11.840954673084637,
           15.942238267148015,
           22.708584035298838,
           17.83734456478139,
           11.990974729241877,
           20.853188929001202,
           18.5808263136783,
           18.01825110308865,
           11.955675892498997,
           13.817689530685922,
           8.463297232250302,
           9.912755716004813,
           9.050140393100682,
           23.771961492178097,
           8.359606899318091,
           15.569394304051345,
           13.02346570397112,
           21.267950260730043,
           13.667669474528681,
           14.845768150822302,
           19.61552346570397,
           13.952266345768152,
           29.91395908543923,
           24.59045326915363,
           17.345367027677497,
           10.676093060569595,
           24.983152827918172,
           17.142398716405935,
           16.067990373044523
          ],
          "symbol": [
           "triangle-down",
           "triangle-up",
           "triangle-down",
           "triangle-down",
           "triangle-down",
           "triangle-down",
           "triangle-down",
           "triangle-down",
           "triangle-down",
           "triangle-down",
           "triangle-down",
           "triangle-down",
           "triangle-down",
           "triangle-down",
           "triangle-down",
           "triangle-down",
           "triangle-down",
           "triangle-down",
           "triangle-down",
           "triangle-down",
           "triangle-up",
           "triangle-down",
           "triangle-up",
           "triangle-down",
           "triangle-down",
           "triangle-down",
           "triangle-down",
           "triangle-down",
           "triangle-down",
           "triangle-down",
           "triangle-down",
           "triangle-down",
           "triangle-down",
           "triangle-down",
           "triangle-down",
           "triangle-down",
           "triangle-down"
          ]
         },
         "mode": "markers",
         "name": "USDJPY",
         "showlegend": false,
         "type": "scatter",
         "x": [
          "2021-05-18T00:00:00+00:00",
          "2021-05-19T00:00:00+00:00",
          "2021-05-20T00:00:00+00:00",
          "2021-05-21T00:00:00+00:00",
          "2021-05-28T00:00:00+00:00",
          "2021-05-31T00:00:00+00:00",
          "2021-06-03T00:00:00+00:00",
          "2021-06-10T00:00:00+00:00",
          "2021-06-11T00:00:00+00:00",
          "2021-06-14T00:00:00+00:00",
          "2021-06-17T00:00:00+00:00",
          "2021-06-18T00:00:00+00:00",
          "2021-06-21T00:00:00+00:00",
          "2021-06-23T00:00:00+00:00",
          "2021-06-28T00:00:00+00:00",
          "2021-07-02T00:00:00+00:00",
          "2021-07-05T00:00:00+00:00",
          "2021-07-12T00:00:00+00:00",
          "2021-07-14T00:00:00+00:00",
          "2021-07-15T00:00:00+00:00",
          "2021-07-20T00:00:00+00:00",
          "2021-07-21T00:00:00+00:00",
          "2021-07-22T00:00:00+00:00",
          "2021-07-26T00:00:00+00:00",
          "2021-07-28T00:00:00+00:00",
          "2021-07-29T00:00:00+00:00",
          "2021-08-03T00:00:00+00:00",
          "2021-08-06T00:00:00+00:00",
          "2021-08-10T00:00:00+00:00",
          "2021-08-16T00:00:00+00:00",
          "2021-08-17T00:00:00+00:00",
          "2021-08-18T00:00:00+00:00",
          "2021-08-23T00:00:00+00:00",
          "2021-08-24T00:00:00+00:00",
          "2021-08-30T00:00:00+00:00",
          "2021-08-31T00:00:00+00:00",
          "2021-09-01T00:00:00+00:00"
         ],
         "y": [
          108.888,
          109.227,
          108.767,
          108.945,
          109.872,
          109.556,
          110.276,
          109.319,
          109.682,
          110.071,
          110.221,
          110.211,
          110.314,
          110.949,
          110.614,
          111.02,
          110.962,
          110.349,
          109.95,
          109.831,
          109.843,
          110.286,
          110.149,
          110.381,
          109.909,
          109.47,
          109.042,
          110.217,
          110.56,
          109.243,
          109.595,
          109.763,
          109.694,
          109.679,
          109.913,
          110.007,
          110.025
         ],
         "yaxis": "y3"
        },
        {
         "hovertext": [
          "order id: 1<br>order type: Buy<br>close probability: 1.0000<br>margin: 50.000000<br>profit: -22.150512",
          "order id: 2<br>order type: Sell<br>close probability: 1.0000<br>margin: 5390.000000<br>profit: -962.859116",
          "order id: 8<br>order type: Sell<br>close probability: 1.0000<br>margin: 2100.000000<br>profit: 191.574077",
          "order id: 9<br>order type: Buy<br>close probability: 1.0000<br>margin: 4760.000000<br>profit: 1830.059674",
          "order id: 10<br>order type: Buy<br>close probability: 1.0000<br>margin: 1630.000000<br>profit: 554.339313"
         ],
         "legendgroup": "g3",
         "marker": {
          "color": "black",
          "line": {
           "width": 1.5
          },
          "size": 7,
          "symbol": "line-ns"
         },
         "mode": "markers",
         "name": "USDJPY",
         "showlegend": false,
         "type": "scatter",
         "x": [
          "2021-05-20T00:00:00+00:00",
          "2021-05-21T00:00:00+00:00",
          "2021-07-15T00:00:00+00:00",
          "2021-07-21T00:00:00+00:00",
          "2021-07-23T00:00:00+00:00"
         ],
         "y": [
          108.767,
          108.945,
          109.831,
          110.286,
          110.547
         ],
         "yaxis": "y3"
        }
       ],
       "layout": {
        "height": 600,
        "template": {
         "data": {
          "bar": [
           {
            "error_x": {
             "color": "#2a3f5f"
            },
            "error_y": {
             "color": "#2a3f5f"
            },
            "marker": {
             "line": {
              "color": "#E5ECF6",
              "width": 0.5
             },
             "pattern": {
              "fillmode": "overlay",
              "size": 10,
              "solidity": 0.2
             }
            },
            "type": "bar"
           }
          ],
          "barpolar": [
           {
            "marker": {
             "line": {
              "color": "#E5ECF6",
              "width": 0.5
             },
             "pattern": {
              "fillmode": "overlay",
              "size": 10,
              "solidity": 0.2
             }
            },
            "type": "barpolar"
           }
          ],
          "carpet": [
           {
            "aaxis": {
             "endlinecolor": "#2a3f5f",
             "gridcolor": "white",
             "linecolor": "white",
             "minorgridcolor": "white",
             "startlinecolor": "#2a3f5f"
            },
            "baxis": {
             "endlinecolor": "#2a3f5f",
             "gridcolor": "white",
             "linecolor": "white",
             "minorgridcolor": "white",
             "startlinecolor": "#2a3f5f"
            },
            "type": "carpet"
           }
          ],
          "choropleth": [
           {
            "colorbar": {
             "outlinewidth": 0,
             "ticks": ""
            },
            "type": "choropleth"
           }
          ],
          "contour": [
           {
            "colorbar": {
             "outlinewidth": 0,
             "ticks": ""
            },
            "colorscale": [
             [
              0,
              "#0d0887"
             ],
             [
              0.1111111111111111,
              "#46039f"
             ],
             [
              0.2222222222222222,
              "#7201a8"
             ],
             [
              0.3333333333333333,
              "#9c179e"
             ],
             [
              0.4444444444444444,
              "#bd3786"
             ],
             [
              0.5555555555555556,
              "#d8576b"
             ],
             [
              0.6666666666666666,
              "#ed7953"
             ],
             [
              0.7777777777777778,
              "#fb9f3a"
             ],
             [
              0.8888888888888888,
              "#fdca26"
             ],
             [
              1,
              "#f0f921"
             ]
            ],
            "type": "contour"
           }
          ],
          "contourcarpet": [
           {
            "colorbar": {
             "outlinewidth": 0,
             "ticks": ""
            },
            "type": "contourcarpet"
           }
          ],
          "heatmap": [
           {
            "colorbar": {
             "outlinewidth": 0,
             "ticks": ""
            },
            "colorscale": [
             [
              0,
              "#0d0887"
             ],
             [
              0.1111111111111111,
              "#46039f"
             ],
             [
              0.2222222222222222,
              "#7201a8"
             ],
             [
              0.3333333333333333,
              "#9c179e"
             ],
             [
              0.4444444444444444,
              "#bd3786"
             ],
             [
              0.5555555555555556,
              "#d8576b"
             ],
             [
              0.6666666666666666,
              "#ed7953"
             ],
             [
              0.7777777777777778,
              "#fb9f3a"
             ],
             [
              0.8888888888888888,
              "#fdca26"
             ],
             [
              1,
              "#f0f921"
             ]
            ],
            "type": "heatmap"
           }
          ],
          "heatmapgl": [
           {
            "colorbar": {
             "outlinewidth": 0,
             "ticks": ""
            },
            "colorscale": [
             [
              0,
              "#0d0887"
             ],
             [
              0.1111111111111111,
              "#46039f"
             ],
             [
              0.2222222222222222,
              "#7201a8"
             ],
             [
              0.3333333333333333,
              "#9c179e"
             ],
             [
              0.4444444444444444,
              "#bd3786"
             ],
             [
              0.5555555555555556,
              "#d8576b"
             ],
             [
              0.6666666666666666,
              "#ed7953"
             ],
             [
              0.7777777777777778,
              "#fb9f3a"
             ],
             [
              0.8888888888888888,
              "#fdca26"
             ],
             [
              1,
              "#f0f921"
             ]
            ],
            "type": "heatmapgl"
           }
          ],
          "histogram": [
           {
            "marker": {
             "pattern": {
              "fillmode": "overlay",
              "size": 10,
              "solidity": 0.2
             }
            },
            "type": "histogram"
           }
          ],
          "histogram2d": [
           {
            "colorbar": {
             "outlinewidth": 0,
             "ticks": ""
            },
            "colorscale": [
             [
              0,
              "#0d0887"
             ],
             [
              0.1111111111111111,
              "#46039f"
             ],
             [
              0.2222222222222222,
              "#7201a8"
             ],
             [
              0.3333333333333333,
              "#9c179e"
             ],
             [
              0.4444444444444444,
              "#bd3786"
             ],
             [
              0.5555555555555556,
              "#d8576b"
             ],
             [
              0.6666666666666666,
              "#ed7953"
             ],
             [
              0.7777777777777778,
              "#fb9f3a"
             ],
             [
              0.8888888888888888,
              "#fdca26"
             ],
             [
              1,
              "#f0f921"
             ]
            ],
            "type": "histogram2d"
           }
          ],
          "histogram2dcontour": [
           {
            "colorbar": {
             "outlinewidth": 0,
             "ticks": ""
            },
            "colorscale": [
             [
              0,
              "#0d0887"
             ],
             [
              0.1111111111111111,
              "#46039f"
             ],
             [
              0.2222222222222222,
              "#7201a8"
             ],
             [
              0.3333333333333333,
              "#9c179e"
             ],
             [
              0.4444444444444444,
              "#bd3786"
             ],
             [
              0.5555555555555556,
              "#d8576b"
             ],
             [
              0.6666666666666666,
              "#ed7953"
             ],
             [
              0.7777777777777778,
              "#fb9f3a"
             ],
             [
              0.8888888888888888,
              "#fdca26"
             ],
             [
              1,
              "#f0f921"
             ]
            ],
            "type": "histogram2dcontour"
           }
          ],
          "mesh3d": [
           {
            "colorbar": {
             "outlinewidth": 0,
             "ticks": ""
            },
            "type": "mesh3d"
           }
          ],
          "parcoords": [
           {
            "line": {
             "colorbar": {
              "outlinewidth": 0,
              "ticks": ""
             }
            },
            "type": "parcoords"
           }
          ],
          "pie": [
           {
            "automargin": true,
            "type": "pie"
           }
          ],
          "scatter": [
           {
            "fillpattern": {
             "fillmode": "overlay",
             "size": 10,
             "solidity": 0.2
            },
            "type": "scatter"
           }
          ],
          "scatter3d": [
           {
            "line": {
             "colorbar": {
              "outlinewidth": 0,
              "ticks": ""
             }
            },
            "marker": {
             "colorbar": {
              "outlinewidth": 0,
              "ticks": ""
             }
            },
            "type": "scatter3d"
           }
          ],
          "scattercarpet": [
           {
            "marker": {
             "colorbar": {
              "outlinewidth": 0,
              "ticks": ""
             }
            },
            "type": "scattercarpet"
           }
          ],
          "scattergeo": [
           {
            "marker": {
             "colorbar": {
              "outlinewidth": 0,
              "ticks": ""
             }
            },
            "type": "scattergeo"
           }
          ],
          "scattergl": [
           {
            "marker": {
             "colorbar": {
              "outlinewidth": 0,
              "ticks": ""
             }
            },
            "type": "scattergl"
           }
          ],
          "scattermapbox": [
           {
            "marker": {
             "colorbar": {
              "outlinewidth": 0,
              "ticks": ""
             }
            },
            "type": "scattermapbox"
           }
          ],
          "scatterpolar": [
           {
            "marker": {
             "colorbar": {
              "outlinewidth": 0,
              "ticks": ""
             }
            },
            "type": "scatterpolar"
           }
          ],
          "scatterpolargl": [
           {
            "marker": {
             "colorbar": {
              "outlinewidth": 0,
              "ticks": ""
             }
            },
            "type": "scatterpolargl"
           }
          ],
          "scatterternary": [
           {
            "marker": {
             "colorbar": {
              "outlinewidth": 0,
              "ticks": ""
             }
            },
            "type": "scatterternary"
           }
          ],
          "surface": [
           {
            "colorbar": {
             "outlinewidth": 0,
             "ticks": ""
            },
            "colorscale": [
             [
              0,
              "#0d0887"
             ],
             [
              0.1111111111111111,
              "#46039f"
             ],
             [
              0.2222222222222222,
              "#7201a8"
             ],
             [
              0.3333333333333333,
              "#9c179e"
             ],
             [
              0.4444444444444444,
              "#bd3786"
             ],
             [
              0.5555555555555556,
              "#d8576b"
             ],
             [
              0.6666666666666666,
              "#ed7953"
             ],
             [
              0.7777777777777778,
              "#fb9f3a"
             ],
             [
              0.8888888888888888,
              "#fdca26"
             ],
             [
              1,
              "#f0f921"
             ]
            ],
            "type": "surface"
           }
          ],
          "table": [
           {
            "cells": {
             "fill": {
              "color": "#EBF0F8"
             },
             "line": {
              "color": "white"
             }
            },
            "header": {
             "fill": {
              "color": "#C8D4E3"
             },
             "line": {
              "color": "white"
             }
            },
            "type": "table"
           }
          ]
         },
         "layout": {
          "annotationdefaults": {
           "arrowcolor": "#2a3f5f",
           "arrowhead": 0,
           "arrowwidth": 1
          },
          "autotypenumbers": "strict",
          "coloraxis": {
           "colorbar": {
            "outlinewidth": 0,
            "ticks": ""
           }
          },
          "colorscale": {
           "diverging": [
            [
             0,
             "#8e0152"
            ],
            [
             0.1,
             "#c51b7d"
            ],
            [
             0.2,
             "#de77ae"
            ],
            [
             0.3,
             "#f1b6da"
            ],
            [
             0.4,
             "#fde0ef"
            ],
            [
             0.5,
             "#f7f7f7"
            ],
            [
             0.6,
             "#e6f5d0"
            ],
            [
             0.7,
             "#b8e186"
            ],
            [
             0.8,
             "#7fbc41"
            ],
            [
             0.9,
             "#4d9221"
            ],
            [
             1,
             "#276419"
            ]
           ],
           "sequential": [
            [
             0,
             "#0d0887"
            ],
            [
             0.1111111111111111,
             "#46039f"
            ],
            [
             0.2222222222222222,
             "#7201a8"
            ],
            [
             0.3333333333333333,
             "#9c179e"
            ],
            [
             0.4444444444444444,
             "#bd3786"
            ],
            [
             0.5555555555555556,
             "#d8576b"
            ],
            [
             0.6666666666666666,
             "#ed7953"
            ],
            [
             0.7777777777777778,
             "#fb9f3a"
            ],
            [
             0.8888888888888888,
             "#fdca26"
            ],
            [
             1,
             "#f0f921"
            ]
           ],
           "sequentialminus": [
            [
             0,
             "#0d0887"
            ],
            [
             0.1111111111111111,
             "#46039f"
            ],
            [
             0.2222222222222222,
             "#7201a8"
            ],
            [
             0.3333333333333333,
             "#9c179e"
            ],
            [
             0.4444444444444444,
             "#bd3786"
            ],
            [
             0.5555555555555556,
             "#d8576b"
            ],
            [
             0.6666666666666666,
             "#ed7953"
            ],
            [
             0.7777777777777778,
             "#fb9f3a"
            ],
            [
             0.8888888888888888,
             "#fdca26"
            ],
            [
             1,
             "#f0f921"
            ]
           ]
          },
          "colorway": [
           "#636efa",
           "#EF553B",
           "#00cc96",
           "#ab63fa",
           "#FFA15A",
           "#19d3f3",
           "#FF6692",
           "#B6E880",
           "#FF97FF",
           "#FECB52"
          ],
          "font": {
           "color": "#2a3f5f"
          },
          "geo": {
           "bgcolor": "white",
           "lakecolor": "white",
           "landcolor": "#E5ECF6",
           "showlakes": true,
           "showland": true,
           "subunitcolor": "white"
          },
          "hoverlabel": {
           "align": "left"
          },
          "hovermode": "closest",
          "mapbox": {
           "style": "light"
          },
          "paper_bgcolor": "white",
          "plot_bgcolor": "#E5ECF6",
          "polar": {
           "angularaxis": {
            "gridcolor": "white",
            "linecolor": "white",
            "ticks": ""
           },
           "bgcolor": "#E5ECF6",
           "radialaxis": {
            "gridcolor": "white",
            "linecolor": "white",
            "ticks": ""
           }
          },
          "scene": {
           "xaxis": {
            "backgroundcolor": "#E5ECF6",
            "gridcolor": "white",
            "gridwidth": 2,
            "linecolor": "white",
            "showbackground": true,
            "ticks": "",
            "zerolinecolor": "white"
           },
           "yaxis": {
            "backgroundcolor": "#E5ECF6",
            "gridcolor": "white",
            "gridwidth": 2,
            "linecolor": "white",
            "showbackground": true,
            "ticks": "",
            "zerolinecolor": "white"
           },
           "zaxis": {
            "backgroundcolor": "#E5ECF6",
            "gridcolor": "white",
            "gridwidth": 2,
            "linecolor": "white",
            "showbackground": true,
            "ticks": "",
            "zerolinecolor": "white"
           }
          },
          "shapedefaults": {
           "line": {
            "color": "#2a3f5f"
           }
          },
          "ternary": {
           "aaxis": {
            "gridcolor": "white",
            "linecolor": "white",
            "ticks": ""
           },
           "baxis": {
            "gridcolor": "white",
            "linecolor": "white",
            "ticks": ""
           },
           "bgcolor": "#E5ECF6",
           "caxis": {
            "gridcolor": "white",
            "linecolor": "white",
            "ticks": ""
           }
          },
          "title": {
           "x": 0.05
          },
          "xaxis": {
           "automargin": true,
           "gridcolor": "white",
           "linecolor": "white",
           "ticks": "",
           "title": {
            "standoff": 15
           },
           "zerolinecolor": "white",
           "zerolinewidth": 2
          },
          "yaxis": {
           "automargin": true,
           "gridcolor": "white",
           "linecolor": "white",
           "ticks": "",
           "title": {
            "standoff": 15
           },
           "zerolinecolor": "white",
           "zerolinewidth": 2
          }
         }
        },
        "title": {
         "text": "Balance: 2782.796877 USD ~ Equity: 2782.796877 ~ Margin: 0.000000 ~ Free Margin: 2782.796877 ~ Margin Level: inf"
        },
        "width": 1400,
        "xaxis": {
         "tickformat": "%Y-%m-%d"
        },
        "yaxis": {
         "tickfont": {
          "color": "rgba(0.12156862745098039, 0.4666666666666667, 0.7058823529411765, 0.8)"
         }
        },
        "yaxis2": {
         "overlaying": "y",
         "tickfont": {
          "color": "rgba(0.5643983083429451, 0.36993464052287583, 0.5132641291810843, 0.8)"
         }
        },
        "yaxis3": {
         "overlaying": "y",
         "tickfont": {
          "color": "rgba(0.7372549019607844, 0.7411764705882353, 0.13333333333333333, 0.8)"
         }
        }
       }
      }
     },
     "metadata": {},
     "output_type": "display_data"
    }
   ],
   "source": [
    "env.render('advanced_figure', time_format=\"%Y-%m-%d\")"
   ]
  },
  {
   "cell_type": "markdown",
   "metadata": {},
   "source": [
    "### A Complete Example using `stable-baselines`"
   ]
  },
  {
   "cell_type": "code",
   "execution_count": 11,
   "metadata": {},
   "outputs": [
    {
     "data": {
      "application/vnd.plotly.v1+json": {
       "config": {
        "plotlyServerURL": "https://plot.ly"
       },
       "data": [
        {
         "hovertext": [
          "balance: 10000.000000 USD<br>equity: 10000.000000<br>margin: 0.000000<br>free margin: 10000.000000<br>margin level: inf",
          "balance: 10000.000000 USD<br>equity: 10000.000000<br>margin: 0.000000<br>free margin: 10000.000000<br>margin level: inf",
          "balance: 10000.000000 USD<br>equity: 10000.000000<br>margin: 0.000000<br>free margin: 10000.000000<br>margin level: inf",
          "balance: 10000.000000 USD<br>equity: 10000.000000<br>margin: 0.000000<br>free margin: 10000.000000<br>margin level: inf",
          "balance: 10000.000000 USD<br>equity: 10000.000000<br>margin: 0.000000<br>free margin: 10000.000000<br>margin level: inf",
          "balance: 10000.000000 USD<br>equity: 10000.000000<br>margin: 0.000000<br>free margin: 10000.000000<br>margin level: inf",
          "balance: 10000.000000 USD<br>equity: 10000.000000<br>margin: 0.000000<br>free margin: 10000.000000<br>margin level: inf",
          "balance: 10000.000000 USD<br>equity: 10000.000000<br>margin: 0.000000<br>free margin: 10000.000000<br>margin level: inf",
          "balance: 10000.000000 USD<br>equity: 10000.000000<br>margin: 0.000000<br>free margin: 10000.000000<br>margin level: inf",
          "balance: 10000.000000 USD<br>equity: 10000.000000<br>margin: 0.000000<br>free margin: 10000.000000<br>margin level: inf",
          "balance: 10000.000000 USD<br>equity: 10427.993279<br>margin: 1693.331400<br>free margin: 8734.661879<br>margin level: 6.158271",
          "balance: 10458.293279 USD<br>equity: 9693.437185<br>margin: 2904.659027<br>free margin: 6788.778158<br>margin level: 3.337203",
          "balance: 10059.737185 USD<br>equity: 10915.543626<br>margin: 4544.226100<br>free margin: 6371.317526<br>margin level: 2.402069",
          "balance: 10253.053626 USD<br>equity: 10013.189048<br>margin: 3610.715700<br>free margin: 6402.473348<br>margin level: 2.773187",
          "balance: 10013.189048 USD<br>equity: 9983.029048<br>margin: 97.720000<br>free margin: 9885.309048<br>margin level: 102.159528",
          "balance: 9983.029048 USD<br>equity: 11390.181190<br>margin: 3811.719100<br>free margin: 7578.462090<br>margin level: 2.988201",
          "balance: 10544.379048 USD<br>equity: 13683.987726<br>margin: 8466.999800<br>free margin: 5216.987926<br>margin level: 1.616155",
          "balance: 13834.767726 USD<br>equity: 13842.496240<br>margin: 6438.115120<br>free margin: 7404.381119<br>margin level: 2.150085",
          "balance: 13855.810394 USD<br>equity: 12183.961275<br>margin: 6448.627975<br>free margin: 5735.333301<br>margin level: 1.889388",
          "balance: 12570.988335 USD<br>equity: 12439.138794<br>margin: 6302.140320<br>free margin: 6136.998474<br>margin level: 1.973796",
          "balance: 12263.185323 USD<br>equity: 12462.221086<br>margin: 5418.630920<br>free margin: 7043.590166<br>margin level: 2.299884",
          "balance: 12705.985323 USD<br>equity: 12575.547594<br>margin: 907.605920<br>free margin: 11667.941674<br>margin level: 13.855736",
          "balance: 12854.331292 USD<br>equity: 12298.750082<br>margin: 1227.605920<br>free margin: 11071.144161<br>margin level: 10.018484",
          "balance: 12472.515434 USD<br>equity: 12078.264306<br>margin: 2118.885120<br>free margin: 9959.379186<br>margin level: 5.700292",
          "balance: 12412.816070 USD<br>equity: 12401.429005<br>margin: 2694.568520<br>free margin: 9706.860484<br>margin level: 4.602380",
          "balance: 12303.776070 USD<br>equity: 12158.836935<br>margin: 3458.762920<br>free margin: 8700.074015<br>margin level: 3.515372",
          "balance: 12303.776070 USD<br>equity: 11594.928561<br>margin: 5548.762920<br>free margin: 6046.165641<br>margin level: 2.089642",
          "balance: 11750.942025 USD<br>equity: 12921.491196<br>margin: 3162.065620<br>free margin: 9759.425576<br>margin level: 4.086408",
          "balance: 12611.822025 USD<br>equity: 12962.031448<br>margin: 3213.580320<br>free margin: 9748.451128<br>margin level: 4.033517",
          "balance: 12865.371893 USD<br>equity: 12802.221682<br>margin: 5181.405220<br>free margin: 7620.816462<br>margin level: 2.470801",
          "balance: 12771.489326 USD<br>equity: 15731.934346<br>margin: 4700.908120<br>free margin: 11031.026226<br>margin level: 3.346573",
          "balance: 15663.375579 USD<br>equity: 14552.771889<br>margin: 2585.983720<br>free margin: 11966.788168<br>margin level: 5.627557",
          "balance: 15812.062186 USD<br>equity: 14182.930290<br>margin: 2131.566800<br>free margin: 12051.363490<br>margin level: 6.653758",
          "balance: 14182.930290 USD<br>equity: 14082.042901<br>margin: 790.913400<br>free margin: 13291.129501<br>margin level: 17.804785",
          "balance: 14182.930290 USD<br>equity: 15119.085247<br>margin: 4219.979400<br>free margin: 10899.105847<br>margin level: 3.582739",
          "balance: 15047.805247 USD<br>equity: 15743.138153<br>margin: 3319.066000<br>free margin: 12424.072153<br>margin level: 4.743243",
          "balance: 15743.138153 USD<br>equity: 14965.829579<br>margin: 6132.479162<br>free margin: 8833.350418<br>margin level: 2.440421",
          "balance: 15523.898153 USD<br>equity: 13436.435984<br>margin: 4879.889562<br>free margin: 8556.546422<br>margin level: 2.753430",
          "balance: 15401.683778 USD<br>equity: 13824.741923<br>margin: 6819.349562<br>free margin: 7005.392362<br>margin level: 2.027282",
          "balance: 15401.683778 USD<br>equity: 13449.394067<br>margin: 8841.740362<br>free margin: 4607.653706<br>margin level: 1.521125",
          "balance: 15292.363906 USD<br>equity: 13281.798203<br>margin: 7701.740362<br>free margin: 5580.057842<br>margin level: 1.724519",
          "balance: 13981.963906 USD<br>equity: 14140.088741<br>margin: 9712.288362<br>free margin: 4427.800379<br>margin level: 1.455897",
          "balance: 15435.248099 USD<br>equity: 11744.587405<br>margin: 8416.071668<br>free margin: 3328.515736<br>margin level: 1.395495",
          "balance: 14383.536910 USD<br>equity: 12079.238163<br>margin: 6412.671162<br>free margin: 5666.567001<br>margin level: 1.883652",
          "balance: 14193.705638 USD<br>equity: 16341.160088<br>margin: 10391.466047<br>free margin: 5949.694040<br>margin level: 1.572556",
          "balance: 15587.444966 USD<br>equity: 17336.720344<br>margin: 7112.775162<br>free margin: 10223.945182<br>margin level: 2.437406",
          "balance: 15528.425727 USD<br>equity: 16574.016221<br>margin: 6062.775162<br>free margin: 10511.241060<br>margin level: 2.733734",
          "balance: 14979.786496 USD<br>equity: 18271.453713<br>margin: 6644.557162<br>free margin: 11626.896551<br>margin level: 2.749838",
          "balance: 15986.712361 USD<br>equity: 17694.145849<br>margin: 5143.695001<br>free margin: 12550.450848<br>margin level: 3.439968",
          "balance: 15866.221917 USD<br>equity: 18706.238034<br>margin: 6160.446201<br>free margin: 12545.791833<br>margin level: 3.036507",
          "balance: 16502.571917 USD<br>equity: 18930.683203<br>margin: 7893.830201<br>free margin: 11036.853002<br>margin level: 2.398162",
          "balance: 17044.399307 USD<br>equity: 20183.268230<br>margin: 7942.592562<br>free margin: 12240.675668<br>margin level: 2.541144",
          "balance: 16566.865642 USD<br>equity: 19571.433575<br>margin: 4847.817362<br>free margin: 14723.616214<br>margin level: 4.037164",
          "balance: 16578.745642 USD<br>equity: 20642.718446<br>margin: 4716.897062<br>free margin: 15925.821384<br>margin level: 4.376334",
          "balance: 16301.545642 USD<br>equity: 18899.112562<br>margin: 6115.079462<br>free margin: 12784.033100<br>margin level: 3.090575",
          "balance: 17204.452518 USD<br>equity: 17746.701279<br>margin: 3735.079462<br>free margin: 14011.621818<br>margin level: 4.751358",
          "balance: 17203.032518 USD<br>equity: 18935.596593<br>margin: 5676.595862<br>free margin: 13259.000732<br>margin level: 3.335731",
          "balance: 17263.452518 USD<br>equity: 19040.181158<br>margin: 9265.998162<br>free margin: 9774.182997<br>margin level: 2.054844",
          "balance: 17024.422965 USD<br>equity: 18667.449807<br>margin: 9085.998162<br>free margin: 9581.451646<br>margin level: 2.054529",
          "balance: 17065.619203 USD<br>equity: 19682.078605<br>margin: 11651.465921<br>free margin: 8030.612684<br>margin level: 1.689236",
          "balance: 13882.917772 USD<br>equity: 17342.087023<br>margin: 9816.175621<br>free margin: 7525.911401<br>margin level: 1.766685",
          "balance: 13882.917772 USD<br>equity: 15176.113528<br>margin: 10606.175621<br>free margin: 4569.937906<br>margin level: 1.430875",
          "balance: 14979.077772 USD<br>equity: 15335.963850<br>margin: 11199.983721<br>free margin: 4135.980129<br>margin level: 1.369284",
          "balance: 12383.026762 USD<br>equity: 16001.556846<br>margin: 10192.264044<br>free margin: 5809.292803<br>margin level: 1.569971",
          "balance: 12748.231397 USD<br>equity: 17176.631690<br>margin: 9128.378562<br>free margin: 8048.253128<br>margin level: 1.881674",
          "balance: 12801.788742 USD<br>equity: 19347.529343<br>margin: 11818.378562<br>free margin: 7529.150782<br>margin level: 1.637071",
          "balance: 14163.509854 USD<br>equity: 20190.888069<br>margin: 10187.165077<br>free margin: 10003.722991<br>margin level: 1.981993",
          "balance: 20190.888069 USD<br>equity: 21081.173214<br>margin: 1865.619800<br>free margin: 19215.553414<br>margin level: 11.299823",
          "balance: 21081.173214 USD<br>equity: 20750.310576<br>margin: 3408.495753<br>free margin: 17341.814823<br>margin level: 6.087821",
          "balance: 20991.893214 USD<br>equity: 19968.116005<br>margin: 5668.815753<br>free margin: 14299.300252<br>margin level: 3.522449",
          "balance: 20687.269032 USD<br>equity: 19255.134699<br>margin: 7299.541953<br>free margin: 11955.592746<br>margin level: 2.637855",
          "balance: 20569.699325 USD<br>equity: 18677.077585<br>margin: 5141.252153<br>free margin: 13535.825432<br>margin level: 3.632788",
          "balance: 20035.209059 USD<br>equity: 19539.340249<br>margin: 5021.853038<br>free margin: 14517.487211<br>margin level: 3.890863",
          "balance: 19328.442142 USD<br>equity: 20271.397338<br>margin: 7491.283038<br>free margin: 12780.114299<br>margin level: 2.705998",
          "balance: 20233.507940 USD<br>equity: 22380.439524<br>margin: 6911.600153<br>free margin: 15468.839371<br>margin level: 3.238098",
          "balance: 23115.735505 USD<br>equity: 23172.803697<br>margin: 5172.950553<br>free margin: 17999.853144<br>margin level: 4.479611",
          "balance: 23340.360461 USD<br>equity: 24762.474289<br>margin: 4607.864953<br>free margin: 20154.609336<br>margin level: 5.373958",
          "balance: 24122.820461 USD<br>equity: 24082.721613<br>margin: 4557.099753<br>free margin: 19525.621860<br>margin level: 5.284660",
          "balance: 24082.721613 USD<br>equity: 23289.788576<br>margin: 2098.734400<br>free margin: 21191.054176<br>margin level: 11.097063",
          "balance: 24095.028576 USD<br>equity: 23132.170912<br>margin: 4759.879704<br>free margin: 18372.291208<br>margin level: 4.859823",
          "balance: 24083.540506 USD<br>equity: 23297.762478<br>margin: 7620.265269<br>free margin: 15677.497208<br>margin level: 3.057343",
          "balance: 25016.172478 USD<br>equity: 24550.987129<br>margin: 8727.875543<br>free margin: 15823.111586<br>margin level: 2.812940",
          "balance: 24115.812478 USD<br>equity: 22224.905397<br>margin: 8705.593643<br>free margin: 13519.311754<br>margin level: 2.552945",
          "balance: 23149.837494 USD<br>equity: 22254.956757<br>margin: 9084.210343<br>free margin: 13170.746414<br>margin level: 2.449850",
          "balance: 22232.615676 USD<br>equity: 22079.068030<br>margin: 7456.766000<br>free margin: 14622.302030<br>margin level: 2.960944",
          "balance: 22552.768030 USD<br>equity: 21124.591071<br>margin: 5616.766000<br>free margin: 15507.825071<br>margin level: 3.760988",
          "balance: 22164.191071 USD<br>equity: 19197.822980<br>margin: 8123.237763<br>free margin: 11074.585217<br>margin level: 2.363322",
          "balance: 22092.277156 USD<br>equity: 19160.188472<br>margin: 10502.648755<br>free margin: 8657.539717<br>margin level: 1.824320"
         ],
         "legendgroup": "g1",
         "line": {
          "color": "rgba(0.12156862745098039, 0.4666666666666667, 0.7058823529411765, 1.0)"
         },
         "mode": "lines+markers",
         "name": "EURUSD",
         "opacity": 1,
         "type": "scatter",
         "x": [
          "2021-05-05T00:00:00+00:00",
          "2021-05-06T00:00:00+00:00",
          "2021-05-07T00:00:00+00:00",
          "2021-05-10T00:00:00+00:00",
          "2021-05-11T00:00:00+00:00",
          "2021-05-12T00:00:00+00:00",
          "2021-05-13T00:00:00+00:00",
          "2021-05-14T00:00:00+00:00",
          "2021-05-17T00:00:00+00:00",
          "2021-05-18T00:00:00+00:00",
          "2021-05-19T00:00:00+00:00",
          "2021-05-20T00:00:00+00:00",
          "2021-05-21T00:00:00+00:00",
          "2021-05-24T00:00:00+00:00",
          "2021-05-25T00:00:00+00:00",
          "2021-05-26T00:00:00+00:00",
          "2021-05-27T00:00:00+00:00",
          "2021-05-28T00:00:00+00:00",
          "2021-05-31T00:00:00+00:00",
          "2021-06-01T00:00:00+00:00",
          "2021-06-02T00:00:00+00:00",
          "2021-06-03T00:00:00+00:00",
          "2021-06-04T00:00:00+00:00",
          "2021-06-07T00:00:00+00:00",
          "2021-06-08T00:00:00+00:00",
          "2021-06-09T00:00:00+00:00",
          "2021-06-10T00:00:00+00:00",
          "2021-06-11T00:00:00+00:00",
          "2021-06-14T00:00:00+00:00",
          "2021-06-15T00:00:00+00:00",
          "2021-06-16T00:00:00+00:00",
          "2021-06-17T00:00:00+00:00",
          "2021-06-18T00:00:00+00:00",
          "2021-06-21T00:00:00+00:00",
          "2021-06-22T00:00:00+00:00",
          "2021-06-23T00:00:00+00:00",
          "2021-06-24T00:00:00+00:00",
          "2021-06-25T00:00:00+00:00",
          "2021-06-28T00:00:00+00:00",
          "2021-06-29T00:00:00+00:00",
          "2021-06-30T00:00:00+00:00",
          "2021-07-01T00:00:00+00:00",
          "2021-07-02T00:00:00+00:00",
          "2021-07-05T00:00:00+00:00",
          "2021-07-06T00:00:00+00:00",
          "2021-07-07T00:00:00+00:00",
          "2021-07-08T00:00:00+00:00",
          "2021-07-09T00:00:00+00:00",
          "2021-07-12T00:00:00+00:00",
          "2021-07-13T00:00:00+00:00",
          "2021-07-14T00:00:00+00:00",
          "2021-07-15T00:00:00+00:00",
          "2021-07-16T00:00:00+00:00",
          "2021-07-19T00:00:00+00:00",
          "2021-07-20T00:00:00+00:00",
          "2021-07-21T00:00:00+00:00",
          "2021-07-22T00:00:00+00:00",
          "2021-07-23T00:00:00+00:00",
          "2021-07-26T00:00:00+00:00",
          "2021-07-27T00:00:00+00:00",
          "2021-07-28T00:00:00+00:00",
          "2021-07-29T00:00:00+00:00",
          "2021-07-30T00:00:00+00:00",
          "2021-08-02T00:00:00+00:00",
          "2021-08-03T00:00:00+00:00",
          "2021-08-04T00:00:00+00:00",
          "2021-08-05T00:00:00+00:00",
          "2021-08-06T00:00:00+00:00",
          "2021-08-09T00:00:00+00:00",
          "2021-08-10T00:00:00+00:00",
          "2021-08-11T00:00:00+00:00",
          "2021-08-12T00:00:00+00:00",
          "2021-08-13T00:00:00+00:00",
          "2021-08-16T00:00:00+00:00",
          "2021-08-17T00:00:00+00:00",
          "2021-08-18T00:00:00+00:00",
          "2021-08-19T00:00:00+00:00",
          "2021-08-20T00:00:00+00:00",
          "2021-08-23T00:00:00+00:00",
          "2021-08-24T00:00:00+00:00",
          "2021-08-25T00:00:00+00:00",
          "2021-08-26T00:00:00+00:00",
          "2021-08-27T00:00:00+00:00",
          "2021-08-30T00:00:00+00:00",
          "2021-08-31T00:00:00+00:00",
          "2021-09-01T00:00:00+00:00",
          "2021-09-02T00:00:00+00:00",
          "2021-09-03T00:00:00+00:00"
         ],
         "y": [
          1.20036,
          1.20646,
          1.21618,
          1.21282,
          1.2147000000000001,
          1.20705,
          1.20791,
          1.21441,
          1.21511,
          1.2221899999999999,
          1.21744,
          1.22269,
          1.21806,
          1.2215,
          1.22497,
          1.21922,
          1.21934,
          1.21896,
          1.2225,
          1.22126,
          1.221,
          1.21265,
          1.21662,
          1.21893,
          1.21726,
          1.21787,
          1.21751,
          1.21063,
          1.212,
          1.21264,
          1.19943,
          1.19069,
          1.18597,
          1.19185,
          1.19413,
          1.19258,
          1.19315,
          1.1937,
          1.19242,
          1.1896,
          1.1856,
          1.18497,
          1.18646,
          1.18634,
          1.18231,
          1.17903,
          1.18449,
          1.18774,
          1.18606,
          1.17765,
          1.18358,
          1.18118,
          1.18055,
          1.17987,
          1.17805,
          1.17946,
          1.17707,
          1.17689,
          1.18029,
          1.18165,
          1.18441,
          1.18865,
          1.1873,
          1.18688,
          1.18637,
          1.18367,
          1.18327,
          1.17611,
          1.17362,
          1.17203,
          1.17388,
          1.17296,
          1.17962,
          1.17768,
          1.17081,
          1.17108,
          1.16756,
          1.16996,
          1.1745700000000001,
          1.17555,
          1.17716,
          1.17515,
          1.1795499999999999,
          1.17962,
          1.18083,
          1.18384,
          1.18744,
          1.18772
         ],
         "yaxis": "y"
        },
        {
         "hovertext": [
          "order id: 1<br>hold probability: 0.0197<br>hold: False<br>volume: 0.057020<br>modified volume: 0.0600<br>fee: 0.000300<br>margin: 73.331400<br>error: ",
          "order id: 3<br>hold probability: 0.4105<br>hold: False<br>volume: -0.660544<br>modified volume: 0.6600<br>fee: 0.000300<br>margin: 803.510400<br>error: ",
          "order id: 6<br>hold probability: 0.1222<br>hold: False<br>volume: -1.533316<br>modified volume: 1.5300<br>fee: 0.000300<br>margin: 1870.715700<br>error: ",
          "order id: 9<br>hold probability: 0.4218<br>hold: False<br>volume: -0.078686<br>modified volume: 0.0800<br>fee: 0.000300<br>margin: 97.720000<br>error: ",
          "order id: 10<br>hold probability: 0.1633<br>hold: False<br>volume: -1.031333<br>modified volume: 1.0300<br>fee: 0.000300<br>margin: 1261.719100<br>error: ",
          "order id: 12<br>hold probability: 0.0948<br>hold: False<br>volume: -3.594075<br>modified volume: 3.5900<br>fee: 0.000300<br>margin: 4376.999800<br>error: ",
          "order id: 14<br>hold probability: 0.2571<br>hold: False<br>volume: -0.755971<br>modified volume: 0.7600<br>fee: 0.000300<br>margin: 926.698400<br>error: ",
          "order id: <br>hold probability: 0.1026<br>hold: False<br>volume: -1.941671<br>modified volume: 1.9400<br>fee: nan<br>margin: nan<br>error: cannot add more orders",
          "order id: 19<br>hold probability: 0.3800<br>hold: False<br>volume: -3.691902<br>modified volume: 3.6900<br>fee: 0.000300<br>margin: 4511.025000<br>error: ",
          "order id: 21<br>hold probability: 0.1840<br>hold: False<br>volume: 0.153873<br>modified volume: 0.1500<br>fee: 0.000300<br>margin: 183.189000<br>error: ",
          "order id: 24<br>hold probability: 0.3722<br>hold: False<br>volume: -1.157874<br>modified volume: 1.1600<br>fee: 0.000300<br>margin: 1411.279200<br>error: ",
          "order id: 26<br>hold probability: 0.1249<br>hold: False<br>volume: -0.677162<br>modified volume: 0.6800<br>fee: 0.000300<br>margin: 828.872400<br>error: ",
          "order id: 27<br>hold probability: 0.1968<br>hold: False<br>volume: -1.363324<br>modified volume: 1.3600<br>fee: 0.000300<br>margin: 1655.473600<br>error: ",
          "order id: <br>hold probability: 0.1383<br>hold: False<br>volume: -3.015301<br>modified volume: 3.0200<br>fee: nan<br>margin: nan<br>error: cannot add more orders",
          "order id: 30<br>hold probability: 0.0775<br>hold: False<br>volume: 0.000517<br>modified volume: 0.0100<br>fee: 0.000300<br>margin: 12.175100<br>error: ",
          "order id: 32<br>hold probability: 0.2227<br>hold: False<br>volume: -1.410881<br>modified volume: 1.4100<br>fee: 0.000300<br>margin: 1706.988300<br>error: ",
          "order id: 34<br>hold probability: 0.4415<br>hold: False<br>volume: -0.828066<br>modified volume: 0.8300<br>fee: 0.000300<br>margin: 1006.491200<br>error: ",
          "order id: 36<br>hold probability: 0.1728<br>hold: False<br>volume: 0.761568<br>modified volume: 0.7600<br>fee: 0.000300<br>margin: 911.566800<br>error: ",
          "order id: 38<br>hold probability: 0.1767<br>hold: False<br>volume: -0.217252<br>modified volume: 0.2200<br>fee: 0.000300<br>margin: 260.913400<br>error: ",
          "order id: 40<br>hold probability: 0.3769<br>hold: False<br>volume: 0.360622<br>modified volume: 0.3600<br>fee: 0.000300<br>margin: 429.066000<br>error: ",
          "order id: 43<br>hold probability: 0.1396<br>hold: False<br>volume: -2.519364<br>modified volume: 2.5200<br>fee: 0.000300<br>margin: 3005.301600<br>error: ",
          "order id: 45<br>hold probability: 0.3244<br>hold: False<br>volume: 0.483436<br>modified volume: 0.4800<br>fee: 0.000300<br>margin: 572.712000<br>error: ",
          "order id: 47<br>hold probability: 0.0815<br>hold: False<br>volume: 1.557413<br>modified volume: 1.5600<br>fee: 0.000300<br>margin: 1862.172000<br>error: ",
          "order id: 49<br>hold probability: 0.3756<br>hold: False<br>volume: 0.739571<br>modified volume: 0.7400<br>fee: 0.000300<br>margin: 882.390800<br>error: ",
          "order id: <br>hold probability: 0.4918<br>hold: False<br>volume: -1.303699<br>modified volume: 1.3000<br>fee: nan<br>margin: nan<br>error: cannot add more orders",
          "order id: 51<br>hold probability: 0.1712<br>hold: False<br>volume: -1.195292<br>modified volume: 1.2000<br>fee: 0.000300<br>margin: 1422.720000<br>error: ",
          "order id: 53<br>hold probability: 0.1828<br>hold: False<br>volume: -0.880098<br>modified volume: 0.8800<br>fee: 0.000300<br>margin: 1042.773600<br>error: ",
          "order id: <br>hold probability: 0.3457<br>hold: False<br>volume: 0.401877<br>modified volume: 0.4000<br>fee: nan<br>margin: nan<br>error: cannot add more orders",
          "order id: 57<br>hold probability: 0.4052<br>hold: False<br>volume: -1.643127<br>modified volume: 1.6400<br>fee: 0.000300<br>margin: 1945.597600<br>error: ",
          "order id: 62<br>hold probability: 0.0826<br>hold: False<br>volume: -0.037989<br>modified volume: 0.0400<br>fee: 0.000300<br>margin: 47.379600<br>error: ",
          "order id: 64<br>hold probability: 0.3776<br>hold: False<br>volume: -0.652665<br>modified volume: 0.6500<br>fee: 0.000300<br>margin: 772.031000<br>error: ",
          "order id: 67<br>hold probability: 0.2425<br>hold: False<br>volume: -0.522799<br>modified volume: 0.5200<br>fee: 0.000300<br>margin: 616.751200<br>error: ",
          "order id: 69<br>hold probability: 0.0834<br>hold: False<br>volume: -1.095374<br>modified volume: 1.1000<br>fee: 0.000300<br>margin: 1295.415000<br>error: ",
          "order id: 72<br>hold probability: 0.1588<br>hold: False<br>volume: -0.360228<br>modified volume: 0.3600<br>fee: 0.000300<br>margin: 425.224800<br>error: ",
          "order id: 73<br>hold probability: 0.3006<br>hold: False<br>volume: -0.194337<br>modified volume: 0.1900<br>fee: 0.000300<br>margin: 224.304500<br>error: ",
          "order id: 75<br>hold probability: 0.2375<br>hold: False<br>volume: 0.023767<br>modified volume: 0.0200<br>fee: 0.000300<br>margin: 23.597400<br>error: ",
          "order id: <br>hold probability: 0.3316<br>hold: False<br>volume: -1.191934<br>modified volume: 1.1900<br>fee: nan<br>margin: nan<br>error: cannot add more orders",
          "order id: 78<br>hold probability: 0.3269<br>hold: False<br>volume: -0.528096<br>modified volume: 0.5300<br>fee: 0.000300<br>margin: 625.113800<br>error: ",
          "order id: 80<br>hold probability: 0.2330<br>hold: False<br>volume: -3.236174<br>modified volume: 3.2400<br>fee: 0.000300<br>margin: 3813.706800<br>error: ",
          "order id: <br>hold probability: 0.3297<br>hold: False<br>volume: 0.589941<br>modified volume: 0.5900<br>fee: nan<br>margin: nan<br>error: cannot add more orders",
          "order id: 82<br>hold probability: 0.1872<br>hold: False<br>volume: 1.363381<br>modified volume: 1.3600<br>fee: 0.000300<br>margin: 1605.194400<br>error: ",
          "order id: 85<br>hold probability: 0.2723<br>hold: False<br>volume: -4.007377<br>modified volume: 4.0100<br>fee: 0.000300<br>margin: 4738.416500<br>error: ",
          "order id: <br>hold probability: 0.1301<br>hold: False<br>volume: -1.840736<br>modified volume: 1.8400<br>fee: nan<br>margin: nan<br>error: cannot add more orders",
          "order id: 87<br>hold probability: 0.4071<br>hold: False<br>volume: -1.852755<br>modified volume: 1.8500<br>fee: 0.000300<br>margin: 2199.002500<br>error: ",
          "order id: 88<br>hold probability: 0.2929<br>hold: False<br>volume: -3.373545<br>modified volume: 3.3700<br>fee: 0.000300<br>margin: 4001.201000<br>error: ",
          "order id: 93<br>hold probability: 0.4196<br>hold: False<br>volume: -2.363127<br>modified volume: 2.3600<br>fee: 0.000300<br>margin: 2793.461200<br>error: ",
          "order id: 96<br>hold probability: 0.2078<br>hold: False<br>volume: -0.739540<br>modified volume: 0.7400<br>fee: 0.000300<br>margin: 875.619800<br>error: ",
          "order id: 98<br>hold probability: 0.4474<br>hold: False<br>volume: 0.324806<br>modified volume: 0.3200<br>fee: 0.000300<br>margin: 376.355200<br>error: ",
          "order id: 101<br>hold probability: 0.0552<br>hold: False<br>volume: -0.956741<br>modified volume: 0.9600<br>fee: 0.000300<br>margin: 1126.675200<br>error: ",
          "order id: 103<br>hold probability: 0.2650<br>hold: False<br>volume: -1.375901<br>modified volume: 1.3800<br>fee: 0.000300<br>margin: 1617.401400<br>error: ",
          "order id: 105<br>hold probability: 0.0559<br>hold: False<br>volume: 0.570950<br>modified volume: 0.5700<br>fee: 0.000300<br>margin: 669.111600<br>error: ",
          "order id: 109<br>hold probability: 0.2540<br>hold: False<br>volume: -1.496685<br>modified volume: 1.5000<br>fee: 0.000300<br>margin: 1769.430000<br>error: ",
          "order id: 111<br>hold probability: 0.0846<br>hold: False<br>volume: -1.967693<br>modified volume: 1.9700<br>fee: 0.000300<br>margin: 2320.029600<br>error: ",
          "order id: 113<br>hold probability: 0.1522<br>hold: False<br>volume: -0.998951<br>modified volume: 1.0000<br>fee: 0.000300<br>margin: 1170.810000<br>error: ",
          "order id: 115<br>hold probability: 0.3759<br>hold: False<br>volume: -2.432130<br>modified volume: 2.4300<br>fee: 0.000300<br>margin: 2845.724400<br>error: ",
          "order id: 116<br>hold probability: 0.4056<br>hold: False<br>volume: -1.819777<br>modified volume: 1.8200<br>fee: 0.000300<br>margin: 2124.959200<br>error: ",
          "order id: 118<br>hold probability: 0.4484<br>hold: False<br>volume: -1.637370<br>modified volume: 1.6400<br>fee: 0.000300<br>margin: 1918.734400<br>error: ",
          "order id: 120<br>hold probability: 0.3947<br>hold: False<br>volume: -1.686003<br>modified volume: 1.6900<br>fee: 0.000300<br>margin: 1985.023300<br>error: ",
          "order id: <br>hold probability: 0.2778<br>hold: False<br>volume: -0.348331<br>modified volume: 0.3500<br>fee: nan<br>margin: nan<br>error: cannot add more orders",
          "order id: 127<br>hold probability: 0.3390<br>hold: False<br>volume: -1.351973<br>modified volume: 1.3500<br>fee: 0.000300<br>margin: 1586.452500<br>error: ",
          "order id: 129<br>hold probability: 0.2134<br>hold: False<br>volume: -0.799289<br>modified volume: 0.8000<br>fee: 0.000300<br>margin: 943.640000<br>error: ",
          "order id: 131<br>hold probability: 0.1654<br>hold: False<br>volume: -2.297539<br>modified volume: 2.3000<br>fee: 0.000300<br>margin: 2713.126000<br>error: ",
          "order id: <br>hold probability: 0.3429<br>hold: False<br>volume: -1.616945<br>modified volume: 1.6200<br>fee: nan<br>margin: nan<br>error: cannot add more orders",
          "order id: 134<br>hold probability: 0.1596<br>hold: False<br>volume: -2.123765<br>modified volume: 2.1200<br>fee: 0.000300<br>margin: 2509.740800<br>error: ",
          "order id: <br>hold probability: 0.4972<br>hold: False<br>volume: -0.231550<br>modified volume: 0.2300<br>fee: nan<br>margin: nan<br>error: cannot add more orders"
         ],
         "legendgroup": "g1",
         "marker": {
          "color": [
           "green",
           "red",
           "red",
           "red",
           "red",
           "red",
           "red",
           "gray",
           "red",
           "green",
           "red",
           "red",
           "red",
           "gray",
           "green",
           "red",
           "red",
           "green",
           "red",
           "green",
           "red",
           "green",
           "green",
           "green",
           "gray",
           "red",
           "red",
           "gray",
           "red",
           "red",
           "red",
           "red",
           "red",
           "red",
           "red",
           "green",
           "gray",
           "red",
           "red",
           "gray",
           "green",
           "red",
           "gray",
           "red",
           "red",
           "red",
           "red",
           "green",
           "red",
           "red",
           "green",
           "red",
           "red",
           "red",
           "red",
           "red",
           "red",
           "red",
           "gray",
           "red",
           "red",
           "red",
           "gray",
           "red",
           "gray"
          ],
          "size": [
           8.329177057356608,
           11.620947630922693,
           16.394014962593516,
           8.438902743142144,
           13.650872817955113,
           27.69576059850374,
           12.169576059850375,
           18.64339152119701,
           28.244389027431424,
           8.82294264339152,
           14.364089775561096,
           11.73067331670823,
           15.46134663341646,
           24.56857855361596,
           8.054862842892769,
           15.735660847880299,
           12.553615960099751,
           12.169576059850375,
           9.206982543640898,
           9.975062344139651,
           21.82543640897756,
           10.633416458852867,
           16.55860349127182,
           12.059850374064837,
           15.132169576059852,
           14.58354114713217,
           12.82793017456359,
           10.194513715710723,
           16.99750623441397,
           8.219451371571072,
           11.566084788029926,
           10.85286783042394,
           14.034912718204488,
           9.975062344139651,
           9.042394014962593,
           8.109725685785536,
           14.528678304239403,
           10.907730673316708,
           25.77556109725686,
           11.236907730673316,
           15.46134663341646,
           30,
           18.09476309226933,
           18.149625935162096,
           26.488778054862845,
           20.947630922693264,
           12.059850374064837,
           9.75561097256858,
           13.266832917705734,
           15.571072319201996,
           11.127182044887782,
           16.22942643391521,
           18.80798004987531,
           13.486284289276808,
           21.331670822942648,
           17.98503740648379,
           16.99750623441397,
           17.271820448877804,
           9.920199501246882,
           15.40648379052369,
           12.389027431421447,
           20.61845386533666,
           16.887780548628427,
           19.630922693266832,
           9.261845386533667
          ],
          "symbol": [
           "triangle-up",
           "triangle-down",
           "triangle-down",
           "triangle-down",
           "triangle-down",
           "triangle-down",
           "triangle-down",
           "triangle-down",
           "triangle-down",
           "triangle-up",
           "triangle-down",
           "triangle-down",
           "triangle-down",
           "triangle-down",
           "triangle-up",
           "triangle-down",
           "triangle-down",
           "triangle-up",
           "triangle-down",
           "triangle-up",
           "triangle-down",
           "triangle-up",
           "triangle-up",
           "triangle-up",
           "triangle-down",
           "triangle-down",
           "triangle-down",
           "triangle-down",
           "triangle-down",
           "triangle-down",
           "triangle-down",
           "triangle-down",
           "triangle-down",
           "triangle-down",
           "triangle-down",
           "triangle-up",
           "triangle-down",
           "triangle-down",
           "triangle-down",
           "triangle-down",
           "triangle-up",
           "triangle-down",
           "triangle-down",
           "triangle-down",
           "triangle-down",
           "triangle-down",
           "triangle-down",
           "triangle-up",
           "triangle-down",
           "triangle-down",
           "triangle-up",
           "triangle-down",
           "triangle-down",
           "triangle-down",
           "triangle-down",
           "triangle-down",
           "triangle-down",
           "triangle-down",
           "triangle-down",
           "triangle-down",
           "triangle-down",
           "triangle-down",
           "triangle-down",
           "triangle-down",
           "triangle-down"
          ]
         },
         "mode": "markers",
         "name": "EURUSD",
         "showlegend": false,
         "type": "scatter",
         "x": [
          "2021-05-18T00:00:00+00:00",
          "2021-05-19T00:00:00+00:00",
          "2021-05-20T00:00:00+00:00",
          "2021-05-24T00:00:00+00:00",
          "2021-05-25T00:00:00+00:00",
          "2021-05-26T00:00:00+00:00",
          "2021-05-27T00:00:00+00:00",
          "2021-05-28T00:00:00+00:00",
          "2021-05-31T00:00:00+00:00",
          "2021-06-01T00:00:00+00:00",
          "2021-06-04T00:00:00+00:00",
          "2021-06-07T00:00:00+00:00",
          "2021-06-08T00:00:00+00:00",
          "2021-06-09T00:00:00+00:00",
          "2021-06-10T00:00:00+00:00",
          "2021-06-11T00:00:00+00:00",
          "2021-06-15T00:00:00+00:00",
          "2021-06-16T00:00:00+00:00",
          "2021-06-18T00:00:00+00:00",
          "2021-06-21T00:00:00+00:00",
          "2021-06-23T00:00:00+00:00",
          "2021-06-24T00:00:00+00:00",
          "2021-06-25T00:00:00+00:00",
          "2021-06-28T00:00:00+00:00",
          "2021-06-29T00:00:00+00:00",
          "2021-06-30T00:00:00+00:00",
          "2021-07-01T00:00:00+00:00",
          "2021-07-02T00:00:00+00:00",
          "2021-07-05T00:00:00+00:00",
          "2021-07-08T00:00:00+00:00",
          "2021-07-09T00:00:00+00:00",
          "2021-07-12T00:00:00+00:00",
          "2021-07-13T00:00:00+00:00",
          "2021-07-15T00:00:00+00:00",
          "2021-07-16T00:00:00+00:00",
          "2021-07-19T00:00:00+00:00",
          "2021-07-20T00:00:00+00:00",
          "2021-07-21T00:00:00+00:00",
          "2021-07-22T00:00:00+00:00",
          "2021-07-23T00:00:00+00:00",
          "2021-07-26T00:00:00+00:00",
          "2021-07-27T00:00:00+00:00",
          "2021-07-28T00:00:00+00:00",
          "2021-07-29T00:00:00+00:00",
          "2021-07-30T00:00:00+00:00",
          "2021-08-04T00:00:00+00:00",
          "2021-08-05T00:00:00+00:00",
          "2021-08-06T00:00:00+00:00",
          "2021-08-09T00:00:00+00:00",
          "2021-08-10T00:00:00+00:00",
          "2021-08-11T00:00:00+00:00",
          "2021-08-13T00:00:00+00:00",
          "2021-08-16T00:00:00+00:00",
          "2021-08-17T00:00:00+00:00",
          "2021-08-18T00:00:00+00:00",
          "2021-08-19T00:00:00+00:00",
          "2021-08-20T00:00:00+00:00",
          "2021-08-23T00:00:00+00:00",
          "2021-08-25T00:00:00+00:00",
          "2021-08-26T00:00:00+00:00",
          "2021-08-27T00:00:00+00:00",
          "2021-08-30T00:00:00+00:00",
          "2021-08-31T00:00:00+00:00",
          "2021-09-01T00:00:00+00:00",
          "2021-09-02T00:00:00+00:00"
         ],
         "y": [
          1.2221899999999999,
          1.21744,
          1.22269,
          1.2215,
          1.22497,
          1.21922,
          1.21934,
          1.21896,
          1.2225,
          1.22126,
          1.21662,
          1.21893,
          1.21726,
          1.21787,
          1.21751,
          1.21063,
          1.21264,
          1.19943,
          1.18597,
          1.19185,
          1.19258,
          1.19315,
          1.1937,
          1.19242,
          1.1896,
          1.1856,
          1.18497,
          1.18646,
          1.18634,
          1.18449,
          1.18774,
          1.18606,
          1.17765,
          1.18118,
          1.18055,
          1.17987,
          1.17805,
          1.17946,
          1.17707,
          1.17689,
          1.18029,
          1.18165,
          1.18441,
          1.18865,
          1.1873,
          1.18367,
          1.18327,
          1.17611,
          1.17362,
          1.17203,
          1.17388,
          1.17962,
          1.17768,
          1.17081,
          1.17108,
          1.16756,
          1.16996,
          1.1745700000000001,
          1.17716,
          1.17515,
          1.1795499999999999,
          1.17962,
          1.18083,
          1.18384,
          1.18744
         ],
         "yaxis": "y"
        },
        {
         "hovertext": [
          "order id: 1<br>order type: Buy<br>close probability: 0.8125<br>margin: 73.331400<br>profit: 1.200000",
          "order id: 3<br>order type: Sell<br>close probability: 0.9388<br>margin: 803.510400<br>profit: -60.720000",
          "order id: 6<br>order type: Sell<br>close probability: 0.5019<br>margin: 1870.715700<br>profit: 136.170000",
          "order id: 9<br>order type: Sell<br>close probability: 0.7774<br>margin: 97.720000<br>profit: -30.160000",
          "order id: 10<br>order type: Sell<br>close probability: 0.5958<br>margin: 1261.719100<br>profit: 561.350000",
          "order id: 12<br>order type: Sell<br>close probability: 0.7855<br>margin: 4376.999800<br>profit: -1285.220000",
          "order id: 14<br>order type: Sell<br>close probability: 0.5057<br>margin: 926.698400<br>profit: -168.720000",
          "order id: 19<br>order type: Sell<br>close probability: 0.7416<br>margin: 4511.025000<br>profit: 442.800000",
          "order id: 21<br>order type: Buy<br>close probability: 0.6777<br>margin: 183.189000<br>profit: -39.450000",
          "order id: 24<br>order type: Sell<br>close probability: 0.7763<br>margin: 1411.279200<br>profit: -109.040000",
          "order id: 26<br>order type: Sell<br>close probability: 0.6051<br>margin: 828.872400<br>profit: 76.160000",
          "order id: 27<br>order type: Sell<br>close probability: 0.5807<br>margin: 1655.473600<br>profit: 860.880000",
          "order id: 30<br>order type: Buy<br>close probability: 0.5036<br>margin: 12.175100<br>profit: -5.810000",
          "order id: 32<br>order type: Sell<br>close probability: 0.8727<br>margin: 1706.988300<br>profit: -325.710000",
          "order id: 34<br>order type: Sell<br>close probability: 0.5110<br>margin: 1006.491200<br>profit: 1071.530000",
          "order id: 36<br>order type: Buy<br>close probability: 0.8465<br>margin: 911.566800<br>profit: -1045.760000",
          "order id: 38<br>order type: Sell<br>close probability: 0.7436<br>margin: 260.913400<br>profit: -186.120000",
          "order id: 40<br>order type: Buy<br>close probability: 0.8938<br>margin: 429.066000<br>profit: 15.480000",
          "order id: 43<br>order type: Sell<br>close probability: 0.6380<br>margin: 3005.301600<br>profit: -219.240000",
          "order id: 45<br>order type: Buy<br>close probability: 0.6997<br>margin: 572.712000<br>profit: 12.000000",
          "order id: 47<br>order type: Buy<br>close probability: 0.8298<br>margin: 1862.172000<br>profit: -1310.400000",
          "order id: 49<br>order type: Buy<br>close probability: 0.5460<br>margin: 882.390800<br>profit: -573.500000",
          "order id: 51<br>order type: Sell<br>close probability: 0.8541<br>margin: 1422.720000<br>profit: -124.800000",
          "order id: 53<br>order type: Sell<br>close probability: 0.6970<br>margin: 1042.773600<br>profit: 207.680000",
          "order id: 57<br>order type: Sell<br>close probability: 0.5095<br>margin: 1945.597600<br>profit: 254.200000",
          "order id: 62<br>order type: Sell<br>close probability: 0.8957<br>margin: 47.379600<br>profit: -14.200000",
          "order id: 64<br>order type: Sell<br>close probability: 0.7534<br>margin: 772.031000<br>profit: 636.350000",
          "order id: 67<br>order type: Sell<br>close probability: 0.6076<br>margin: 616.751200<br>profit: 113.360000",
          "order id: 72<br>order type: Sell<br>close probability: 0.8276<br>margin: 425.224800<br>profit: 11.880000",
          "order id: 69<br>order type: Sell<br>close probability: 0.6933<br>margin: 1295.415000<br>profit: -277.200000",
          "order id: 75<br>order type: Buy<br>close probability: 0.5442<br>margin: 23.597400<br>profit: -1.420000",
          "order id: 73<br>order type: Sell<br>close probability: 0.8233<br>margin: 224.304500<br>profit: 60.420000",
          "order id: 78<br>order type: Sell<br>close probability: 0.6572<br>margin: 625.113800<br>profit: -59.890000",
          "order id: 80<br>order type: Sell<br>close probability: 0.7559<br>margin: 3813.706800<br>profit: -1581.120000",
          "order id: 82<br>order type: Buy<br>close probability: 0.8372<br>margin: 1605.194400<br>profit: 1096.160000",
          "order id: 85<br>order type: Sell<br>close probability: 0.6970<br>margin: 4738.416500<br>profit: -2385.950000",
          "order id: 87<br>order type: Sell<br>close probability: 0.6615<br>margin: 2199.002500<br>profit: 271.950000",
          "order id: 88<br>order type: Sell<br>close probability: 0.5151<br>margin: 4001.201000<br>profit: 1122.210000",
          "order id: 93<br>order type: Sell<br>close probability: 0.5584<br>margin: 2793.461200<br>profit: 23.600000",
          "order id: 96<br>order type: Sell<br>close probability: 0.5754<br>margin: 875.619800<br>profit: 507.640000",
          "order id: 98<br>order type: Buy<br>close probability: 0.6256<br>margin: 376.355200<br>profit: -89.280000",
          "order id: 101<br>order type: Sell<br>close probability: 0.5848<br>margin: 1126.675200<br>profit: 123.840000",
          "order id: 103<br>order type: Sell<br>close probability: 0.6536<br>margin: 1617.401400<br>profit: -296.700000",
          "order id: 105<br>order type: Buy<br>close probability: 0.9363<br>margin: 669.111600<br>profit: -69.540000",
          "order id: 109<br>order type: Sell<br>close probability: 0.8424<br>margin: 1769.430000<br>profit: 1276.500000<br>---------------------------------<br>order id: 111<br>order type: Sell<br>close probability: 0.5241<br>margin: 2320.029600<br>profit: 1294.290000",
          "order id: 113<br>order type: Sell<br>close probability: 0.5929<br>margin: 1170.810000<br>profit: -57.000000",
          "order id: 115<br>order type: Sell<br>close probability: 0.5243<br>margin: 2845.724400<br>profit: 782.460000",
          "order id: 116<br>order type: Sell<br>close probability: 0.9654<br>margin: 2124.959200<br>profit: -491.400000",
          "order id: 118<br>order type: Sell<br>close probability: 0.6793<br>margin: 1918.734400<br>profit: -900.360000",
          "order id: 120<br>order type: Sell<br>close probability: 0.6516<br>margin: 1985.023300<br>profit: -892.320000",
          "order id: 127<br>order type: Sell<br>close probability: 0.6824<br>margin: 1586.452500<br>profit: -643.950000",
          "order id: 129<br>order type: Sell<br>close probability: 0.5448<br>margin: 943.640000<br>profit: -367.200000"
         ],
         "legendgroup": "g1",
         "marker": {
          "color": "black",
          "line": {
           "width": 1.5
          },
          "size": 7,
          "symbol": "line-ns"
         },
         "mode": "markers",
         "name": "EURUSD",
         "showlegend": false,
         "type": "scatter",
         "x": [
          "2021-05-20T00:00:00+00:00",
          "2021-05-21T00:00:00+00:00",
          "2021-05-24T00:00:00+00:00",
          "2021-05-25T00:00:00+00:00",
          "2021-05-26T00:00:00+00:00",
          "2021-05-31T00:00:00+00:00",
          "2021-06-01T00:00:00+00:00",
          "2021-06-02T00:00:00+00:00",
          "2021-06-07T00:00:00+00:00",
          "2021-06-08T00:00:00+00:00",
          "2021-06-10T00:00:00+00:00",
          "2021-06-11T00:00:00+00:00",
          "2021-06-14T00:00:00+00:00",
          "2021-06-15T00:00:00+00:00",
          "2021-06-16T00:00:00+00:00",
          "2021-06-18T00:00:00+00:00",
          "2021-06-22T00:00:00+00:00",
          "2021-06-23T00:00:00+00:00",
          "2021-06-24T00:00:00+00:00",
          "2021-06-25T00:00:00+00:00",
          "2021-06-30T00:00:00+00:00",
          "2021-07-01T00:00:00+00:00",
          "2021-07-05T00:00:00+00:00",
          "2021-07-06T00:00:00+00:00",
          "2021-07-08T00:00:00+00:00",
          "2021-07-09T00:00:00+00:00",
          "2021-07-13T00:00:00+00:00",
          "2021-07-14T00:00:00+00:00",
          "2021-07-16T00:00:00+00:00",
          "2021-07-19T00:00:00+00:00",
          "2021-07-21T00:00:00+00:00",
          "2021-07-22T00:00:00+00:00",
          "2021-07-26T00:00:00+00:00",
          "2021-07-27T00:00:00+00:00",
          "2021-07-29T00:00:00+00:00",
          "2021-07-30T00:00:00+00:00",
          "2021-08-02T00:00:00+00:00",
          "2021-08-04T00:00:00+00:00",
          "2021-08-05T00:00:00+00:00",
          "2021-08-06T00:00:00+00:00",
          "2021-08-09T00:00:00+00:00",
          "2021-08-10T00:00:00+00:00",
          "2021-08-11T00:00:00+00:00",
          "2021-08-12T00:00:00+00:00",
          "2021-08-17T00:00:00+00:00",
          "2021-08-18T00:00:00+00:00",
          "2021-08-19T00:00:00+00:00",
          "2021-08-20T00:00:00+00:00",
          "2021-08-26T00:00:00+00:00",
          "2021-08-27T00:00:00+00:00",
          "2021-08-30T00:00:00+00:00",
          "2021-09-01T00:00:00+00:00"
         ],
         "y": [
          1.22269,
          1.21806,
          1.2215,
          1.22497,
          1.21922,
          1.2225,
          1.22126,
          1.221,
          1.21893,
          1.21726,
          1.21751,
          1.21063,
          1.212,
          1.21264,
          1.19943,
          1.18597,
          1.19413,
          1.19258,
          1.19315,
          1.1937,
          1.1856,
          1.18497,
          1.18634,
          1.18231,
          1.18449,
          1.18774,
          1.17765,
          1.18358,
          1.18055,
          1.17987,
          1.17946,
          1.17707,
          1.18029,
          1.18165,
          1.18865,
          1.1873,
          1.18688,
          1.18367,
          1.18327,
          1.17611,
          1.17362,
          1.17203,
          1.17388,
          1.17296,
          1.17081,
          1.17108,
          1.16756,
          1.16996,
          1.17515,
          1.1795499999999999,
          1.17962,
          1.18384
         ],
         "yaxis": "y"
        },
        {
         "hovertext": [
          "balance: 10000.000000 USD<br>equity: 10000.000000<br>margin: 0.000000<br>free margin: 10000.000000<br>margin level: inf",
          "balance: 10000.000000 USD<br>equity: 10000.000000<br>margin: 0.000000<br>free margin: 10000.000000<br>margin level: inf",
          "balance: 10000.000000 USD<br>equity: 10000.000000<br>margin: 0.000000<br>free margin: 10000.000000<br>margin level: inf",
          "balance: 10000.000000 USD<br>equity: 10000.000000<br>margin: 0.000000<br>free margin: 10000.000000<br>margin level: inf",
          "balance: 10000.000000 USD<br>equity: 10000.000000<br>margin: 0.000000<br>free margin: 10000.000000<br>margin level: inf",
          "balance: 10000.000000 USD<br>equity: 10000.000000<br>margin: 0.000000<br>free margin: 10000.000000<br>margin level: inf",
          "balance: 10000.000000 USD<br>equity: 10000.000000<br>margin: 0.000000<br>free margin: 10000.000000<br>margin level: inf",
          "balance: 10000.000000 USD<br>equity: 10000.000000<br>margin: 0.000000<br>free margin: 10000.000000<br>margin level: inf",
          "balance: 10000.000000 USD<br>equity: 10000.000000<br>margin: 0.000000<br>free margin: 10000.000000<br>margin level: inf",
          "balance: 10000.000000 USD<br>equity: 10000.000000<br>margin: 0.000000<br>free margin: 10000.000000<br>margin level: inf",
          "balance: 10000.000000 USD<br>equity: 10427.993279<br>margin: 1693.331400<br>free margin: 8734.661879<br>margin level: 6.158271",
          "balance: 10458.293279 USD<br>equity: 9693.437185<br>margin: 2904.659027<br>free margin: 6788.778158<br>margin level: 3.337203",
          "balance: 10059.737185 USD<br>equity: 10915.543626<br>margin: 4544.226100<br>free margin: 6371.317526<br>margin level: 2.402069",
          "balance: 10253.053626 USD<br>equity: 10013.189048<br>margin: 3610.715700<br>free margin: 6402.473348<br>margin level: 2.773187",
          "balance: 10013.189048 USD<br>equity: 9983.029048<br>margin: 97.720000<br>free margin: 9885.309048<br>margin level: 102.159528",
          "balance: 9983.029048 USD<br>equity: 11390.181190<br>margin: 3811.719100<br>free margin: 7578.462090<br>margin level: 2.988201",
          "balance: 10544.379048 USD<br>equity: 13683.987726<br>margin: 8466.999800<br>free margin: 5216.987926<br>margin level: 1.616155",
          "balance: 13834.767726 USD<br>equity: 13842.496240<br>margin: 6438.115120<br>free margin: 7404.381119<br>margin level: 2.150085",
          "balance: 13855.810394 USD<br>equity: 12183.961275<br>margin: 6448.627975<br>free margin: 5735.333301<br>margin level: 1.889388",
          "balance: 12570.988335 USD<br>equity: 12439.138794<br>margin: 6302.140320<br>free margin: 6136.998474<br>margin level: 1.973796",
          "balance: 12263.185323 USD<br>equity: 12462.221086<br>margin: 5418.630920<br>free margin: 7043.590166<br>margin level: 2.299884",
          "balance: 12705.985323 USD<br>equity: 12575.547594<br>margin: 907.605920<br>free margin: 11667.941674<br>margin level: 13.855736",
          "balance: 12854.331292 USD<br>equity: 12298.750082<br>margin: 1227.605920<br>free margin: 11071.144161<br>margin level: 10.018484",
          "balance: 12472.515434 USD<br>equity: 12078.264306<br>margin: 2118.885120<br>free margin: 9959.379186<br>margin level: 5.700292",
          "balance: 12412.816070 USD<br>equity: 12401.429005<br>margin: 2694.568520<br>free margin: 9706.860484<br>margin level: 4.602380",
          "balance: 12303.776070 USD<br>equity: 12158.836935<br>margin: 3458.762920<br>free margin: 8700.074015<br>margin level: 3.515372",
          "balance: 12303.776070 USD<br>equity: 11594.928561<br>margin: 5548.762920<br>free margin: 6046.165641<br>margin level: 2.089642",
          "balance: 11750.942025 USD<br>equity: 12921.491196<br>margin: 3162.065620<br>free margin: 9759.425576<br>margin level: 4.086408",
          "balance: 12611.822025 USD<br>equity: 12962.031448<br>margin: 3213.580320<br>free margin: 9748.451128<br>margin level: 4.033517",
          "balance: 12865.371893 USD<br>equity: 12802.221682<br>margin: 5181.405220<br>free margin: 7620.816462<br>margin level: 2.470801",
          "balance: 12771.489326 USD<br>equity: 15731.934346<br>margin: 4700.908120<br>free margin: 11031.026226<br>margin level: 3.346573",
          "balance: 15663.375579 USD<br>equity: 14552.771889<br>margin: 2585.983720<br>free margin: 11966.788168<br>margin level: 5.627557",
          "balance: 15812.062186 USD<br>equity: 14182.930290<br>margin: 2131.566800<br>free margin: 12051.363490<br>margin level: 6.653758",
          "balance: 14182.930290 USD<br>equity: 14082.042901<br>margin: 790.913400<br>free margin: 13291.129501<br>margin level: 17.804785",
          "balance: 14182.930290 USD<br>equity: 15119.085247<br>margin: 4219.979400<br>free margin: 10899.105847<br>margin level: 3.582739",
          "balance: 15047.805247 USD<br>equity: 15743.138153<br>margin: 3319.066000<br>free margin: 12424.072153<br>margin level: 4.743243",
          "balance: 15743.138153 USD<br>equity: 14965.829579<br>margin: 6132.479162<br>free margin: 8833.350418<br>margin level: 2.440421",
          "balance: 15523.898153 USD<br>equity: 13436.435984<br>margin: 4879.889562<br>free margin: 8556.546422<br>margin level: 2.753430",
          "balance: 15401.683778 USD<br>equity: 13824.741923<br>margin: 6819.349562<br>free margin: 7005.392362<br>margin level: 2.027282",
          "balance: 15401.683778 USD<br>equity: 13449.394067<br>margin: 8841.740362<br>free margin: 4607.653706<br>margin level: 1.521125",
          "balance: 15292.363906 USD<br>equity: 13281.798203<br>margin: 7701.740362<br>free margin: 5580.057842<br>margin level: 1.724519",
          "balance: 13981.963906 USD<br>equity: 14140.088741<br>margin: 9712.288362<br>free margin: 4427.800379<br>margin level: 1.455897",
          "balance: 15435.248099 USD<br>equity: 11744.587405<br>margin: 8416.071668<br>free margin: 3328.515736<br>margin level: 1.395495",
          "balance: 14383.536910 USD<br>equity: 12079.238163<br>margin: 6412.671162<br>free margin: 5666.567001<br>margin level: 1.883652",
          "balance: 14193.705638 USD<br>equity: 16341.160088<br>margin: 10391.466047<br>free margin: 5949.694040<br>margin level: 1.572556",
          "balance: 15587.444966 USD<br>equity: 17336.720344<br>margin: 7112.775162<br>free margin: 10223.945182<br>margin level: 2.437406",
          "balance: 15528.425727 USD<br>equity: 16574.016221<br>margin: 6062.775162<br>free margin: 10511.241060<br>margin level: 2.733734",
          "balance: 14979.786496 USD<br>equity: 18271.453713<br>margin: 6644.557162<br>free margin: 11626.896551<br>margin level: 2.749838",
          "balance: 15986.712361 USD<br>equity: 17694.145849<br>margin: 5143.695001<br>free margin: 12550.450848<br>margin level: 3.439968",
          "balance: 15866.221917 USD<br>equity: 18706.238034<br>margin: 6160.446201<br>free margin: 12545.791833<br>margin level: 3.036507",
          "balance: 16502.571917 USD<br>equity: 18930.683203<br>margin: 7893.830201<br>free margin: 11036.853002<br>margin level: 2.398162",
          "balance: 17044.399307 USD<br>equity: 20183.268230<br>margin: 7942.592562<br>free margin: 12240.675668<br>margin level: 2.541144",
          "balance: 16566.865642 USD<br>equity: 19571.433575<br>margin: 4847.817362<br>free margin: 14723.616214<br>margin level: 4.037164",
          "balance: 16578.745642 USD<br>equity: 20642.718446<br>margin: 4716.897062<br>free margin: 15925.821384<br>margin level: 4.376334",
          "balance: 16301.545642 USD<br>equity: 18899.112562<br>margin: 6115.079462<br>free margin: 12784.033100<br>margin level: 3.090575",
          "balance: 17204.452518 USD<br>equity: 17746.701279<br>margin: 3735.079462<br>free margin: 14011.621818<br>margin level: 4.751358",
          "balance: 17203.032518 USD<br>equity: 18935.596593<br>margin: 5676.595862<br>free margin: 13259.000732<br>margin level: 3.335731",
          "balance: 17263.452518 USD<br>equity: 19040.181158<br>margin: 9265.998162<br>free margin: 9774.182997<br>margin level: 2.054844",
          "balance: 17024.422965 USD<br>equity: 18667.449807<br>margin: 9085.998162<br>free margin: 9581.451646<br>margin level: 2.054529",
          "balance: 17065.619203 USD<br>equity: 19682.078605<br>margin: 11651.465921<br>free margin: 8030.612684<br>margin level: 1.689236",
          "balance: 13882.917772 USD<br>equity: 17342.087023<br>margin: 9816.175621<br>free margin: 7525.911401<br>margin level: 1.766685",
          "balance: 13882.917772 USD<br>equity: 15176.113528<br>margin: 10606.175621<br>free margin: 4569.937906<br>margin level: 1.430875",
          "balance: 14979.077772 USD<br>equity: 15335.963850<br>margin: 11199.983721<br>free margin: 4135.980129<br>margin level: 1.369284",
          "balance: 12383.026762 USD<br>equity: 16001.556846<br>margin: 10192.264044<br>free margin: 5809.292803<br>margin level: 1.569971",
          "balance: 12748.231397 USD<br>equity: 17176.631690<br>margin: 9128.378562<br>free margin: 8048.253128<br>margin level: 1.881674",
          "balance: 12801.788742 USD<br>equity: 19347.529343<br>margin: 11818.378562<br>free margin: 7529.150782<br>margin level: 1.637071",
          "balance: 14163.509854 USD<br>equity: 20190.888069<br>margin: 10187.165077<br>free margin: 10003.722991<br>margin level: 1.981993",
          "balance: 20190.888069 USD<br>equity: 21081.173214<br>margin: 1865.619800<br>free margin: 19215.553414<br>margin level: 11.299823",
          "balance: 21081.173214 USD<br>equity: 20750.310576<br>margin: 3408.495753<br>free margin: 17341.814823<br>margin level: 6.087821",
          "balance: 20991.893214 USD<br>equity: 19968.116005<br>margin: 5668.815753<br>free margin: 14299.300252<br>margin level: 3.522449",
          "balance: 20687.269032 USD<br>equity: 19255.134699<br>margin: 7299.541953<br>free margin: 11955.592746<br>margin level: 2.637855",
          "balance: 20569.699325 USD<br>equity: 18677.077585<br>margin: 5141.252153<br>free margin: 13535.825432<br>margin level: 3.632788",
          "balance: 20035.209059 USD<br>equity: 19539.340249<br>margin: 5021.853038<br>free margin: 14517.487211<br>margin level: 3.890863",
          "balance: 19328.442142 USD<br>equity: 20271.397338<br>margin: 7491.283038<br>free margin: 12780.114299<br>margin level: 2.705998",
          "balance: 20233.507940 USD<br>equity: 22380.439524<br>margin: 6911.600153<br>free margin: 15468.839371<br>margin level: 3.238098",
          "balance: 23115.735505 USD<br>equity: 23172.803697<br>margin: 5172.950553<br>free margin: 17999.853144<br>margin level: 4.479611",
          "balance: 23340.360461 USD<br>equity: 24762.474289<br>margin: 4607.864953<br>free margin: 20154.609336<br>margin level: 5.373958",
          "balance: 24122.820461 USD<br>equity: 24082.721613<br>margin: 4557.099753<br>free margin: 19525.621860<br>margin level: 5.284660",
          "balance: 24082.721613 USD<br>equity: 23289.788576<br>margin: 2098.734400<br>free margin: 21191.054176<br>margin level: 11.097063",
          "balance: 24095.028576 USD<br>equity: 23132.170912<br>margin: 4759.879704<br>free margin: 18372.291208<br>margin level: 4.859823",
          "balance: 24083.540506 USD<br>equity: 23297.762478<br>margin: 7620.265269<br>free margin: 15677.497208<br>margin level: 3.057343",
          "balance: 25016.172478 USD<br>equity: 24550.987129<br>margin: 8727.875543<br>free margin: 15823.111586<br>margin level: 2.812940",
          "balance: 24115.812478 USD<br>equity: 22224.905397<br>margin: 8705.593643<br>free margin: 13519.311754<br>margin level: 2.552945",
          "balance: 23149.837494 USD<br>equity: 22254.956757<br>margin: 9084.210343<br>free margin: 13170.746414<br>margin level: 2.449850",
          "balance: 22232.615676 USD<br>equity: 22079.068030<br>margin: 7456.766000<br>free margin: 14622.302030<br>margin level: 2.960944",
          "balance: 22552.768030 USD<br>equity: 21124.591071<br>margin: 5616.766000<br>free margin: 15507.825071<br>margin level: 3.760988",
          "balance: 22164.191071 USD<br>equity: 19197.822980<br>margin: 8123.237763<br>free margin: 11074.585217<br>margin level: 2.363322",
          "balance: 22092.277156 USD<br>equity: 19160.188472<br>margin: 10502.648755<br>free margin: 8657.539717<br>margin level: 1.824320"
         ],
         "legendgroup": "g2",
         "line": {
          "color": "rgba(0.5643983083429451, 0.36993464052287583, 0.5132641291810843, 1.0)"
         },
         "mode": "lines+markers",
         "name": "GBPCAD",
         "opacity": 1,
         "type": "scatter",
         "x": [
          "2021-05-05T00:00:00+00:00",
          "2021-05-06T00:00:00+00:00",
          "2021-05-07T00:00:00+00:00",
          "2021-05-10T00:00:00+00:00",
          "2021-05-11T00:00:00+00:00",
          "2021-05-12T00:00:00+00:00",
          "2021-05-13T00:00:00+00:00",
          "2021-05-14T00:00:00+00:00",
          "2021-05-17T00:00:00+00:00",
          "2021-05-18T00:00:00+00:00",
          "2021-05-19T00:00:00+00:00",
          "2021-05-20T00:00:00+00:00",
          "2021-05-21T00:00:00+00:00",
          "2021-05-24T00:00:00+00:00",
          "2021-05-25T00:00:00+00:00",
          "2021-05-26T00:00:00+00:00",
          "2021-05-27T00:00:00+00:00",
          "2021-05-28T00:00:00+00:00",
          "2021-05-31T00:00:00+00:00",
          "2021-06-01T00:00:00+00:00",
          "2021-06-02T00:00:00+00:00",
          "2021-06-03T00:00:00+00:00",
          "2021-06-04T00:00:00+00:00",
          "2021-06-07T00:00:00+00:00",
          "2021-06-08T00:00:00+00:00",
          "2021-06-09T00:00:00+00:00",
          "2021-06-10T00:00:00+00:00",
          "2021-06-11T00:00:00+00:00",
          "2021-06-14T00:00:00+00:00",
          "2021-06-15T00:00:00+00:00",
          "2021-06-16T00:00:00+00:00",
          "2021-06-17T00:00:00+00:00",
          "2021-06-18T00:00:00+00:00",
          "2021-06-21T00:00:00+00:00",
          "2021-06-22T00:00:00+00:00",
          "2021-06-23T00:00:00+00:00",
          "2021-06-24T00:00:00+00:00",
          "2021-06-25T00:00:00+00:00",
          "2021-06-28T00:00:00+00:00",
          "2021-06-29T00:00:00+00:00",
          "2021-06-30T00:00:00+00:00",
          "2021-07-01T00:00:00+00:00",
          "2021-07-02T00:00:00+00:00",
          "2021-07-05T00:00:00+00:00",
          "2021-07-06T00:00:00+00:00",
          "2021-07-07T00:00:00+00:00",
          "2021-07-08T00:00:00+00:00",
          "2021-07-09T00:00:00+00:00",
          "2021-07-12T00:00:00+00:00",
          "2021-07-13T00:00:00+00:00",
          "2021-07-14T00:00:00+00:00",
          "2021-07-15T00:00:00+00:00",
          "2021-07-16T00:00:00+00:00",
          "2021-07-19T00:00:00+00:00",
          "2021-07-20T00:00:00+00:00",
          "2021-07-21T00:00:00+00:00",
          "2021-07-22T00:00:00+00:00",
          "2021-07-23T00:00:00+00:00",
          "2021-07-26T00:00:00+00:00",
          "2021-07-27T00:00:00+00:00",
          "2021-07-28T00:00:00+00:00",
          "2021-07-29T00:00:00+00:00",
          "2021-07-30T00:00:00+00:00",
          "2021-08-02T00:00:00+00:00",
          "2021-08-03T00:00:00+00:00",
          "2021-08-04T00:00:00+00:00",
          "2021-08-05T00:00:00+00:00",
          "2021-08-06T00:00:00+00:00",
          "2021-08-09T00:00:00+00:00",
          "2021-08-10T00:00:00+00:00",
          "2021-08-11T00:00:00+00:00",
          "2021-08-12T00:00:00+00:00",
          "2021-08-13T00:00:00+00:00",
          "2021-08-16T00:00:00+00:00",
          "2021-08-17T00:00:00+00:00",
          "2021-08-18T00:00:00+00:00",
          "2021-08-19T00:00:00+00:00",
          "2021-08-20T00:00:00+00:00",
          "2021-08-23T00:00:00+00:00",
          "2021-08-24T00:00:00+00:00",
          "2021-08-25T00:00:00+00:00",
          "2021-08-26T00:00:00+00:00",
          "2021-08-27T00:00:00+00:00",
          "2021-08-30T00:00:00+00:00",
          "2021-08-31T00:00:00+00:00",
          "2021-09-01T00:00:00+00:00",
          "2021-09-02T00:00:00+00:00",
          "2021-09-03T00:00:00+00:00"
         ],
         "y": [
          1.70525,
          1.68648,
          1.69619,
          1.7070699999999999,
          1.71108,
          1.70468,
          1.7082899999999999,
          1.70635,
          1.7059199999999999,
          1.71128,
          1.71211,
          1.7107,
          1.70726,
          1.7044000000000001,
          1.7066,
          1.71089,
          1.71345,
          1.71356,
          1.7132399999999999,
          1.70755,
          1.70462,
          1.7068400000000001,
          1.70999,
          1.71255,
          1.7139199999999999,
          1.70927,
          1.71433,
          1.71691,
          1.71341,
          1.71492,
          1.71638,
          1.71949,
          1.72017,
          1.72173,
          1.7158099999999998,
          1.7177,
          1.7149299999999998,
          1.70721,
          1.71244,
          1.71535,
          1.71437,
          1.71059,
          1.70511,
          1.70716,
          1.71879,
          1.72167,
          1.72692,
          1.7307000000000001,
          1.72832,
          1.72767,
          1.73236,
          1.7407,
          1.73684,
          1.74244,
          1.7273800000000001,
          1.72183,
          1.72851,
          1.72728,
          1.73336,
          1.7481900000000001,
          1.7405300000000001,
          1.73688,
          1.73335,
          1.73577,
          1.7441499999999999,
          1.7412999999999998,
          1.7408299999999999,
          1.7419799999999999,
          1.7408000000000001,
          1.7316500000000001,
          1.73282,
          1.72889,
          1.7357200000000002,
          1.7402199999999999,
          1.7349700000000001,
          1.74061,
          1.74874,
          1.7468,
          1.73506,
          1.72784,
          1.73259,
          1.7377,
          1.7353399999999999,
          1.7338900000000002,
          1.73501,
          1.7372800000000002,
          1.73603,
          1.7362600000000001
         ],
         "yaxis": "y2"
        },
        {
         "hovertext": [
          "order id: 4<br>hold probability: 0.4880<br>hold: False<br>volume: 1.039318<br>modified volume: 1.0400<br>fee: 0.000300<br>margin: 1467.817227<br>error: ",
          "order id: 15<br>hold probability: 0.3344<br>hold: False<br>volume: 0.320123<br>modified volume: 0.3200<br>fee: 0.000300<br>margin: 454.416920<br>error: ",
          "order id: 17<br>hold probability: 0.4845<br>hold: False<br>volume: -0.240470<br>modified volume: 0.2400<br>fee: 0.000300<br>margin: 340.512854<br>error: ",
          "order id: 44<br>hold probability: 0.3912<br>hold: False<br>volume: 2.239063<br>modified volume: 2.2400<br>fee: 0.000300<br>margin: 3127.177562<br>error: ",
          "order id: 54<br>hold probability: 0.3411<br>hold: False<br>volume: 1.576187<br>modified volume: 1.5800<br>fee: 0.000300<br>margin: 2173.400507<br>error: ",
          "order id: 58<br>hold probability: 0.3309<br>hold: False<br>volume: 1.924624<br>modified volume: 1.9200<br>fee: 0.000300<br>margin: 2655.917286<br>error: ",
          "order id: 65<br>hold probability: 0.4128<br>hold: False<br>volume: 0.552500<br>modified volume: 0.5500<br>fee: 0.000300<br>margin: 764.486439<br>error: ",
          "order id: <br>hold probability: 0.4725<br>hold: False<br>volume: 2.047558<br>modified volume: 2.0500<br>fee: nan<br>margin: nan<br>error: cannot add more orders",
          "order id: 83<br>hold probability: 0.4567<br>hold: False<br>volume: 0.246626<br>modified volume: 0.2500<br>fee: 0.000300<br>margin: 345.387160<br>error: ",
          "order id: <br>hold probability: 0.4361<br>hold: False<br>volume: -0.660105<br>modified volume: 0.6600<br>fee: nan<br>margin: nan<br>error: cannot add more orders",
          "order id: <br>hold probability: 0.4940<br>hold: False<br>volume: 2.176184<br>modified volume: 2.1800<br>fee: nan<br>margin: nan<br>error: cannot add more orders",
          "order id: 89<br>hold probability: 0.2163<br>hold: False<br>volume: 0.546371<br>modified volume: 0.5500<br>fee: 0.000300<br>margin: 764.882982<br>error: ",
          "order id: 94<br>hold probability: 0.2577<br>hold: False<br>volume: 0.477664<br>modified volume: 0.4800<br>fee: 0.000300<br>margin: 666.526316<br>error: ",
          "order id: 99<br>hold probability: 0.3777<br>hold: False<br>volume: 1.273880<br>modified volume: 1.2700<br>fee: 0.000300<br>margin: 1762.140553<br>error: ",
          "order id: 107<br>hold probability: 0.4457<br>hold: False<br>volume: 1.681137<br>modified volume: 1.6800<br>fee: 0.000300<br>margin: 2319.712485<br>error: ",
          "order id: 121<br>hold probability: 0.3735<br>hold: False<br>volume: -0.419654<br>modified volume: 0.4200<br>fee: 0.000300<br>margin: 576.122004<br>error: ",
          "order id: 123<br>hold probability: 0.3664<br>hold: False<br>volume: 0.936833<br>modified volume: 0.9400<br>fee: 0.000300<br>margin: 1290.385566<br>error: ",
          "order id: 125<br>hold probability: 0.3043<br>hold: False<br>volume: 1.339601<br>modified volume: 1.3400<br>fee: 0.000300<br>margin: 1844.117843<br>error: ",
          "order id: 135<br>hold probability: 0.3862<br>hold: False<br>volume: 1.621046<br>modified volume: 1.6200<br>fee: 0.000300<br>margin: 2230.370963<br>error: ",
          "order id: 137<br>hold probability: 0.4146<br>hold: False<br>volume: 1.925529<br>modified volume: 1.9300<br>fee: 0.000300<br>margin: 2669.410991<br>error: "
         ],
         "legendgroup": "g2",
         "marker": {
          "color": [
           "green",
           "green",
           "red",
           "green",
           "green",
           "green",
           "green",
           "gray",
           "green",
           "gray",
           "gray",
           "green",
           "green",
           "green",
           "green",
           "red",
           "green",
           "green",
           "green",
           "green"
          ],
          "size": [
           14.036939313984169,
           9.857519788918205,
           9.393139841688654,
           21.00263852242744,
           17.171503957783642,
           19.145118733509236,
           11.192612137203167,
           19.899736147757256,
           9.451187335092348,
           11.8311345646438,
           20.654353562005277,
           11.192612137203167,
           10.786279683377309,
           15.37203166226913,
           17.751978891820578,
           10.437994722955144,
           13.45646437994723,
           15.778364116094988,
           17.40369393139842,
           19.203166226912927
          ],
          "symbol": [
           "triangle-up",
           "triangle-up",
           "triangle-down",
           "triangle-up",
           "triangle-up",
           "triangle-up",
           "triangle-up",
           "triangle-down",
           "triangle-up",
           "triangle-down",
           "triangle-down",
           "triangle-up",
           "triangle-up",
           "triangle-up",
           "triangle-up",
           "triangle-down",
           "triangle-up",
           "triangle-up",
           "triangle-up",
           "triangle-up"
          ]
         },
         "mode": "markers",
         "name": "GBPCAD",
         "showlegend": false,
         "type": "scatter",
         "x": [
          "2021-05-19T00:00:00+00:00",
          "2021-05-27T00:00:00+00:00",
          "2021-05-28T00:00:00+00:00",
          "2021-06-23T00:00:00+00:00",
          "2021-07-01T00:00:00+00:00",
          "2021-07-05T00:00:00+00:00",
          "2021-07-09T00:00:00+00:00",
          "2021-07-13T00:00:00+00:00",
          "2021-07-26T00:00:00+00:00",
          "2021-07-27T00:00:00+00:00",
          "2021-07-28T00:00:00+00:00",
          "2021-07-30T00:00:00+00:00",
          "2021-08-04T00:00:00+00:00",
          "2021-08-06T00:00:00+00:00",
          "2021-08-12T00:00:00+00:00",
          "2021-08-23T00:00:00+00:00",
          "2021-08-24T00:00:00+00:00",
          "2021-08-25T00:00:00+00:00",
          "2021-09-01T00:00:00+00:00",
          "2021-09-02T00:00:00+00:00"
         ],
         "y": [
          1.71211,
          1.71345,
          1.71356,
          1.7177,
          1.71059,
          1.70716,
          1.7307000000000001,
          1.72767,
          1.73336,
          1.7481900000000001,
          1.7405300000000001,
          1.73335,
          1.7412999999999998,
          1.7419799999999999,
          1.72889,
          1.73506,
          1.72784,
          1.73259,
          1.7372800000000002,
          1.73603
         ],
         "yaxis": "y2"
        },
        {
         "hovertext": [
          "order id: 4<br>order type: Buy<br>close probability: 0.7366<br>margin: 1467.817227<br>profit: -147.473692",
          "order id: 17<br>order type: Sell<br>close probability: 0.7656<br>margin: 340.512854<br>profit: 0.397941",
          "order id: 15<br>order type: Buy<br>close probability: 0.5259<br>margin: 454.416920<br>profit: 148.686607",
          "order id: 54<br>order type: Buy<br>close probability: 0.8395<br>margin: 2173.400507<br>profit: -740.821260",
          "order id: 58<br>order type: Buy<br>close probability: 0.8153<br>margin: 2655.917286<br>profit: 1745.538580",
          "order id: 65<br>order type: Buy<br>close probability: 0.5072<br>margin: 764.486439<br>profit: 59.799815",
          "order id: 83<br>order type: Buy<br>close probability: 0.6680<br>margin: 345.387160<br>profit: -6.217957",
          "order id: 89<br>order type: Buy<br>close probability: 0.5415<br>margin: 764.882982<br>profit: 93.254635",
          "order id: 44<br>order type: Buy<br>close probability: 0.7053<br>margin: 3127.177562<br>profit: 4091.594259<br>---------------------------------<br>order id: 94<br>order type: Buy<br>close probability: 0.9003<br>margin: 666.526316<br>profit: -29.571312",
          "order id: 107<br>order type: Buy<br>close probability: 0.5746<br>margin: 2319.712485<br>profit: 1474.035892",
          "order id: 99<br>order type: Buy<br>close probability: 0.5758<br>margin: 1762.140553<br>profit: 447.639917",
          "order id: 121<br>order type: Sell<br>close probability: 0.6554<br>margin: 576.122004<br>profit: 72.393086<br>---------------------------------<br>order id: 123<br>order type: Buy<br>close probability: 0.7409<br>margin: 1290.385566<br>profit: 332.258372",
          "order id: 125<br>order type: Buy<br>close probability: 0.6324<br>margin: 1844.117843<br>profit: 106.301118"
         ],
         "legendgroup": "g2",
         "marker": {
          "color": "black",
          "line": {
           "width": 1.5
          },
          "size": 7,
          "symbol": "line-ns"
         },
         "mode": "markers",
         "name": "GBPCAD",
         "showlegend": false,
         "type": "scatter",
         "x": [
          "2021-05-20T00:00:00+00:00",
          "2021-05-31T00:00:00+00:00",
          "2021-06-17T00:00:00+00:00",
          "2021-07-02T00:00:00+00:00",
          "2021-07-06T00:00:00+00:00",
          "2021-07-14T00:00:00+00:00",
          "2021-07-30T00:00:00+00:00",
          "2021-08-02T00:00:00+00:00",
          "2021-08-05T00:00:00+00:00",
          "2021-08-16T00:00:00+00:00",
          "2021-08-20T00:00:00+00:00",
          "2021-08-25T00:00:00+00:00",
          "2021-08-30T00:00:00+00:00"
         ],
         "y": [
          1.7107,
          1.7132399999999999,
          1.71949,
          1.70511,
          1.71879,
          1.73236,
          1.73335,
          1.73577,
          1.7408299999999999,
          1.7402199999999999,
          1.7468,
          1.73259,
          1.7338900000000002
         ],
         "yaxis": "y2"
        },
        {
         "hovertext": [
          "balance: 10000.000000 USD<br>equity: 10000.000000<br>margin: 0.000000<br>free margin: 10000.000000<br>margin level: inf",
          "balance: 10000.000000 USD<br>equity: 10000.000000<br>margin: 0.000000<br>free margin: 10000.000000<br>margin level: inf",
          "balance: 10000.000000 USD<br>equity: 10000.000000<br>margin: 0.000000<br>free margin: 10000.000000<br>margin level: inf",
          "balance: 10000.000000 USD<br>equity: 10000.000000<br>margin: 0.000000<br>free margin: 10000.000000<br>margin level: inf",
          "balance: 10000.000000 USD<br>equity: 10000.000000<br>margin: 0.000000<br>free margin: 10000.000000<br>margin level: inf",
          "balance: 10000.000000 USD<br>equity: 10000.000000<br>margin: 0.000000<br>free margin: 10000.000000<br>margin level: inf",
          "balance: 10000.000000 USD<br>equity: 10000.000000<br>margin: 0.000000<br>free margin: 10000.000000<br>margin level: inf",
          "balance: 10000.000000 USD<br>equity: 10000.000000<br>margin: 0.000000<br>free margin: 10000.000000<br>margin level: inf",
          "balance: 10000.000000 USD<br>equity: 10000.000000<br>margin: 0.000000<br>free margin: 10000.000000<br>margin level: inf",
          "balance: 10000.000000 USD<br>equity: 10000.000000<br>margin: 0.000000<br>free margin: 10000.000000<br>margin level: inf",
          "balance: 10000.000000 USD<br>equity: 10427.993279<br>margin: 1693.331400<br>free margin: 8734.661879<br>margin level: 6.158271",
          "balance: 10458.293279 USD<br>equity: 9693.437185<br>margin: 2904.659027<br>free margin: 6788.778158<br>margin level: 3.337203",
          "balance: 10059.737185 USD<br>equity: 10915.543626<br>margin: 4544.226100<br>free margin: 6371.317526<br>margin level: 2.402069",
          "balance: 10253.053626 USD<br>equity: 10013.189048<br>margin: 3610.715700<br>free margin: 6402.473348<br>margin level: 2.773187",
          "balance: 10013.189048 USD<br>equity: 9983.029048<br>margin: 97.720000<br>free margin: 9885.309048<br>margin level: 102.159528",
          "balance: 9983.029048 USD<br>equity: 11390.181190<br>margin: 3811.719100<br>free margin: 7578.462090<br>margin level: 2.988201",
          "balance: 10544.379048 USD<br>equity: 13683.987726<br>margin: 8466.999800<br>free margin: 5216.987926<br>margin level: 1.616155",
          "balance: 13834.767726 USD<br>equity: 13842.496240<br>margin: 6438.115120<br>free margin: 7404.381119<br>margin level: 2.150085",
          "balance: 13855.810394 USD<br>equity: 12183.961275<br>margin: 6448.627975<br>free margin: 5735.333301<br>margin level: 1.889388",
          "balance: 12570.988335 USD<br>equity: 12439.138794<br>margin: 6302.140320<br>free margin: 6136.998474<br>margin level: 1.973796",
          "balance: 12263.185323 USD<br>equity: 12462.221086<br>margin: 5418.630920<br>free margin: 7043.590166<br>margin level: 2.299884",
          "balance: 12705.985323 USD<br>equity: 12575.547594<br>margin: 907.605920<br>free margin: 11667.941674<br>margin level: 13.855736",
          "balance: 12854.331292 USD<br>equity: 12298.750082<br>margin: 1227.605920<br>free margin: 11071.144161<br>margin level: 10.018484",
          "balance: 12472.515434 USD<br>equity: 12078.264306<br>margin: 2118.885120<br>free margin: 9959.379186<br>margin level: 5.700292",
          "balance: 12412.816070 USD<br>equity: 12401.429005<br>margin: 2694.568520<br>free margin: 9706.860484<br>margin level: 4.602380",
          "balance: 12303.776070 USD<br>equity: 12158.836935<br>margin: 3458.762920<br>free margin: 8700.074015<br>margin level: 3.515372",
          "balance: 12303.776070 USD<br>equity: 11594.928561<br>margin: 5548.762920<br>free margin: 6046.165641<br>margin level: 2.089642",
          "balance: 11750.942025 USD<br>equity: 12921.491196<br>margin: 3162.065620<br>free margin: 9759.425576<br>margin level: 4.086408",
          "balance: 12611.822025 USD<br>equity: 12962.031448<br>margin: 3213.580320<br>free margin: 9748.451128<br>margin level: 4.033517",
          "balance: 12865.371893 USD<br>equity: 12802.221682<br>margin: 5181.405220<br>free margin: 7620.816462<br>margin level: 2.470801",
          "balance: 12771.489326 USD<br>equity: 15731.934346<br>margin: 4700.908120<br>free margin: 11031.026226<br>margin level: 3.346573",
          "balance: 15663.375579 USD<br>equity: 14552.771889<br>margin: 2585.983720<br>free margin: 11966.788168<br>margin level: 5.627557",
          "balance: 15812.062186 USD<br>equity: 14182.930290<br>margin: 2131.566800<br>free margin: 12051.363490<br>margin level: 6.653758",
          "balance: 14182.930290 USD<br>equity: 14082.042901<br>margin: 790.913400<br>free margin: 13291.129501<br>margin level: 17.804785",
          "balance: 14182.930290 USD<br>equity: 15119.085247<br>margin: 4219.979400<br>free margin: 10899.105847<br>margin level: 3.582739",
          "balance: 15047.805247 USD<br>equity: 15743.138153<br>margin: 3319.066000<br>free margin: 12424.072153<br>margin level: 4.743243",
          "balance: 15743.138153 USD<br>equity: 14965.829579<br>margin: 6132.479162<br>free margin: 8833.350418<br>margin level: 2.440421",
          "balance: 15523.898153 USD<br>equity: 13436.435984<br>margin: 4879.889562<br>free margin: 8556.546422<br>margin level: 2.753430",
          "balance: 15401.683778 USD<br>equity: 13824.741923<br>margin: 6819.349562<br>free margin: 7005.392362<br>margin level: 2.027282",
          "balance: 15401.683778 USD<br>equity: 13449.394067<br>margin: 8841.740362<br>free margin: 4607.653706<br>margin level: 1.521125",
          "balance: 15292.363906 USD<br>equity: 13281.798203<br>margin: 7701.740362<br>free margin: 5580.057842<br>margin level: 1.724519",
          "balance: 13981.963906 USD<br>equity: 14140.088741<br>margin: 9712.288362<br>free margin: 4427.800379<br>margin level: 1.455897",
          "balance: 15435.248099 USD<br>equity: 11744.587405<br>margin: 8416.071668<br>free margin: 3328.515736<br>margin level: 1.395495",
          "balance: 14383.536910 USD<br>equity: 12079.238163<br>margin: 6412.671162<br>free margin: 5666.567001<br>margin level: 1.883652",
          "balance: 14193.705638 USD<br>equity: 16341.160088<br>margin: 10391.466047<br>free margin: 5949.694040<br>margin level: 1.572556",
          "balance: 15587.444966 USD<br>equity: 17336.720344<br>margin: 7112.775162<br>free margin: 10223.945182<br>margin level: 2.437406",
          "balance: 15528.425727 USD<br>equity: 16574.016221<br>margin: 6062.775162<br>free margin: 10511.241060<br>margin level: 2.733734",
          "balance: 14979.786496 USD<br>equity: 18271.453713<br>margin: 6644.557162<br>free margin: 11626.896551<br>margin level: 2.749838",
          "balance: 15986.712361 USD<br>equity: 17694.145849<br>margin: 5143.695001<br>free margin: 12550.450848<br>margin level: 3.439968",
          "balance: 15866.221917 USD<br>equity: 18706.238034<br>margin: 6160.446201<br>free margin: 12545.791833<br>margin level: 3.036507",
          "balance: 16502.571917 USD<br>equity: 18930.683203<br>margin: 7893.830201<br>free margin: 11036.853002<br>margin level: 2.398162",
          "balance: 17044.399307 USD<br>equity: 20183.268230<br>margin: 7942.592562<br>free margin: 12240.675668<br>margin level: 2.541144",
          "balance: 16566.865642 USD<br>equity: 19571.433575<br>margin: 4847.817362<br>free margin: 14723.616214<br>margin level: 4.037164",
          "balance: 16578.745642 USD<br>equity: 20642.718446<br>margin: 4716.897062<br>free margin: 15925.821384<br>margin level: 4.376334",
          "balance: 16301.545642 USD<br>equity: 18899.112562<br>margin: 6115.079462<br>free margin: 12784.033100<br>margin level: 3.090575",
          "balance: 17204.452518 USD<br>equity: 17746.701279<br>margin: 3735.079462<br>free margin: 14011.621818<br>margin level: 4.751358",
          "balance: 17203.032518 USD<br>equity: 18935.596593<br>margin: 5676.595862<br>free margin: 13259.000732<br>margin level: 3.335731",
          "balance: 17263.452518 USD<br>equity: 19040.181158<br>margin: 9265.998162<br>free margin: 9774.182997<br>margin level: 2.054844",
          "balance: 17024.422965 USD<br>equity: 18667.449807<br>margin: 9085.998162<br>free margin: 9581.451646<br>margin level: 2.054529",
          "balance: 17065.619203 USD<br>equity: 19682.078605<br>margin: 11651.465921<br>free margin: 8030.612684<br>margin level: 1.689236",
          "balance: 13882.917772 USD<br>equity: 17342.087023<br>margin: 9816.175621<br>free margin: 7525.911401<br>margin level: 1.766685",
          "balance: 13882.917772 USD<br>equity: 15176.113528<br>margin: 10606.175621<br>free margin: 4569.937906<br>margin level: 1.430875",
          "balance: 14979.077772 USD<br>equity: 15335.963850<br>margin: 11199.983721<br>free margin: 4135.980129<br>margin level: 1.369284",
          "balance: 12383.026762 USD<br>equity: 16001.556846<br>margin: 10192.264044<br>free margin: 5809.292803<br>margin level: 1.569971",
          "balance: 12748.231397 USD<br>equity: 17176.631690<br>margin: 9128.378562<br>free margin: 8048.253128<br>margin level: 1.881674",
          "balance: 12801.788742 USD<br>equity: 19347.529343<br>margin: 11818.378562<br>free margin: 7529.150782<br>margin level: 1.637071",
          "balance: 14163.509854 USD<br>equity: 20190.888069<br>margin: 10187.165077<br>free margin: 10003.722991<br>margin level: 1.981993",
          "balance: 20190.888069 USD<br>equity: 21081.173214<br>margin: 1865.619800<br>free margin: 19215.553414<br>margin level: 11.299823",
          "balance: 21081.173214 USD<br>equity: 20750.310576<br>margin: 3408.495753<br>free margin: 17341.814823<br>margin level: 6.087821",
          "balance: 20991.893214 USD<br>equity: 19968.116005<br>margin: 5668.815753<br>free margin: 14299.300252<br>margin level: 3.522449",
          "balance: 20687.269032 USD<br>equity: 19255.134699<br>margin: 7299.541953<br>free margin: 11955.592746<br>margin level: 2.637855",
          "balance: 20569.699325 USD<br>equity: 18677.077585<br>margin: 5141.252153<br>free margin: 13535.825432<br>margin level: 3.632788",
          "balance: 20035.209059 USD<br>equity: 19539.340249<br>margin: 5021.853038<br>free margin: 14517.487211<br>margin level: 3.890863",
          "balance: 19328.442142 USD<br>equity: 20271.397338<br>margin: 7491.283038<br>free margin: 12780.114299<br>margin level: 2.705998",
          "balance: 20233.507940 USD<br>equity: 22380.439524<br>margin: 6911.600153<br>free margin: 15468.839371<br>margin level: 3.238098",
          "balance: 23115.735505 USD<br>equity: 23172.803697<br>margin: 5172.950553<br>free margin: 17999.853144<br>margin level: 4.479611",
          "balance: 23340.360461 USD<br>equity: 24762.474289<br>margin: 4607.864953<br>free margin: 20154.609336<br>margin level: 5.373958",
          "balance: 24122.820461 USD<br>equity: 24082.721613<br>margin: 4557.099753<br>free margin: 19525.621860<br>margin level: 5.284660",
          "balance: 24082.721613 USD<br>equity: 23289.788576<br>margin: 2098.734400<br>free margin: 21191.054176<br>margin level: 11.097063",
          "balance: 24095.028576 USD<br>equity: 23132.170912<br>margin: 4759.879704<br>free margin: 18372.291208<br>margin level: 4.859823",
          "balance: 24083.540506 USD<br>equity: 23297.762478<br>margin: 7620.265269<br>free margin: 15677.497208<br>margin level: 3.057343",
          "balance: 25016.172478 USD<br>equity: 24550.987129<br>margin: 8727.875543<br>free margin: 15823.111586<br>margin level: 2.812940",
          "balance: 24115.812478 USD<br>equity: 22224.905397<br>margin: 8705.593643<br>free margin: 13519.311754<br>margin level: 2.552945",
          "balance: 23149.837494 USD<br>equity: 22254.956757<br>margin: 9084.210343<br>free margin: 13170.746414<br>margin level: 2.449850",
          "balance: 22232.615676 USD<br>equity: 22079.068030<br>margin: 7456.766000<br>free margin: 14622.302030<br>margin level: 2.960944",
          "balance: 22552.768030 USD<br>equity: 21124.591071<br>margin: 5616.766000<br>free margin: 15507.825071<br>margin level: 3.760988",
          "balance: 22164.191071 USD<br>equity: 19197.822980<br>margin: 8123.237763<br>free margin: 11074.585217<br>margin level: 2.363322",
          "balance: 22092.277156 USD<br>equity: 19160.188472<br>margin: 10502.648755<br>free margin: 8657.539717<br>margin level: 1.824320"
         ],
         "legendgroup": "g3",
         "line": {
          "color": "rgba(0.7372549019607844, 0.7411764705882353, 0.13333333333333333, 1.0)"
         },
         "mode": "lines+markers",
         "name": "USDJPY",
         "opacity": 1,
         "type": "scatter",
         "x": [
          "2021-05-05T00:00:00+00:00",
          "2021-05-06T00:00:00+00:00",
          "2021-05-07T00:00:00+00:00",
          "2021-05-10T00:00:00+00:00",
          "2021-05-11T00:00:00+00:00",
          "2021-05-12T00:00:00+00:00",
          "2021-05-13T00:00:00+00:00",
          "2021-05-14T00:00:00+00:00",
          "2021-05-17T00:00:00+00:00",
          "2021-05-18T00:00:00+00:00",
          "2021-05-19T00:00:00+00:00",
          "2021-05-20T00:00:00+00:00",
          "2021-05-21T00:00:00+00:00",
          "2021-05-24T00:00:00+00:00",
          "2021-05-25T00:00:00+00:00",
          "2021-05-26T00:00:00+00:00",
          "2021-05-27T00:00:00+00:00",
          "2021-05-28T00:00:00+00:00",
          "2021-05-31T00:00:00+00:00",
          "2021-06-01T00:00:00+00:00",
          "2021-06-02T00:00:00+00:00",
          "2021-06-03T00:00:00+00:00",
          "2021-06-04T00:00:00+00:00",
          "2021-06-07T00:00:00+00:00",
          "2021-06-08T00:00:00+00:00",
          "2021-06-09T00:00:00+00:00",
          "2021-06-10T00:00:00+00:00",
          "2021-06-11T00:00:00+00:00",
          "2021-06-14T00:00:00+00:00",
          "2021-06-15T00:00:00+00:00",
          "2021-06-16T00:00:00+00:00",
          "2021-06-17T00:00:00+00:00",
          "2021-06-18T00:00:00+00:00",
          "2021-06-21T00:00:00+00:00",
          "2021-06-22T00:00:00+00:00",
          "2021-06-23T00:00:00+00:00",
          "2021-06-24T00:00:00+00:00",
          "2021-06-25T00:00:00+00:00",
          "2021-06-28T00:00:00+00:00",
          "2021-06-29T00:00:00+00:00",
          "2021-06-30T00:00:00+00:00",
          "2021-07-01T00:00:00+00:00",
          "2021-07-02T00:00:00+00:00",
          "2021-07-05T00:00:00+00:00",
          "2021-07-06T00:00:00+00:00",
          "2021-07-07T00:00:00+00:00",
          "2021-07-08T00:00:00+00:00",
          "2021-07-09T00:00:00+00:00",
          "2021-07-12T00:00:00+00:00",
          "2021-07-13T00:00:00+00:00",
          "2021-07-14T00:00:00+00:00",
          "2021-07-15T00:00:00+00:00",
          "2021-07-16T00:00:00+00:00",
          "2021-07-19T00:00:00+00:00",
          "2021-07-20T00:00:00+00:00",
          "2021-07-21T00:00:00+00:00",
          "2021-07-22T00:00:00+00:00",
          "2021-07-23T00:00:00+00:00",
          "2021-07-26T00:00:00+00:00",
          "2021-07-27T00:00:00+00:00",
          "2021-07-28T00:00:00+00:00",
          "2021-07-29T00:00:00+00:00",
          "2021-07-30T00:00:00+00:00",
          "2021-08-02T00:00:00+00:00",
          "2021-08-03T00:00:00+00:00",
          "2021-08-04T00:00:00+00:00",
          "2021-08-05T00:00:00+00:00",
          "2021-08-06T00:00:00+00:00",
          "2021-08-09T00:00:00+00:00",
          "2021-08-10T00:00:00+00:00",
          "2021-08-11T00:00:00+00:00",
          "2021-08-12T00:00:00+00:00",
          "2021-08-13T00:00:00+00:00",
          "2021-08-16T00:00:00+00:00",
          "2021-08-17T00:00:00+00:00",
          "2021-08-18T00:00:00+00:00",
          "2021-08-19T00:00:00+00:00",
          "2021-08-20T00:00:00+00:00",
          "2021-08-23T00:00:00+00:00",
          "2021-08-24T00:00:00+00:00",
          "2021-08-25T00:00:00+00:00",
          "2021-08-26T00:00:00+00:00",
          "2021-08-27T00:00:00+00:00",
          "2021-08-30T00:00:00+00:00",
          "2021-08-31T00:00:00+00:00",
          "2021-09-01T00:00:00+00:00",
          "2021-09-02T00:00:00+00:00",
          "2021-09-03T00:00:00+00:00"
         ],
         "y": [
          109.188,
          109.09,
          108.604,
          108.81,
          108.615,
          109.699,
          109.453,
          109.362,
          109.209,
          108.888,
          109.227,
          108.767,
          108.945,
          108.74,
          108.747,
          109.139,
          109.808,
          109.872,
          109.556,
          109.467,
          109.547,
          110.276,
          109.524,
          109.238,
          109.492,
          109.618,
          109.319,
          109.682,
          110.071,
          110.056,
          110.708,
          110.221,
          110.211,
          110.314,
          110.658,
          110.949,
          110.874,
          110.778,
          110.614,
          110.538,
          111.101,
          111.521,
          111.02,
          110.962,
          110.61,
          110.608,
          109.748,
          110.102,
          110.349,
          110.627,
          109.95,
          109.831,
          110.081,
          109.447,
          109.843,
          110.286,
          110.149,
          110.547,
          110.381,
          109.774,
          109.909,
          109.47,
          109.656,
          109.305,
          109.042,
          109.473,
          109.761,
          110.217,
          110.267,
          110.56,
          110.428,
          110.386,
          109.592,
          109.243,
          109.595,
          109.763,
          109.763,
          109.799,
          109.694,
          109.679,
          110.023,
          110.081,
          109.85,
          109.913,
          110.007,
          110.025,
          109.937,
          109.712
         ],
         "yaxis": "y3"
        },
        {
         "hovertext": [
          "order id: 2<br>hold probability: 0.1931<br>hold: False<br>volume: 1.619085<br>modified volume: 1.6200<br>fee: 0.030000<br>margin: 1620.000000<br>error: ",
          "order id: 5<br>hold probability: 0.2995<br>hold: False<br>volume: 0.559512<br>modified volume: 0.5600<br>fee: 0.030000<br>margin: 560.000000<br>error: ",
          "order id: 7<br>hold probability: 0.1458<br>hold: False<br>volume: 1.871262<br>modified volume: 1.8700<br>fee: 0.030000<br>margin: 1870.000000<br>error: ",
          "order id: 8<br>hold probability: 0.2762<br>hold: False<br>volume: 1.743734<br>modified volume: 1.7400<br>fee: 0.030000<br>margin: 1740.000000<br>error: ",
          "order id: 11<br>hold probability: 0.2673<br>hold: False<br>volume: 2.549673<br>modified volume: 2.5500<br>fee: 0.030000<br>margin: 2550.000000<br>error: ",
          "order id: 13<br>hold probability: 0.0385<br>hold: False<br>volume: 1.538598<br>modified volume: 1.5400<br>fee: 0.030000<br>margin: 1540.000000<br>error: ",
          "order id: 16<br>hold probability: 0.2243<br>hold: False<br>volume: 0.680192<br>modified volume: 0.6800<br>fee: 0.030000<br>margin: 680.000000<br>error: ",
          "order id: 18<br>hold probability: 0.2389<br>hold: False<br>volume: 0.348899<br>modified volume: 0.3500<br>fee: 0.030000<br>margin: 350.000000<br>error: ",
          "order id: 20<br>hold probability: 0.2735<br>hold: False<br>volume: 0.060621<br>modified volume: 0.0600<br>fee: 0.030000<br>margin: 60.000000<br>error: ",
          "order id: 22<br>hold probability: 0.0617<br>hold: False<br>volume: 0.206748<br>modified volume: 0.2100<br>fee: 0.030000<br>margin: 210.000000<br>error: ",
          "order id: <br>hold probability: 0.3570<br>hold: False<br>volume: 0.195008<br>modified volume: 0.2000<br>fee: nan<br>margin: nan<br>error: cannot add more orders",
          "order id: 23<br>hold probability: 0.2098<br>hold: False<br>volume: 0.529452<br>modified volume: 0.5300<br>fee: 0.030000<br>margin: 530.000000<br>error: ",
          "order id: 25<br>hold probability: 0.2775<br>hold: False<br>volume: 0.073237<br>modified volume: 0.0700<br>fee: 0.030000<br>margin: 70.000000<br>error: ",
          "order id: 28<br>hold probability: 0.4724<br>hold: False<br>volume: 0.516047<br>modified volume: 0.5200<br>fee: 0.030000<br>margin: 520.000000<br>error: ",
          "order id: 29<br>hold probability: 0.4200<br>hold: False<br>volume: 2.091569<br>modified volume: 2.0900<br>fee: 0.030000<br>margin: 2090.000000<br>error: ",
          "order id: 31<br>hold probability: 0.3087<br>hold: False<br>volume: 0.518789<br>modified volume: 0.5200<br>fee: 0.030000<br>margin: 520.000000<br>error: ",
          "order id: <br>hold probability: 0.3299<br>hold: False<br>volume: -1.722316<br>modified volume: 1.7200<br>fee: nan<br>margin: nan<br>error: cannot add more orders",
          "order id: 33<br>hold probability: 0.1121<br>hold: False<br>volume: 2.503596<br>modified volume: 2.5000<br>fee: 0.030000<br>margin: 2500.000000<br>error: ",
          "order id: 35<br>hold probability: 0.4660<br>hold: False<br>volume: 3.240359<br>modified volume: 3.2400<br>fee: 0.030000<br>margin: 3240.000000<br>error: ",
          "order id: 37<br>hold probability: 0.2125<br>hold: False<br>volume: 1.218541<br>modified volume: 1.2200<br>fee: 0.030000<br>margin: 1220.000000<br>error: ",
          "order id: 39<br>hold probability: 0.2143<br>hold: False<br>volume: 0.534960<br>modified volume: 0.5300<br>fee: 0.030000<br>margin: 530.000000<br>error: ",
          "order id: 41<br>hold probability: 0.2024<br>hold: False<br>volume: 3.003322<br>modified volume: 3.0000<br>fee: 0.030000<br>margin: 3000.000000<br>error: ",
          "order id: 42<br>hold probability: 0.2597<br>hold: False<br>volume: 2.891217<br>modified volume: 2.8900<br>fee: 0.030000<br>margin: 2890.000000<br>error: ",
          "order id: 46<br>hold probability: 0.1145<br>hold: False<br>volume: 1.176740<br>modified volume: 1.1800<br>fee: 0.030000<br>margin: 1180.000000<br>error: ",
          "order id: 48<br>hold probability: 0.4953<br>hold: False<br>volume: 1.828292<br>modified volume: 1.8300<br>fee: 0.030000<br>margin: 1830.000000<br>error: ",
          "order id: 50<br>hold probability: 0.0657<br>hold: False<br>volume: 1.136640<br>modified volume: 1.1400<br>fee: 0.030000<br>margin: 1140.000000<br>error: ",
          "order id: 52<br>hold probability: 0.2424<br>hold: False<br>volume: 2.449110<br>modified volume: 2.4500<br>fee: 0.030000<br>margin: 2450.000000<br>error: ",
          "order id: 55<br>hold probability: 0.2389<br>hold: False<br>volume: 0.650336<br>modified volume: 0.6500<br>fee: 0.030000<br>margin: 650.000000<br>error: ",
          "order id: 56<br>hold probability: 0.2544<br>hold: False<br>volume: 0.822842<br>modified volume: 0.8200<br>fee: 0.030000<br>margin: 820.000000<br>error: ",
          "order id: 59<br>hold probability: 0.0631<br>hold: False<br>volume: 1.624233<br>modified volume: 1.6200<br>fee: 0.030000<br>margin: 1620.000000<br>error: ",
          "order id: 60<br>hold probability: 0.2219<br>hold: False<br>volume: 2.035763<br>modified volume: 2.0400<br>fee: 0.030000<br>margin: 2040.000000<br>error: ",
          "order id: 61<br>hold probability: 0.2025<br>hold: False<br>volume: 0.988367<br>modified volume: 0.9900<br>fee: 0.030000<br>margin: 990.000000<br>error: ",
          "order id: 63<br>hold probability: 0.2832<br>hold: False<br>volume: 3.472024<br>modified volume: 3.4700<br>fee: 0.030000<br>margin: 3470.000000<br>error: ",
          "order id: 66<br>hold probability: 0.3106<br>hold: False<br>volume: -0.475765<br>modified volume: 0.4800<br>fee: 0.030000<br>margin: 480.000000<br>error: ",
          "order id: 68<br>hold probability: 0.2099<br>hold: False<br>volume: 0.875944<br>modified volume: 0.8800<br>fee: 0.030000<br>margin: 880.000000<br>error: ",
          "order id: 70<br>hold probability: 0.1543<br>hold: False<br>volume: -1.213531<br>modified volume: 1.2100<br>fee: 0.030000<br>margin: 1210.000000<br>error: ",
          "order id: 71<br>hold probability: 0.3369<br>hold: False<br>volume: 3.520978<br>modified volume: 3.5200<br>fee: 0.030000<br>margin: 3520.000000<br>error: ",
          "order id: 74<br>hold probability: 0.3349<br>hold: False<br>volume: -0.065233<br>modified volume: 0.0700<br>fee: 0.030000<br>margin: 70.000000<br>error: ",
          "order id: 76<br>hold probability: 0.4003<br>hold: False<br>volume: 2.671848<br>modified volume: 2.6700<br>fee: 0.030000<br>margin: 2670.000000<br>error: ",
          "order id: 77<br>hold probability: 0.2298<br>hold: False<br>volume: -0.359446<br>modified volume: 0.3600<br>fee: 0.030000<br>margin: 360.000000<br>error: ",
          "order id: 79<br>hold probability: 0.2357<br>hold: False<br>volume: 1.339944<br>modified volume: 1.3400<br>fee: 0.030000<br>margin: 1340.000000<br>error: ",
          "order id: <br>hold probability: 0.2433<br>hold: False<br>volume: 0.031875<br>modified volume: 0.0300<br>fee: nan<br>margin: nan<br>error: cannot add more orders",
          "order id: 81<br>hold probability: 0.3180<br>hold: False<br>volume: -0.184252<br>modified volume: 0.1800<br>fee: 0.030000<br>margin: 180.000000<br>error: ",
          "order id: 84<br>hold probability: 0.3658<br>hold: False<br>volume: 2.763780<br>modified volume: 2.7600<br>fee: 0.030000<br>margin: 2760.000000<br>error: ",
          "order id: 86<br>hold probability: 0.4354<br>hold: False<br>volume: 0.785653<br>modified volume: 0.7900<br>fee: 0.030000<br>margin: 790.000000<br>error: ",
          "order id: 90<br>hold probability: 0.2761<br>hold: False<br>volume: -0.103811<br>modified volume: 0.1000<br>fee: 0.030000<br>margin: 100.000000<br>error: ",
          "order id: 91<br>hold probability: 0.0856<br>hold: False<br>volume: 1.896111<br>modified volume: 1.9000<br>fee: 0.030000<br>margin: 1900.000000<br>error: ",
          "order id: 92<br>hold probability: 0.4095<br>hold: False<br>volume: 2.787800<br>modified volume: 2.7900<br>fee: 0.030000<br>margin: 2790.000000<br>error: ",
          "order id: 95<br>hold probability: 0.1449<br>hold: False<br>volume: 0.813397<br>modified volume: 0.8100<br>fee: 0.030000<br>margin: 810.000000<br>error: ",
          "order id: 97<br>hold probability: 0.2304<br>hold: False<br>volume: 0.992999<br>modified volume: 0.9900<br>fee: 0.030000<br>margin: 990.000000<br>error: ",
          "order id: 100<br>hold probability: 0.4921<br>hold: False<br>volume: -1.270829<br>modified volume: 1.2700<br>fee: 0.030000<br>margin: 1270.000000<br>error: ",
          "order id: 102<br>hold probability: 0.2002<br>hold: False<br>volume: 1.507605<br>modified volume: 1.5100<br>fee: 0.030000<br>margin: 1510.000000<br>error: ",
          "order id: 104<br>hold probability: 0.1517<br>hold: False<br>volume: 2.406100<br>modified volume: 2.4100<br>fee: 0.030000<br>margin: 2410.000000<br>error: ",
          "order id: 106<br>hold probability: 0.4036<br>hold: False<br>volume: 0.300453<br>modified volume: 0.3000<br>fee: 0.030000<br>margin: 300.000000<br>error: ",
          "order id: 108<br>hold probability: 0.1928<br>hold: False<br>volume: 0.936331<br>modified volume: 0.9400<br>fee: 0.030000<br>margin: 940.000000<br>error: ",
          "order id: 110<br>hold probability: 0.1456<br>hold: False<br>volume: 1.636530<br>modified volume: 1.6400<br>fee: 0.030000<br>margin: 1640.000000<br>error: ",
          "order id: 112<br>hold probability: 0.2121<br>hold: False<br>volume: 1.061274<br>modified volume: 1.0600<br>fee: 0.030000<br>margin: 1060.000000<br>error: ",
          "order id: 114<br>hold probability: 0.2203<br>hold: False<br>volume: 2.235211<br>modified volume: 2.2400<br>fee: 0.030000<br>margin: 2240.000000<br>error: ",
          "order id: 117<br>hold probability: 0.1273<br>hold: False<br>volume: 0.673580<br>modified volume: 0.6700<br>fee: 0.030000<br>margin: 670.000000<br>error: ",
          "order id: 119<br>hold probability: 0.3689<br>hold: False<br>volume: -0.183124<br>modified volume: 0.1800<br>fee: 0.030000<br>margin: 180.000000<br>error: ",
          "order id: 122<br>hold probability: 0.1026<br>hold: False<br>volume: 0.276759<br>modified volume: 0.2800<br>fee: 0.030000<br>margin: 280.000000<br>error: ",
          "order id: 124<br>hold probability: 0.3367<br>hold: False<br>volume: 1.848964<br>modified volume: 1.8500<br>fee: 0.030000<br>margin: 1850.000000<br>error: ",
          "order id: 126<br>hold probability: 0.3530<br>hold: False<br>volume: 2.977265<br>modified volume: 2.9800<br>fee: 0.030000<br>margin: 2980.000000<br>error: ",
          "order id: 128<br>hold probability: 0.3341<br>hold: False<br>volume: 0.314086<br>modified volume: 0.3100<br>fee: 0.030000<br>margin: 310.000000<br>error: ",
          "order id: 130<br>hold probability: 0.3355<br>hold: False<br>volume: 1.726230<br>modified volume: 1.7300<br>fee: 0.030000<br>margin: 1730.000000<br>error: ",
          "order id: 132<br>hold probability: 0.3468<br>hold: False<br>volume: 2.070903<br>modified volume: 2.0700<br>fee: 0.030000<br>margin: 2070.000000<br>error: ",
          "order id: 133<br>hold probability: 0.3596<br>hold: False<br>volume: 1.962781<br>modified volume: 1.9600<br>fee: 0.030000<br>margin: 1960.000000<br>error: ",
          "order id: 136<br>hold probability: 0.1464<br>hold: False<br>volume: 0.665112<br>modified volume: 0.6700<br>fee: 0.030000<br>margin: 670.000000<br>error: ",
          "order id: 138<br>hold probability: 0.0981<br>hold: False<br>volume: -0.381566<br>modified volume: 0.3800<br>fee: 0.030000<br>margin: 380.000000<br>error: "
         ],
         "legendgroup": "g3",
         "marker": {
          "color": [
           "green",
           "green",
           "green",
           "green",
           "green",
           "green",
           "green",
           "green",
           "green",
           "green",
           "gray",
           "green",
           "green",
           "green",
           "green",
           "green",
           "gray",
           "green",
           "green",
           "green",
           "green",
           "green",
           "green",
           "green",
           "green",
           "green",
           "green",
           "green",
           "green",
           "green",
           "green",
           "green",
           "green",
           "red",
           "green",
           "red",
           "green",
           "red",
           "green",
           "red",
           "green",
           "gray",
           "red",
           "green",
           "green",
           "red",
           "green",
           "green",
           "green",
           "green",
           "red",
           "green",
           "green",
           "green",
           "green",
           "green",
           "green",
           "green",
           "green",
           "red",
           "green",
           "green",
           "green",
           "green",
           "green",
           "green",
           "green",
           "green",
           "red"
          ],
          "size": [
           18.125,
           11.5,
           19.6875,
           18.875,
           23.9375,
           17.625,
           12.25,
           10.1875,
           8.375,
           9.3125,
           9.25,
           11.3125,
           8.4375,
           11.25,
           21.0625,
           11.25,
           18.75,
           23.625,
           28.25,
           15.625,
           11.3125,
           26.75,
           26.0625,
           15.375,
           19.4375,
           15.125,
           23.3125,
           12.0625,
           13.125,
           18.125,
           20.75,
           14.1875,
           29.6875,
           11,
           13.5,
           15.5625,
           30,
           8.4375,
           24.6875,
           10.25,
           16.375,
           8.1875,
           9.125,
           25.25,
           12.9375,
           8.625,
           19.875,
           25.4375,
           13.0625,
           14.1875,
           15.9375,
           17.4375,
           23.0625,
           9.875,
           13.875,
           18.25,
           14.625,
           22,
           12.1875,
           9.125,
           9.75,
           19.5625,
           26.625,
           9.9375,
           18.8125,
           20.9375,
           20.25,
           12.1875,
           10.375
          ],
          "symbol": [
           "triangle-up",
           "triangle-up",
           "triangle-up",
           "triangle-up",
           "triangle-up",
           "triangle-up",
           "triangle-up",
           "triangle-up",
           "triangle-up",
           "triangle-up",
           "triangle-down",
           "triangle-up",
           "triangle-up",
           "triangle-up",
           "triangle-up",
           "triangle-up",
           "triangle-down",
           "triangle-up",
           "triangle-up",
           "triangle-up",
           "triangle-up",
           "triangle-up",
           "triangle-up",
           "triangle-up",
           "triangle-up",
           "triangle-up",
           "triangle-up",
           "triangle-up",
           "triangle-up",
           "triangle-up",
           "triangle-up",
           "triangle-up",
           "triangle-up",
           "triangle-down",
           "triangle-up",
           "triangle-down",
           "triangle-up",
           "triangle-down",
           "triangle-up",
           "triangle-down",
           "triangle-up",
           "triangle-down",
           "triangle-down",
           "triangle-up",
           "triangle-up",
           "triangle-down",
           "triangle-up",
           "triangle-up",
           "triangle-up",
           "triangle-up",
           "triangle-down",
           "triangle-up",
           "triangle-up",
           "triangle-up",
           "triangle-up",
           "triangle-up",
           "triangle-up",
           "triangle-up",
           "triangle-up",
           "triangle-down",
           "triangle-up",
           "triangle-up",
           "triangle-up",
           "triangle-up",
           "triangle-up",
           "triangle-up",
           "triangle-up",
           "triangle-up",
           "triangle-down"
          ]
         },
         "mode": "markers",
         "name": "USDJPY",
         "showlegend": false,
         "type": "scatter",
         "x": [
          "2021-05-18T00:00:00+00:00",
          "2021-05-19T00:00:00+00:00",
          "2021-05-20T00:00:00+00:00",
          "2021-05-21T00:00:00+00:00",
          "2021-05-25T00:00:00+00:00",
          "2021-05-26T00:00:00+00:00",
          "2021-05-27T00:00:00+00:00",
          "2021-05-28T00:00:00+00:00",
          "2021-05-31T00:00:00+00:00",
          "2021-06-01T00:00:00+00:00",
          "2021-06-02T00:00:00+00:00",
          "2021-06-03T00:00:00+00:00",
          "2021-06-04T00:00:00+00:00",
          "2021-06-08T00:00:00+00:00",
          "2021-06-09T00:00:00+00:00",
          "2021-06-10T00:00:00+00:00",
          "2021-06-11T00:00:00+00:00",
          "2021-06-14T00:00:00+00:00",
          "2021-06-15T00:00:00+00:00",
          "2021-06-16T00:00:00+00:00",
          "2021-06-18T00:00:00+00:00",
          "2021-06-21T00:00:00+00:00",
          "2021-06-22T00:00:00+00:00",
          "2021-06-24T00:00:00+00:00",
          "2021-06-25T00:00:00+00:00",
          "2021-06-28T00:00:00+00:00",
          "2021-06-30T00:00:00+00:00",
          "2021-07-01T00:00:00+00:00",
          "2021-07-02T00:00:00+00:00",
          "2021-07-05T00:00:00+00:00",
          "2021-07-06T00:00:00+00:00",
          "2021-07-07T00:00:00+00:00",
          "2021-07-08T00:00:00+00:00",
          "2021-07-09T00:00:00+00:00",
          "2021-07-12T00:00:00+00:00",
          "2021-07-13T00:00:00+00:00",
          "2021-07-14T00:00:00+00:00",
          "2021-07-16T00:00:00+00:00",
          "2021-07-19T00:00:00+00:00",
          "2021-07-20T00:00:00+00:00",
          "2021-07-21T00:00:00+00:00",
          "2021-07-22T00:00:00+00:00",
          "2021-07-23T00:00:00+00:00",
          "2021-07-26T00:00:00+00:00",
          "2021-07-28T00:00:00+00:00",
          "2021-07-30T00:00:00+00:00",
          "2021-08-02T00:00:00+00:00",
          "2021-08-03T00:00:00+00:00",
          "2021-08-04T00:00:00+00:00",
          "2021-08-05T00:00:00+00:00",
          "2021-08-06T00:00:00+00:00",
          "2021-08-09T00:00:00+00:00",
          "2021-08-10T00:00:00+00:00",
          "2021-08-11T00:00:00+00:00",
          "2021-08-12T00:00:00+00:00",
          "2021-08-13T00:00:00+00:00",
          "2021-08-16T00:00:00+00:00",
          "2021-08-17T00:00:00+00:00",
          "2021-08-19T00:00:00+00:00",
          "2021-08-20T00:00:00+00:00",
          "2021-08-23T00:00:00+00:00",
          "2021-08-24T00:00:00+00:00",
          "2021-08-25T00:00:00+00:00",
          "2021-08-26T00:00:00+00:00",
          "2021-08-27T00:00:00+00:00",
          "2021-08-30T00:00:00+00:00",
          "2021-08-31T00:00:00+00:00",
          "2021-09-01T00:00:00+00:00",
          "2021-09-02T00:00:00+00:00"
         ],
         "y": [
          108.888,
          109.227,
          108.767,
          108.945,
          108.747,
          109.139,
          109.808,
          109.872,
          109.556,
          109.467,
          109.547,
          110.276,
          109.524,
          109.492,
          109.618,
          109.319,
          109.682,
          110.071,
          110.056,
          110.708,
          110.211,
          110.314,
          110.658,
          110.874,
          110.778,
          110.614,
          111.101,
          111.521,
          111.02,
          110.962,
          110.61,
          110.608,
          109.748,
          110.102,
          110.349,
          110.627,
          109.95,
          110.081,
          109.447,
          109.843,
          110.286,
          110.149,
          110.547,
          110.381,
          109.909,
          109.656,
          109.305,
          109.042,
          109.473,
          109.761,
          110.217,
          110.267,
          110.56,
          110.428,
          110.386,
          109.592,
          109.243,
          109.595,
          109.763,
          109.799,
          109.694,
          109.679,
          110.023,
          110.081,
          109.85,
          109.913,
          110.007,
          110.025,
          109.937
         ],
         "yaxis": "y3"
        },
        {
         "hovertext": [
          "order id: 2<br>order type: Buy<br>close probability: 0.6755<br>margin: 1620.000000<br>profit: 458.293279",
          "order id: 5<br>order type: Buy<br>close probability: 0.7314<br>margin: 560.000000<br>profit: -252.282402",
          "order id: 7<br>order type: Buy<br>close probability: 0.7973<br>margin: 1870.000000<br>profit: 254.036440",
          "order id: 8<br>order type: Buy<br>close probability: 0.8462<br>margin: 1740.000000<br>profit: -376.034578",
          "order id: 11<br>order type: Buy<br>close probability: 0.6419<br>margin: 2550.000000<br>profit: 2394.224465<br>---------------------------------<br>order id: 13<br>order type: Buy<br>close probability: 0.6587<br>margin: 1540.000000<br>profit: 896.164214",
          "order id: 16<br>order type: Buy<br>close probability: 0.6287<br>margin: 680.000000<br>profit: 21.042668",
          "order id: 18<br>order type: Buy<br>close probability: 0.5576<br>margin: 350.000000<br>profit: -139.083011",
          "order id: 22<br>order type: Buy<br>close probability: 0.6032<br>margin: 210.000000<br>profit: 148.345968",
          "order id: 20<br>order type: Buy<br>close probability: 0.5499<br>margin: 60.000000<br>profit: -3.396516<br>---------------------------------<br>order id: 23<br>order type: Buy<br>close probability: 0.7792<br>margin: 530.000000<br>profit: -378.419342",
          "order id: 25<br>order type: Buy<br>close probability: 0.6171<br>margin: 70.000000<br>profit: -20.249364",
          "order id: 29<br>order type: Buy<br>close probability: 0.6259<br>margin: 2090.000000<br>profit: -628.994045",
          "order id: 28<br>order type: Buy<br>close probability: 0.5484<br>margin: 520.000000<br>profit: 259.359868",
          "order id: 31<br>order type: Buy<br>close probability: 0.5121<br>margin: 520.000000<br>profit: 334.048121<br>---------------------------------<br>order id: 33<br>order type: Buy<br>close probability: 0.6675<br>margin: 2500.000000<br>profit: -102.220688",
          "order id: 35<br>order type: Buy<br>close probability: 0.7968<br>margin: 3240.000000<br>profit: 1820.356252",
          "order id: 37<br>order type: Buy<br>close probability: 0.7557<br>margin: 1220.000000<br>profit: -583.371896",
          "order id: 39<br>order type: Buy<br>close probability: 0.5328<br>margin: 530.000000<br>profit: 199.723472<br>---------------------------------<br>order id: 41<br>order type: Buy<br>close probability: 0.6002<br>margin: 3000.000000<br>profit: 851.271485",
          "order id: 42<br>order type: Buy<br>close probability: 0.5223<br>margin: 2890.000000<br>profit: 679.852905",
          "order id: 46<br>order type: Buy<br>close probability: 0.7871<br>margin: 1180.000000<br>profit: -134.214375",
          "order id: 50<br>order type: Buy<br>close probability: 0.5512<br>margin: 1140.000000<br>profit: -109.319872",
          "order id: 48<br>order type: Buy<br>close probability: 0.6031<br>margin: 1830.000000<br>profit: 1169.994889<br>---------------------------------<br>order id: 52<br>order type: Buy<br>close probability: 0.5924<br>margin: 2450.000000<br>profit: 856.789304",
          "order id: 55<br>order type: Buy<br>close probability: 0.8419<br>margin: 650.000000<br>profit: -310.889930",
          "order id: 56<br>order type: Buy<br>close probability: 0.5210<br>margin: 820.000000<br>profit: -65.031272",
          "order id: 59<br>order type: Buy<br>close probability: 0.5968<br>margin: 1620.000000<br>profit: -559.479251",
          "order id: 60<br>order type: Buy<br>close probability: 0.6439<br>margin: 2040.000000<br>profit: -59.019239",
          "order id: 61<br>order type: Buy<br>close probability: 0.7895<br>margin: 990.000000<br>profit: -802.839232",
          "order id: 63<br>order type: Buy<br>close probability: 0.5803<br>margin: 3470.000000<br>profit: 1021.125865",
          "order id: 66<br>order type: Sell<br>close probability: 0.7027<br>margin: 480.000000<br>profit: -120.490444",
          "order id: 68<br>order type: Buy<br>close probability: 0.5578<br>margin: 880.000000<br>profit: -343.356071<br>---------------------------------<br>order id: 70<br>order type: Sell<br>close probability: 0.8185<br>margin: 1210.000000<br>profit: 712.023647",
          "order id: 71<br>order type: Buy<br>close probability: 0.5055<br>margin: 3520.000000<br>profit: -477.533665",
          "order id: 74<br>order type: Sell<br>close probability: 0.7018<br>margin: 70.000000<br>profit: 13.255283<br>---------------------------------<br>order id: 76<br>order type: Buy<br>close probability: 0.6489<br>margin: 2670.000000<br>profit: 889.651594",
          "order id: 77<br>order type: Sell<br>close probability: 0.7252<br>margin: 360.000000<br>profit: -239.029553",
          "order id: 79<br>order type: Buy<br>close probability: 0.5102<br>margin: 1340.000000<br>profit: 78.908508<br>---------------------------------<br>order id: 81<br>order type: Sell<br>close probability: 0.8123<br>margin: 180.000000<br>profit: 22.177730",
          "order id: 84<br>order type: Buy<br>close probability: 0.9067<br>margin: 2760.000000<br>profit: -1601.581431",
          "order id: 86<br>order type: Buy<br>close probability: 0.7488<br>margin: 790.000000<br>profit: -203.883052",
          "order id: 90<br>order type: Sell<br>close probability: 0.8809<br>margin: 100.000000<br>profit: 53.557345",
          "order id: 91<br>order type: Buy<br>close probability: 0.7689<br>margin: 1900.000000<br>profit: 239.511112",
          "order id: 92<br>order type: Buy<br>close probability: 0.6863<br>margin: 2790.000000<br>profit: 1751.359773<br>---------------------------------<br>order id: 95<br>order type: Buy<br>close probability: 0.9020<br>margin: 810.000000<br>profit: 190.395496",
          "order id: 97<br>order type: Buy<br>close probability: 0.7688<br>margin: 990.000000<br>profit: 382.645145",
          "order id: 100<br>order type: Sell<br>close probability: 0.8424<br>margin: 1270.000000<br>profit: -428.464182",
          "order id: 102<br>order type: Buy<br>close probability: 0.6205<br>margin: 1510.000000<br>profit: 179.130293",
          "order id: 104<br>order type: Buy<br>close probability: 0.7466<br>margin: 2410.000000<br>profit: -445.382567<br>---------------------------------<br>order id: 106<br>order type: Buy<br>close probability: 0.5122<br>margin: 300.000000<br>profit: -19.567699",
          "order id: 108<br>order type: Buy<br>close probability: 0.6629<br>margin: 940.000000<br>profit: -706.766917",
          "order id: 110<br>order type: Buy<br>close probability: 0.8797<br>margin: 1640.000000<br>profit: -568.970094",
          "order id: 112<br>order type: Buy<br>close probability: 0.6457<br>margin: 1060.000000<br>profit: 311.437566",
          "order id: 114<br>order type: Buy<br>close probability: 0.8712<br>margin: 2240.000000<br>profit: 281.624956",
          "order id: 117<br>order type: Buy<br>close probability: 0.6880<br>margin: 670.000000<br>profit: 3.661236",
          "order id: 119<br>order type: Sell<br>close probability: 0.7036<br>margin: 180.000000<br>profit: 12.306963",
          "order id: 122<br>order type: Buy<br>close probability: 0.7535<br>margin: 280.000000<br>profit: -11.488070",
          "order id: 124<br>order type: Buy<br>close probability: 0.6745<br>margin: 1850.000000<br>profit: 527.980513",
          "order id: 128<br>order type: Buy<br>close probability: 0.6833<br>margin: 310.000000<br>profit: -73.654984",
          "order id: 126<br>order type: Buy<br>close probability: 0.8258<br>margin: 2980.000000<br>profit: -379.572935",
          "order id: 130<br>order type: Buy<br>close probability: 0.7809<br>margin: 1730.000000<br>profit: 199.723654<br>---------------------------------<br>order id: 132<br>order type: Buy<br>close probability: 0.6961<br>margin: 2070.000000<br>profit: 120.428700",
          "order id: 133<br>order type: Buy<br>close probability: 0.7018<br>margin: 1960.000000<br>profit: -21.376960",
          "order id: 136<br>order type: Buy<br>close probability: 0.8817<br>margin: 670.000000<br>profit: -71.913914"
         ],
         "legendgroup": "g3",
         "marker": {
          "color": "black",
          "line": {
           "width": 1.5
          },
          "size": 7,
          "symbol": "line-ns"
         },
         "mode": "markers",
         "name": "USDJPY",
         "showlegend": false,
         "type": "scatter",
         "x": [
          "2021-05-19T00:00:00+00:00",
          "2021-05-20T00:00:00+00:00",
          "2021-05-21T00:00:00+00:00",
          "2021-05-24T00:00:00+00:00",
          "2021-05-27T00:00:00+00:00",
          "2021-05-28T00:00:00+00:00",
          "2021-06-01T00:00:00+00:00",
          "2021-06-03T00:00:00+00:00",
          "2021-06-04T00:00:00+00:00",
          "2021-06-07T00:00:00+00:00",
          "2021-06-10T00:00:00+00:00",
          "2021-06-14T00:00:00+00:00",
          "2021-06-15T00:00:00+00:00",
          "2021-06-16T00:00:00+00:00",
          "2021-06-18T00:00:00+00:00",
          "2021-06-22T00:00:00+00:00",
          "2021-06-23T00:00:00+00:00",
          "2021-06-25T00:00:00+00:00",
          "2021-06-29T00:00:00+00:00",
          "2021-07-01T00:00:00+00:00",
          "2021-07-02T00:00:00+00:00",
          "2021-07-05T00:00:00+00:00",
          "2021-07-06T00:00:00+00:00",
          "2021-07-07T00:00:00+00:00",
          "2021-07-08T00:00:00+00:00",
          "2021-07-09T00:00:00+00:00",
          "2021-07-12T00:00:00+00:00",
          "2021-07-14T00:00:00+00:00",
          "2021-07-15T00:00:00+00:00",
          "2021-07-20T00:00:00+00:00",
          "2021-07-23T00:00:00+00:00",
          "2021-07-26T00:00:00+00:00",
          "2021-07-27T00:00:00+00:00",
          "2021-07-30T00:00:00+00:00",
          "2021-08-03T00:00:00+00:00",
          "2021-08-04T00:00:00+00:00",
          "2021-08-05T00:00:00+00:00",
          "2021-08-06T00:00:00+00:00",
          "2021-08-10T00:00:00+00:00",
          "2021-08-11T00:00:00+00:00",
          "2021-08-12T00:00:00+00:00",
          "2021-08-13T00:00:00+00:00",
          "2021-08-16T00:00:00+00:00",
          "2021-08-17T00:00:00+00:00",
          "2021-08-18T00:00:00+00:00",
          "2021-08-20T00:00:00+00:00",
          "2021-08-23T00:00:00+00:00",
          "2021-08-24T00:00:00+00:00",
          "2021-08-25T00:00:00+00:00",
          "2021-08-27T00:00:00+00:00",
          "2021-08-30T00:00:00+00:00",
          "2021-08-31T00:00:00+00:00",
          "2021-09-01T00:00:00+00:00",
          "2021-09-02T00:00:00+00:00"
         ],
         "y": [
          109.227,
          108.767,
          108.945,
          108.74,
          109.808,
          109.872,
          109.467,
          110.276,
          109.524,
          109.238,
          109.319,
          110.071,
          110.056,
          110.708,
          110.211,
          110.658,
          110.949,
          110.778,
          110.538,
          111.521,
          111.02,
          110.962,
          110.61,
          110.608,
          109.748,
          110.102,
          110.349,
          109.95,
          109.831,
          109.843,
          110.547,
          110.381,
          109.774,
          109.656,
          109.042,
          109.473,
          109.761,
          110.217,
          110.56,
          110.428,
          110.386,
          109.592,
          109.243,
          109.595,
          109.763,
          109.799,
          109.694,
          109.679,
          110.023,
          109.85,
          109.913,
          110.007,
          110.025,
          109.937
         ],
         "yaxis": "y3"
        }
       ],
       "layout": {
        "height": 600,
        "template": {
         "data": {
          "bar": [
           {
            "error_x": {
             "color": "#2a3f5f"
            },
            "error_y": {
             "color": "#2a3f5f"
            },
            "marker": {
             "line": {
              "color": "#E5ECF6",
              "width": 0.5
             },
             "pattern": {
              "fillmode": "overlay",
              "size": 10,
              "solidity": 0.2
             }
            },
            "type": "bar"
           }
          ],
          "barpolar": [
           {
            "marker": {
             "line": {
              "color": "#E5ECF6",
              "width": 0.5
             },
             "pattern": {
              "fillmode": "overlay",
              "size": 10,
              "solidity": 0.2
             }
            },
            "type": "barpolar"
           }
          ],
          "carpet": [
           {
            "aaxis": {
             "endlinecolor": "#2a3f5f",
             "gridcolor": "white",
             "linecolor": "white",
             "minorgridcolor": "white",
             "startlinecolor": "#2a3f5f"
            },
            "baxis": {
             "endlinecolor": "#2a3f5f",
             "gridcolor": "white",
             "linecolor": "white",
             "minorgridcolor": "white",
             "startlinecolor": "#2a3f5f"
            },
            "type": "carpet"
           }
          ],
          "choropleth": [
           {
            "colorbar": {
             "outlinewidth": 0,
             "ticks": ""
            },
            "type": "choropleth"
           }
          ],
          "contour": [
           {
            "colorbar": {
             "outlinewidth": 0,
             "ticks": ""
            },
            "colorscale": [
             [
              0,
              "#0d0887"
             ],
             [
              0.1111111111111111,
              "#46039f"
             ],
             [
              0.2222222222222222,
              "#7201a8"
             ],
             [
              0.3333333333333333,
              "#9c179e"
             ],
             [
              0.4444444444444444,
              "#bd3786"
             ],
             [
              0.5555555555555556,
              "#d8576b"
             ],
             [
              0.6666666666666666,
              "#ed7953"
             ],
             [
              0.7777777777777778,
              "#fb9f3a"
             ],
             [
              0.8888888888888888,
              "#fdca26"
             ],
             [
              1,
              "#f0f921"
             ]
            ],
            "type": "contour"
           }
          ],
          "contourcarpet": [
           {
            "colorbar": {
             "outlinewidth": 0,
             "ticks": ""
            },
            "type": "contourcarpet"
           }
          ],
          "heatmap": [
           {
            "colorbar": {
             "outlinewidth": 0,
             "ticks": ""
            },
            "colorscale": [
             [
              0,
              "#0d0887"
             ],
             [
              0.1111111111111111,
              "#46039f"
             ],
             [
              0.2222222222222222,
              "#7201a8"
             ],
             [
              0.3333333333333333,
              "#9c179e"
             ],
             [
              0.4444444444444444,
              "#bd3786"
             ],
             [
              0.5555555555555556,
              "#d8576b"
             ],
             [
              0.6666666666666666,
              "#ed7953"
             ],
             [
              0.7777777777777778,
              "#fb9f3a"
             ],
             [
              0.8888888888888888,
              "#fdca26"
             ],
             [
              1,
              "#f0f921"
             ]
            ],
            "type": "heatmap"
           }
          ],
          "heatmapgl": [
           {
            "colorbar": {
             "outlinewidth": 0,
             "ticks": ""
            },
            "colorscale": [
             [
              0,
              "#0d0887"
             ],
             [
              0.1111111111111111,
              "#46039f"
             ],
             [
              0.2222222222222222,
              "#7201a8"
             ],
             [
              0.3333333333333333,
              "#9c179e"
             ],
             [
              0.4444444444444444,
              "#bd3786"
             ],
             [
              0.5555555555555556,
              "#d8576b"
             ],
             [
              0.6666666666666666,
              "#ed7953"
             ],
             [
              0.7777777777777778,
              "#fb9f3a"
             ],
             [
              0.8888888888888888,
              "#fdca26"
             ],
             [
              1,
              "#f0f921"
             ]
            ],
            "type": "heatmapgl"
           }
          ],
          "histogram": [
           {
            "marker": {
             "pattern": {
              "fillmode": "overlay",
              "size": 10,
              "solidity": 0.2
             }
            },
            "type": "histogram"
           }
          ],
          "histogram2d": [
           {
            "colorbar": {
             "outlinewidth": 0,
             "ticks": ""
            },
            "colorscale": [
             [
              0,
              "#0d0887"
             ],
             [
              0.1111111111111111,
              "#46039f"
             ],
             [
              0.2222222222222222,
              "#7201a8"
             ],
             [
              0.3333333333333333,
              "#9c179e"
             ],
             [
              0.4444444444444444,
              "#bd3786"
             ],
             [
              0.5555555555555556,
              "#d8576b"
             ],
             [
              0.6666666666666666,
              "#ed7953"
             ],
             [
              0.7777777777777778,
              "#fb9f3a"
             ],
             [
              0.8888888888888888,
              "#fdca26"
             ],
             [
              1,
              "#f0f921"
             ]
            ],
            "type": "histogram2d"
           }
          ],
          "histogram2dcontour": [
           {
            "colorbar": {
             "outlinewidth": 0,
             "ticks": ""
            },
            "colorscale": [
             [
              0,
              "#0d0887"
             ],
             [
              0.1111111111111111,
              "#46039f"
             ],
             [
              0.2222222222222222,
              "#7201a8"
             ],
             [
              0.3333333333333333,
              "#9c179e"
             ],
             [
              0.4444444444444444,
              "#bd3786"
             ],
             [
              0.5555555555555556,
              "#d8576b"
             ],
             [
              0.6666666666666666,
              "#ed7953"
             ],
             [
              0.7777777777777778,
              "#fb9f3a"
             ],
             [
              0.8888888888888888,
              "#fdca26"
             ],
             [
              1,
              "#f0f921"
             ]
            ],
            "type": "histogram2dcontour"
           }
          ],
          "mesh3d": [
           {
            "colorbar": {
             "outlinewidth": 0,
             "ticks": ""
            },
            "type": "mesh3d"
           }
          ],
          "parcoords": [
           {
            "line": {
             "colorbar": {
              "outlinewidth": 0,
              "ticks": ""
             }
            },
            "type": "parcoords"
           }
          ],
          "pie": [
           {
            "automargin": true,
            "type": "pie"
           }
          ],
          "scatter": [
           {
            "fillpattern": {
             "fillmode": "overlay",
             "size": 10,
             "solidity": 0.2
            },
            "type": "scatter"
           }
          ],
          "scatter3d": [
           {
            "line": {
             "colorbar": {
              "outlinewidth": 0,
              "ticks": ""
             }
            },
            "marker": {
             "colorbar": {
              "outlinewidth": 0,
              "ticks": ""
             }
            },
            "type": "scatter3d"
           }
          ],
          "scattercarpet": [
           {
            "marker": {
             "colorbar": {
              "outlinewidth": 0,
              "ticks": ""
             }
            },
            "type": "scattercarpet"
           }
          ],
          "scattergeo": [
           {
            "marker": {
             "colorbar": {
              "outlinewidth": 0,
              "ticks": ""
             }
            },
            "type": "scattergeo"
           }
          ],
          "scattergl": [
           {
            "marker": {
             "colorbar": {
              "outlinewidth": 0,
              "ticks": ""
             }
            },
            "type": "scattergl"
           }
          ],
          "scattermapbox": [
           {
            "marker": {
             "colorbar": {
              "outlinewidth": 0,
              "ticks": ""
             }
            },
            "type": "scattermapbox"
           }
          ],
          "scatterpolar": [
           {
            "marker": {
             "colorbar": {
              "outlinewidth": 0,
              "ticks": ""
             }
            },
            "type": "scatterpolar"
           }
          ],
          "scatterpolargl": [
           {
            "marker": {
             "colorbar": {
              "outlinewidth": 0,
              "ticks": ""
             }
            },
            "type": "scatterpolargl"
           }
          ],
          "scatterternary": [
           {
            "marker": {
             "colorbar": {
              "outlinewidth": 0,
              "ticks": ""
             }
            },
            "type": "scatterternary"
           }
          ],
          "surface": [
           {
            "colorbar": {
             "outlinewidth": 0,
             "ticks": ""
            },
            "colorscale": [
             [
              0,
              "#0d0887"
             ],
             [
              0.1111111111111111,
              "#46039f"
             ],
             [
              0.2222222222222222,
              "#7201a8"
             ],
             [
              0.3333333333333333,
              "#9c179e"
             ],
             [
              0.4444444444444444,
              "#bd3786"
             ],
             [
              0.5555555555555556,
              "#d8576b"
             ],
             [
              0.6666666666666666,
              "#ed7953"
             ],
             [
              0.7777777777777778,
              "#fb9f3a"
             ],
             [
              0.8888888888888888,
              "#fdca26"
             ],
             [
              1,
              "#f0f921"
             ]
            ],
            "type": "surface"
           }
          ],
          "table": [
           {
            "cells": {
             "fill": {
              "color": "#EBF0F8"
             },
             "line": {
              "color": "white"
             }
            },
            "header": {
             "fill": {
              "color": "#C8D4E3"
             },
             "line": {
              "color": "white"
             }
            },
            "type": "table"
           }
          ]
         },
         "layout": {
          "annotationdefaults": {
           "arrowcolor": "#2a3f5f",
           "arrowhead": 0,
           "arrowwidth": 1
          },
          "autotypenumbers": "strict",
          "coloraxis": {
           "colorbar": {
            "outlinewidth": 0,
            "ticks": ""
           }
          },
          "colorscale": {
           "diverging": [
            [
             0,
             "#8e0152"
            ],
            [
             0.1,
             "#c51b7d"
            ],
            [
             0.2,
             "#de77ae"
            ],
            [
             0.3,
             "#f1b6da"
            ],
            [
             0.4,
             "#fde0ef"
            ],
            [
             0.5,
             "#f7f7f7"
            ],
            [
             0.6,
             "#e6f5d0"
            ],
            [
             0.7,
             "#b8e186"
            ],
            [
             0.8,
             "#7fbc41"
            ],
            [
             0.9,
             "#4d9221"
            ],
            [
             1,
             "#276419"
            ]
           ],
           "sequential": [
            [
             0,
             "#0d0887"
            ],
            [
             0.1111111111111111,
             "#46039f"
            ],
            [
             0.2222222222222222,
             "#7201a8"
            ],
            [
             0.3333333333333333,
             "#9c179e"
            ],
            [
             0.4444444444444444,
             "#bd3786"
            ],
            [
             0.5555555555555556,
             "#d8576b"
            ],
            [
             0.6666666666666666,
             "#ed7953"
            ],
            [
             0.7777777777777778,
             "#fb9f3a"
            ],
            [
             0.8888888888888888,
             "#fdca26"
            ],
            [
             1,
             "#f0f921"
            ]
           ],
           "sequentialminus": [
            [
             0,
             "#0d0887"
            ],
            [
             0.1111111111111111,
             "#46039f"
            ],
            [
             0.2222222222222222,
             "#7201a8"
            ],
            [
             0.3333333333333333,
             "#9c179e"
            ],
            [
             0.4444444444444444,
             "#bd3786"
            ],
            [
             0.5555555555555556,
             "#d8576b"
            ],
            [
             0.6666666666666666,
             "#ed7953"
            ],
            [
             0.7777777777777778,
             "#fb9f3a"
            ],
            [
             0.8888888888888888,
             "#fdca26"
            ],
            [
             1,
             "#f0f921"
            ]
           ]
          },
          "colorway": [
           "#636efa",
           "#EF553B",
           "#00cc96",
           "#ab63fa",
           "#FFA15A",
           "#19d3f3",
           "#FF6692",
           "#B6E880",
           "#FF97FF",
           "#FECB52"
          ],
          "font": {
           "color": "#2a3f5f"
          },
          "geo": {
           "bgcolor": "white",
           "lakecolor": "white",
           "landcolor": "#E5ECF6",
           "showlakes": true,
           "showland": true,
           "subunitcolor": "white"
          },
          "hoverlabel": {
           "align": "left"
          },
          "hovermode": "closest",
          "mapbox": {
           "style": "light"
          },
          "paper_bgcolor": "white",
          "plot_bgcolor": "#E5ECF6",
          "polar": {
           "angularaxis": {
            "gridcolor": "white",
            "linecolor": "white",
            "ticks": ""
           },
           "bgcolor": "#E5ECF6",
           "radialaxis": {
            "gridcolor": "white",
            "linecolor": "white",
            "ticks": ""
           }
          },
          "scene": {
           "xaxis": {
            "backgroundcolor": "#E5ECF6",
            "gridcolor": "white",
            "gridwidth": 2,
            "linecolor": "white",
            "showbackground": true,
            "ticks": "",
            "zerolinecolor": "white"
           },
           "yaxis": {
            "backgroundcolor": "#E5ECF6",
            "gridcolor": "white",
            "gridwidth": 2,
            "linecolor": "white",
            "showbackground": true,
            "ticks": "",
            "zerolinecolor": "white"
           },
           "zaxis": {
            "backgroundcolor": "#E5ECF6",
            "gridcolor": "white",
            "gridwidth": 2,
            "linecolor": "white",
            "showbackground": true,
            "ticks": "",
            "zerolinecolor": "white"
           }
          },
          "shapedefaults": {
           "line": {
            "color": "#2a3f5f"
           }
          },
          "ternary": {
           "aaxis": {
            "gridcolor": "white",
            "linecolor": "white",
            "ticks": ""
           },
           "baxis": {
            "gridcolor": "white",
            "linecolor": "white",
            "ticks": ""
           },
           "bgcolor": "#E5ECF6",
           "caxis": {
            "gridcolor": "white",
            "linecolor": "white",
            "ticks": ""
           }
          },
          "title": {
           "x": 0.05
          },
          "xaxis": {
           "automargin": true,
           "gridcolor": "white",
           "linecolor": "white",
           "ticks": "",
           "title": {
            "standoff": 15
           },
           "zerolinecolor": "white",
           "zerolinewidth": 2
          },
          "yaxis": {
           "automargin": true,
           "gridcolor": "white",
           "linecolor": "white",
           "ticks": "",
           "title": {
            "standoff": 15
           },
           "zerolinecolor": "white",
           "zerolinewidth": 2
          }
         }
        },
        "title": {
         "text": "Balance: 22092.277156 USD ~ Equity: 19160.188472 ~ Margin: 10502.648755 ~ Free Margin: 8657.539717 ~ Margin Level: 1.824320"
        },
        "width": 1400,
        "xaxis": {
         "tickformat": "%Y-%m-%d"
        },
        "yaxis": {
         "tickfont": {
          "color": "rgba(0.12156862745098039, 0.4666666666666667, 0.7058823529411765, 0.8)"
         }
        },
        "yaxis2": {
         "overlaying": "y",
         "tickfont": {
          "color": "rgba(0.5643983083429451, 0.36993464052287583, 0.5132641291810843, 0.8)"
         }
        },
        "yaxis3": {
         "overlaying": "y",
         "tickfont": {
          "color": "rgba(0.7372549019607844, 0.7411764705882353, 0.13333333333333333, 0.8)"
         }
        }
       }
      }
     },
     "metadata": {},
     "output_type": "display_data"
    }
   ],
   "source": [
    "import gymnasium as gym\n",
    "from gym_mtsim import (\n",
    "    Timeframe, SymbolInfo,\n",
    "    MtSimulator, OrderType, Order, SymbolNotFound, OrderNotFound,\n",
    "    MtEnv,\n",
    "    FOREX_DATA_PATH, STOCKS_DATA_PATH, CRYPTO_DATA_PATH, MIXED_DATA_PATH,\n",
    ")\n",
    "from stable_baselines3 import A2C\n",
    "from stable_baselines3.common.vec_env import DummyVecEnv\n",
    "import random\n",
    "import numpy as np\n",
    "import torch\n",
    "\n",
    "env_name = 'forex-hedge-v0'\n",
    "\n",
    "# reproduce training and test\n",
    "seed = 2024\n",
    "random.seed(seed)\n",
    "np.random.seed(seed)\n",
    "torch.manual_seed(seed)\n",
    "\n",
    "env = gym.make(env_name)\n",
    "model = A2C('MultiInputPolicy', env, verbose=0)\n",
    "model.learn(total_timesteps=1000)\n",
    "\n",
    "observation, info = env.reset(seed=seed)\n",
    "\n",
    "while True:\n",
    "    action, _states = model.predict(observation)\n",
    "    observation, reward, terminated, truncated, info = env.step(action)\n",
    "    done = terminated or truncated\n",
    "\n",
    "    if done:\n",
    "        break\n",
    "\n",
    "env.unwrapped.render('advanced_figure', time_format='%Y-%m-%d')"
   ]
  },
  {
   "attachments": {},
   "cell_type": "markdown",
   "metadata": {},
   "source": [
    "## References\n",
    "\n",
    "* [https://www.mql5.com/en/docs/python_metatrader5](https://www.mql5.com/en/docs/python_metatrader5)\n",
    "* [https://www.metatrader5.com/en/terminal/help/trading_advanced/margin_forex](https://www.metatrader5.com/en/terminal/help/trading_advanced/margin_forex)\n",
    "* [https://admiralmarkets.com/education/articles/forex-basics/margin-in-forex-trading-margin-level-vs-margin-call](https://admiralmarkets.com/education/articles/forex-basics/margin-in-forex-trading-margin-level-vs-margin-call)\n",
    "* [https://www.investopedia.com/articles/forex/12/calculating-profits-and-losses-of-forex-trades.asp](https://www.investopedia.com/articles/forex/12/calculating-profits-and-losses-of-forex-trades.asp)\n"
   ]
  }
 ],
 "metadata": {
  "interpreter": {
   "hash": "0abee77d591a174194b91b850e12395de882ac6d36de3e6e63e8904e4cff1216"
  },
  "kernelspec": {
   "display_name": "Python 3.9.6 64-bit ('venv': venv)",
   "name": "python3"
  },
  "language_info": {
   "codemirror_mode": {
    "name": "ipython",
    "version": 3
   },
   "file_extension": ".py",
   "mimetype": "text/x-python",
   "name": "python",
   "nbconvert_exporter": "python",
   "pygments_lexer": "ipython3",
   "version": "3.9.6"
  }
 },
 "nbformat": 4,
 "nbformat_minor": 2
}
